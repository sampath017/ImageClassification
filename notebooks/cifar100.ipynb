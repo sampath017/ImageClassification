{
 "cells": [
  {
   "cell_type": "code",
   "execution_count": 1,
   "metadata": {
    "execution": {
     "iopub.execute_input": "2024-10-16T16:18:53.484908Z",
     "iopub.status.busy": "2024-10-16T16:18:53.484604Z",
     "iopub.status.idle": "2024-10-16T16:18:58.953389Z",
     "shell.execute_reply": "2024-10-16T16:18:58.952570Z",
     "shell.execute_reply.started": "2024-10-16T16:18:53.484876Z"
    },
    "trusted": true
   },
   "outputs": [],
   "source": [
    "import torch\n",
    "from torch import optim\n",
    "from torchsummary import summary\n",
    "from torch.utils.data import random_split, DataLoader\n",
    "from torchvision.datasets import CIFAR100\n",
    "from torchvision.transforms import v2\n",
    "from pathlib import Path\n",
    "import wandb\n",
    "import sys\n",
    "import os\n",
    "\n",
    "sys.path.append(\"../src\")\n",
    "\n",
    "from trainer import Trainer\n",
    "from module import ResNetModule\n",
    "from utils import model_size, load_from_checkpoint\n",
    "from callbacks import OverfitCallback, EarlyStoppingCallback\n",
    "from logger import WandbLogger\n",
    "from dataset import MapDataset\n",
    "from models import ResNet18\n",
    "import settings as s"
   ]
  },
  {
   "cell_type": "code",
   "execution_count": 2,
   "metadata": {
    "execution": {
     "iopub.execute_input": "2024-10-16T16:19:22.754626Z",
     "iopub.status.busy": "2024-10-16T16:19:22.754254Z",
     "iopub.status.idle": "2024-10-16T16:19:22.807647Z",
     "shell.execute_reply": "2024-10-16T16:19:22.806609Z",
     "shell.execute_reply.started": "2024-10-16T16:19:22.754579Z"
    },
    "id": "qrqvKqDjWyD9",
    "trusted": true
   },
   "outputs": [],
   "source": [
    "data_path = Path(\"../data\")\n",
    "logs_path = Path(\"../logs\")\n",
    "logs_path.mkdir(exist_ok=True)"
   ]
  },
  {
   "cell_type": "code",
   "execution_count": 3,
   "metadata": {
    "execution": {
     "iopub.execute_input": "2024-10-16T16:18:59.005310Z",
     "iopub.status.busy": "2024-10-16T16:18:59.005021Z",
     "iopub.status.idle": "2024-10-16T16:19:22.752936Z",
     "shell.execute_reply": "2024-10-16T16:19:22.751992Z",
     "shell.execute_reply.started": "2024-10-16T16:18:59.005276Z"
    },
    "id": "e48Wu90cQZYP",
    "outputId": "d2d91142-1b68-465b-d802-9a5c73628a8a",
    "trusted": true
   },
   "outputs": [],
   "source": [
    "logger = WandbLogger(\n",
    "    project_name=s.project_name,\n",
    "    config={\n",
    "        \"model\": s.model,\n",
    "        \"dataset\": s.dataset,\n",
    "        \"max_epochs\": s.max_epochs,\n",
    "        \"optimizer\": s.optimizer,\n",
    "        \"lr_scheduler\": s.lr_scheduler,\n",
    "        \"test_run\": s.test_run\n",
    "    },\n",
    "    logs_path=logs_path,\n",
    "    offline=s.wandb_offline\n",
    ")"
   ]
  },
  {
   "cell_type": "code",
   "execution_count": 4,
   "metadata": {
    "execution": {
     "iopub.execute_input": "2024-10-16T16:19:22.817159Z",
     "iopub.status.busy": "2024-10-16T16:19:22.816408Z",
     "iopub.status.idle": "2024-10-16T16:19:26.500427Z",
     "shell.execute_reply": "2024-10-16T16:19:26.499455Z",
     "shell.execute_reply.started": "2024-10-16T16:19:22.817113Z"
    },
    "id": "ZdeO0nyOXfTK",
    "trusted": true
   },
   "outputs": [
    {
     "name": "stdout",
     "output_type": "stream",
     "text": [
      "Files already downloaded and verified\n"
     ]
    }
   ],
   "source": [
    "# cpu_count = os.cpu_count()\n",
    "cpu_count = 7\n",
    "\n",
    "dataset = CIFAR100(data_path, train=True, download=True)\n",
    "\n",
    "train_dataset, val_dataset = random_split(\n",
    "    dataset, [s.dataset[\"train_split\"], s.dataset[\"val_split\"]]\n",
    ")\n",
    "\n",
    "normalize_transforms = v2.Compose([\n",
    "    # Normalize\n",
    "    v2.ToImage(),\n",
    "    v2.ToDtype(torch.float32, scale=True),\n",
    "    v2.Normalize(mean=(0.4914, 0.4822, 0.4465), std=(0.2023, 0.1994, 0.2010))\n",
    "])\n",
    "\n",
    "train_transforms = v2.Compose([\n",
    "    v2.RandomCrop(size=(32, 32), padding=4, padding_mode='reflect'),\n",
    "    v2.RandomHorizontalFlip(),\n",
    "    v2.RandomVerticalFlip(p=0.2),\n",
    "    v2.ColorJitter(brightness=0.2, contrast=0.2, saturation=0.2, hue=0.1),\n",
    "    v2.RandomRotation(degrees=15),\n",
    "    v2.RandomAffine(degrees=0, translate=(0.1, 0.1)),\n",
    "    v2.RandomGrayscale(p=0.1),\n",
    "\n",
    "    normalize_transforms\n",
    "])\n",
    "\n",
    "val_transforms = normalize_transforms\n",
    "\n",
    "train_dataset = MapDataset(train_dataset, transform=train_transforms)\n",
    "val_dataset = MapDataset(val_dataset, transform=val_transforms)\n",
    "\n",
    "train_dataloader = DataLoader(\n",
    "    train_dataset, batch_size=s.dataset[\"batch_size\"], shuffle=True, num_workers=cpu_count)\n",
    "val_dataloader = DataLoader(\n",
    "    val_dataset, batch_size=s.dataset[\"batch_size\"],  num_workers=cpu_count)"
   ]
  },
  {
   "cell_type": "code",
   "execution_count": 5,
   "metadata": {},
   "outputs": [],
   "source": [
    "callbacks = [\n",
    "    EarlyStoppingCallback(min_val_accuracy=90.0, accuracy_diff=5.0, wait_epochs=5),\n",
    "    # OverfitCallback(limit_batches=1, batch_size=10, max_epochs=500, augument_data=False)\n",
    "]"
   ]
  },
  {
   "cell_type": "code",
   "execution_count": 6,
   "metadata": {},
   "outputs": [
    {
     "name": "stdout",
     "output_type": "stream",
     "text": [
      "----------------------------------------------------------------\n",
      "        Layer (type)               Output Shape         Param #\n",
      "================================================================\n",
      "            Conv2d-1          [512, 64, 32, 32]           1,728\n",
      "       BatchNorm2d-2          [512, 64, 32, 32]             128\n",
      "              ReLU-3          [512, 64, 32, 32]               0\n",
      "         ConvBlock-4          [512, 64, 32, 32]               0\n",
      "            Conv2d-5         [512, 128, 32, 32]          73,728\n",
      "       BatchNorm2d-6         [512, 128, 32, 32]             256\n",
      "              ReLU-7         [512, 128, 32, 32]               0\n",
      "         ConvBlock-8         [512, 128, 32, 32]               0\n",
      "            Conv2d-9         [512, 128, 32, 32]         147,456\n",
      "      BatchNorm2d-10         [512, 128, 32, 32]             256\n",
      "             ReLU-11         [512, 128, 32, 32]               0\n",
      "        ConvBlock-12         [512, 128, 32, 32]               0\n",
      "           Conv2d-13         [512, 128, 32, 32]         147,456\n",
      "      BatchNorm2d-14         [512, 128, 32, 32]             256\n",
      "             ReLU-15         [512, 128, 32, 32]               0\n",
      "        ConvBlock-16         [512, 128, 32, 32]               0\n",
      "         ResBlock-17         [512, 128, 32, 32]               0\n",
      "           Conv2d-18         [512, 256, 16, 16]         294,912\n",
      "      BatchNorm2d-19         [512, 256, 16, 16]             512\n",
      "             ReLU-20         [512, 256, 16, 16]               0\n",
      "        ConvBlock-21         [512, 256, 16, 16]               0\n",
      "           Conv2d-22         [512, 512, 16, 16]       1,179,648\n",
      "      BatchNorm2d-23         [512, 512, 16, 16]           1,024\n",
      "             ReLU-24         [512, 512, 16, 16]               0\n",
      "        ConvBlock-25         [512, 512, 16, 16]               0\n",
      "           Conv2d-26         [512, 512, 16, 16]       2,359,296\n",
      "      BatchNorm2d-27         [512, 512, 16, 16]           1,024\n",
      "             ReLU-28         [512, 512, 16, 16]               0\n",
      "        ConvBlock-29         [512, 512, 16, 16]               0\n",
      "           Conv2d-30         [512, 512, 16, 16]       2,359,296\n",
      "      BatchNorm2d-31         [512, 512, 16, 16]           1,024\n",
      "             ReLU-32         [512, 512, 16, 16]               0\n",
      "        ConvBlock-33         [512, 512, 16, 16]               0\n",
      "         ResBlock-34         [512, 512, 16, 16]               0\n",
      "           Conv2d-35           [512, 512, 8, 8]       2,359,296\n",
      "      BatchNorm2d-36           [512, 512, 8, 8]           1,024\n",
      "             ReLU-37           [512, 512, 8, 8]               0\n",
      "        ConvBlock-38           [512, 512, 8, 8]               0\n",
      "           Conv2d-39           [512, 512, 8, 8]       2,359,296\n",
      "      BatchNorm2d-40           [512, 512, 8, 8]           1,024\n",
      "             ReLU-41           [512, 512, 8, 8]               0\n",
      "        ConvBlock-42           [512, 512, 8, 8]               0\n",
      "           Conv2d-43           [512, 512, 8, 8]       2,359,296\n",
      "      BatchNorm2d-44           [512, 512, 8, 8]           1,024\n",
      "             ReLU-45           [512, 512, 8, 8]               0\n",
      "        ConvBlock-46           [512, 512, 8, 8]               0\n",
      "           Conv2d-47           [512, 512, 8, 8]       2,359,296\n",
      "      BatchNorm2d-48           [512, 512, 8, 8]           1,024\n",
      "             ReLU-49           [512, 512, 8, 8]               0\n",
      "        ConvBlock-50           [512, 512, 8, 8]               0\n",
      "         ResBlock-51           [512, 512, 8, 8]               0\n",
      "           Conv2d-52           [512, 512, 4, 4]       2,359,296\n",
      "      BatchNorm2d-53           [512, 512, 4, 4]           1,024\n",
      "             ReLU-54           [512, 512, 4, 4]               0\n",
      "        ConvBlock-55           [512, 512, 4, 4]               0\n",
      "           Conv2d-56           [512, 512, 4, 4]       2,359,296\n",
      "      BatchNorm2d-57           [512, 512, 4, 4]           1,024\n",
      "             ReLU-58           [512, 512, 4, 4]               0\n",
      "        ConvBlock-59           [512, 512, 4, 4]               0\n",
      "           Conv2d-60           [512, 512, 4, 4]       2,359,296\n",
      "      BatchNorm2d-61           [512, 512, 4, 4]           1,024\n",
      "             ReLU-62           [512, 512, 4, 4]               0\n",
      "        ConvBlock-63           [512, 512, 4, 4]               0\n",
      "           Conv2d-64           [512, 512, 4, 4]       2,359,296\n",
      "      BatchNorm2d-65           [512, 512, 4, 4]           1,024\n",
      "             ReLU-66           [512, 512, 4, 4]               0\n",
      "        ConvBlock-67           [512, 512, 4, 4]               0\n",
      "         ResBlock-68           [512, 512, 4, 4]               0\n",
      "           Conv2d-69           [512, 512, 4, 4]       2,359,808\n",
      "      BatchNorm2d-70           [512, 512, 4, 4]           1,024\n",
      "             ReLU-71           [512, 512, 4, 4]               0\n",
      "        ConvBlock-72           [512, 512, 4, 4]               0\n",
      "AdaptiveAvgPool2d-73           [512, 512, 1, 1]               0\n",
      "          Flatten-74                 [512, 512]               0\n",
      "           Linear-75                 [512, 100]          51,300\n",
      "================================================================\n",
      "Total params: 27,862,692\n",
      "Trainable params: 27,862,692\n",
      "Non-trainable params: 0\n",
      "----------------------------------------------------------------\n",
      "Input size (MB): 6.00\n",
      "Forward/backward pass size (MB): 18212.39\n",
      "Params size (MB): 106.29\n",
      "Estimated Total Size (MB): 18324.68\n",
      "----------------------------------------------------------------\n"
     ]
    }
   ],
   "source": [
    "model = ResNet18(num_classes=100)\n",
    "summary(model, input_size=(train_dataset[0][0].shape), batch_size=s.dataset[\"batch_size\"], device=\"cpu\")"
   ]
  },
  {
   "cell_type": "code",
   "execution_count": 7,
   "metadata": {},
   "outputs": [
    {
     "name": "stdout",
     "output_type": "stream",
     "text": [
      "OneCycleLR\n"
     ]
    }
   ],
   "source": [
    "module = ResNetModule(model)\n",
    "\n",
    "optimizer = optim.AdamW(\n",
    "    params=module.model.parameters(),\n",
    "    weight_decay=s.optimizer[\"weight_decay\"] if s.optimizer[\"weight_decay\"] else 0.01\n",
    ")\n",
    "\n",
    "try:\n",
    "    if s.lr_scheduler[\"name\"] == \"OneCycleLR\":\n",
    "        lr_scheduler = torch.optim.lr_scheduler.OneCycleLR(\n",
    "            optimizer=optimizer,\n",
    "            max_lr=s.lr_scheduler[\"max_lr\"],\n",
    "            epochs=s.max_epochs,\n",
    "            steps_per_epoch=len(train_dataloader),\n",
    "        )\n",
    "\n",
    "        print(s.lr_scheduler[\"name\"])\n",
    "except TypeError:\n",
    "    lr_scheduler = None\n",
    "    print(\"lr_scheduler is None!\")"
   ]
  },
  {
   "cell_type": "code",
   "execution_count": 8,
   "metadata": {},
   "outputs": [],
   "source": [
    "# module.model, optimizer = load_from_checkpoint(\n",
    "#     path=\"../logs/wandb/offline-run-20241215_132918-77n093vj/checkpoints/best.pt\",\n",
    "#     model=module.model,\n",
    "#     optimizer=optimizer\n",
    "# )\n",
    "\n",
    "# summary(module.model, input_size=(train_dataset[0][0].shape), batch_size=s.dataset[\"batch_size\"], device=\"cpu\")"
   ]
  },
  {
   "cell_type": "code",
   "execution_count": 9,
   "metadata": {
    "execution": {
     "iopub.execute_input": "2024-10-16T16:19:26.511478Z",
     "iopub.status.busy": "2024-10-16T16:19:26.511073Z",
     "iopub.status.idle": "2024-10-16T16:19:26.783322Z",
     "shell.execute_reply": "2024-10-16T16:19:26.782365Z",
     "shell.execute_reply.started": "2024-10-16T16:19:26.511414Z"
    },
    "id": "jJEUcS0-Xf9N",
    "trusted": true
   },
   "outputs": [
    {
     "name": "stdout",
     "output_type": "stream",
     "text": [
      "Using device: cuda!\n"
     ]
    }
   ],
   "source": [
    "trainer = Trainer(\n",
    "    module=module,\n",
    "    logger=logger,\n",
    "    optimizer=optimizer,\n",
    "    callbacks=callbacks,\n",
    "    logs_path=logs_path,\n",
    "    fast_dev_run=s.fast_dev_run,\n",
    "    limit_batches=s.limit_batches,\n",
    "    lr_scheduler=lr_scheduler,\n",
    "    save_checkpoint_type=\"best_val\",\n",
    "    num_workers=cpu_count\n",
    ")"
   ]
  },
  {
   "cell_type": "code",
   "execution_count": 10,
   "metadata": {
    "execution": {
     "iopub.execute_input": "2024-10-16T16:19:26.784997Z",
     "iopub.status.busy": "2024-10-16T16:19:26.784612Z",
     "iopub.status.idle": "2024-10-16T16:33:32.678177Z",
     "shell.execute_reply": "2024-10-16T16:33:32.677331Z",
     "shell.execute_reply.started": "2024-10-16T16:19:26.784949Z"
    },
    "id": "9SmUWgkRXkng",
    "trusted": true
   },
   "outputs": [
    {
     "name": "stderr",
     "output_type": "stream",
     "text": [
      "\u001b[34m\u001b[1mwandb\u001b[0m: Using wandb-core as the SDK backend.  Please refer to https://wandb.me/wandb-core for more information.\n",
      "\u001b[34m\u001b[1mwandb\u001b[0m: Currently logged in as: \u001b[33msampath017\u001b[0m. Use \u001b[1m`wandb login --relogin`\u001b[0m to force relogin\n"
     ]
    },
    {
     "data": {
      "text/html": [
       "Tracking run with wandb version 0.18.7"
      ],
      "text/plain": [
       "<IPython.core.display.HTML object>"
      ]
     },
     "metadata": {},
     "output_type": "display_data"
    },
    {
     "data": {
      "text/html": [
       "Run data is saved locally in <code>../logs/wandb/run-20241227_104133-24z2beff</code>"
      ],
      "text/plain": [
       "<IPython.core.display.HTML object>"
      ]
     },
     "metadata": {},
     "output_type": "display_data"
    },
    {
     "data": {
      "text/html": [
       "Syncing run <strong><a href='https://wandb.ai/sampath017/ImageClassification/runs/24z2beff' target=\"_blank\">prime-meadow-361</a></strong> to <a href='https://wandb.ai/sampath017/ImageClassification' target=\"_blank\">Weights & Biases</a> (<a href='https://wandb.me/developer-guide' target=\"_blank\">docs</a>)<br/>"
      ],
      "text/plain": [
       "<IPython.core.display.HTML object>"
      ]
     },
     "metadata": {},
     "output_type": "display_data"
    },
    {
     "data": {
      "text/html": [
       " View project at <a href='https://wandb.ai/sampath017/ImageClassification' target=\"_blank\">https://wandb.ai/sampath017/ImageClassification</a>"
      ],
      "text/plain": [
       "<IPython.core.display.HTML object>"
      ]
     },
     "metadata": {},
     "output_type": "display_data"
    },
    {
     "data": {
      "text/html": [
       " View run at <a href='https://wandb.ai/sampath017/ImageClassification/runs/24z2beff' target=\"_blank\">https://wandb.ai/sampath017/ImageClassification/runs/24z2beff</a>"
      ],
      "text/plain": [
       "<IPython.core.display.HTML object>"
      ]
     },
     "metadata": {},
     "output_type": "display_data"
    },
    {
     "name": "stdout",
     "output_type": "stream",
     "text": [
      "Time per epoch: 64.01 seconds\n",
      "Epoch: 0, train_accuracy: 4.36, val_accuracy: 5.49, lr: 0.0004\n",
      "Epoch: 1, train_accuracy: 7.46, val_accuracy: 7.91, lr: 0.0005\n",
      "Epoch: 2, train_accuracy: 10.11, val_accuracy: 11.88, lr: 0.0008\n",
      "Epoch: 3, train_accuracy: 12.70, val_accuracy: 16.38, lr: 0.0013\n",
      "Epoch: 4, train_accuracy: 15.73, val_accuracy: 16.92, lr: 0.0020\n",
      "Epoch: 5, train_accuracy: 18.85, val_accuracy: 18.90, lr: 0.0028\n",
      "Epoch: 6, train_accuracy: 21.57, val_accuracy: 19.63, lr: 0.0037\n",
      "Epoch: 7, train_accuracy: 24.92, val_accuracy: 23.49, lr: 0.0047\n",
      "Epoch: 8, train_accuracy: 28.20, val_accuracy: 23.76, lr: 0.0057\n",
      "Epoch: 9, train_accuracy: 31.06, val_accuracy: 22.17, lr: 0.0067\n",
      "Epoch: 10, train_accuracy: 34.13, val_accuracy: 31.74, lr: 0.0076\n",
      "Epoch: 11, train_accuracy: 36.36, val_accuracy: 33.38, lr: 0.0084\n",
      "Epoch: 12, train_accuracy: 39.17, val_accuracy: 38.61, lr: 0.0091\n",
      "Epoch: 13, train_accuracy: 41.53, val_accuracy: 38.89, lr: 0.0096\n",
      "Epoch: 14, train_accuracy: 44.00, val_accuracy: 45.08, lr: 0.0099\n",
      "Epoch: 15, train_accuracy: 45.98, val_accuracy: 43.23, lr: 0.0100\n",
      "Epoch: 16, train_accuracy: 47.84, val_accuracy: 43.20, lr: 0.0100\n",
      "Epoch: 17, train_accuracy: 49.99, val_accuracy: 50.28, lr: 0.0099\n",
      "Epoch: 18, train_accuracy: 52.12, val_accuracy: 48.74, lr: 0.0098\n",
      "Epoch: 19, train_accuracy: 53.61, val_accuracy: 50.84, lr: 0.0097\n",
      "Epoch: 20, train_accuracy: 55.17, val_accuracy: 51.09, lr: 0.0095\n",
      "Epoch: 21, train_accuracy: 56.99, val_accuracy: 54.70, lr: 0.0093\n",
      "Epoch: 22, train_accuracy: 58.33, val_accuracy: 55.15, lr: 0.0090\n",
      "Epoch: 23, train_accuracy: 59.49, val_accuracy: 56.76, lr: 0.0088\n",
      "Epoch: 24, train_accuracy: 60.94, val_accuracy: 57.31, lr: 0.0085\n",
      "Epoch: 25, train_accuracy: 62.62, val_accuracy: 56.14, lr: 0.0081\n",
      "Epoch: 26, train_accuracy: 63.81, val_accuracy: 59.31, lr: 0.0077\n",
      "Epoch: 27, train_accuracy: 65.13, val_accuracy: 58.60, lr: 0.0074\n",
      "Epoch: 28, train_accuracy: 67.08, val_accuracy: 58.97, lr: 0.0070\n",
      "Epoch: 29, train_accuracy: 68.76, val_accuracy: 59.23, lr: 0.0065\n",
      "Epoch: 30, train_accuracy: 69.96, val_accuracy: 58.92, lr: 0.0061\n",
      "Epoch: 31, train_accuracy: 71.32, val_accuracy: 62.26, lr: 0.0057\n",
      "Epoch: 32, train_accuracy: 73.62, val_accuracy: 64.13, lr: 0.0052\n",
      "Epoch: 33, train_accuracy: 74.45, val_accuracy: 63.85, lr: 0.0048\n",
      "Epoch: 34, train_accuracy: 76.21, val_accuracy: 64.31, lr: 0.0043\n",
      "Epoch: 35, train_accuracy: 78.01, val_accuracy: 65.08, lr: 0.0039\n",
      "Epoch: 36, train_accuracy: 79.45, val_accuracy: 66.31, lr: 0.0034\n",
      "Epoch: 37, train_accuracy: 80.49, val_accuracy: 66.03, lr: 0.0030\n",
      "Epoch: 38, train_accuracy: 82.03, val_accuracy: 66.09, lr: 0.0026\n",
      "Epoch: 39, train_accuracy: 83.26, val_accuracy: 66.71, lr: 0.0022\n",
      "Epoch: 40, train_accuracy: 84.76, val_accuracy: 67.53, lr: 0.0019\n",
      "Epoch: 41, train_accuracy: 85.72, val_accuracy: 67.49, lr: 0.0015\n",
      "Epoch: 42, train_accuracy: 87.02, val_accuracy: 67.84, lr: 0.0012\n",
      "Epoch: 43, train_accuracy: 87.47, val_accuracy: 68.40, lr: 0.0010\n",
      "Epoch: 44, train_accuracy: 88.23, val_accuracy: 68.46, lr: 0.0007\n",
      "Epoch: 45, train_accuracy: 88.49, val_accuracy: 68.00, lr: 0.0005\n",
      "Epoch: 46, train_accuracy: 89.09, val_accuracy: 68.54, lr: 0.0003\n",
      "Epoch: 47, train_accuracy: 89.40, val_accuracy: 68.53, lr: 0.0002\n",
      "Epoch: 48, train_accuracy: 89.54, val_accuracy: 68.60, lr: 0.0001\n",
      "Epoch: 49, train_accuracy: 89.46, val_accuracy: 68.66, lr: 0.0000\n"
     ]
    },
    {
     "data": {
      "application/vnd.jupyter.widget-view+json": {
       "model_id": "95f075c9cbbf474c9537c856f87e5910",
       "version_major": 2,
       "version_minor": 0
      },
      "text/plain": [
       "VBox(children=(Label(value='0.014 MB of 0.014 MB uploaded\\r'), FloatProgress(value=1.0, max=1.0)))"
      ]
     },
     "metadata": {},
     "output_type": "display_data"
    },
    {
     "data": {
      "text/html": [
       "\n",
       "    <style>\n",
       "        .wandb-row {\n",
       "            display: flex;\n",
       "            flex-direction: row;\n",
       "            flex-wrap: wrap;\n",
       "            justify-content: flex-start;\n",
       "            width: 100%;\n",
       "        }\n",
       "        .wandb-col {\n",
       "            display: flex;\n",
       "            flex-direction: column;\n",
       "            flex-basis: 100%;\n",
       "            flex: 1;\n",
       "            padding: 10px;\n",
       "        }\n",
       "    </style>\n",
       "<div class=\"wandb-row\"><div class=\"wandb-col\"><h3>Run history:</h3><br/><table class=\"wandb\"><tr><td>epoch</td><td>▁▁▁▁▁▂▂▂▂▂▃▃▃▃▃▄▄▄▄▄▄▄▅▅▅▆▆▆▆▆▇▇▇▇▇█████</td></tr><tr><td>epoch_train_accuracy</td><td>▁▁▁▂▂▂▃▃▃▃▄▄▄▅▅▅▅▅▅▆▆▆▆▆▆▇▇▇▇▇▇▇████████</td></tr><tr><td>epoch_train_loss</td><td>██▇▇▇▆▆▅▅▅▄▄▄▄▄▃▃▃▃▃▃▃▂▂▂▂▂▂▂▂▁▁▁▁▁▁▁▁▁▁</td></tr><tr><td>epoch_val_accuracy</td><td>▁▁▂▂▂▃▃▃▄▄▅▅▅▅▆▆▆▆▇▇▇▇▇▇▇▇▇█████████████</td></tr><tr><td>epoch_val_loss</td><td>██▇▆▆▆▆▆▄▄▄▃▃▃▂▂▂▂▂▂▂▂▂▂▂▁▁▁▁▁▁▁▁▁▁▁▁▁▁▁</td></tr><tr><td>lr</td><td>▁▁▁▁▂▃▄▄▄▄▆▇█████████▇▇▇▇▆▆▅▅▄▄▃▃▃▃▂▂▁▁▁</td></tr><tr><td>step_train_accuracy</td><td>▁▂▂▂▂▃▃▄▄▄▅▅▅▅▅▅▅▅▅▆▅▆▆▆▆▆▆▆▇▇▇█▇███████</td></tr><tr><td>step_train_loss</td><td>██▇▇▇▆▆▆▅▅▅▅▅▄▄▄▃▃▃▃▃▃▃▂▃▂▃▃▂▂▂▂▁▁▁▁▁▁▁▁</td></tr><tr><td>step_val_accuracy</td><td>▁▂▂▂▃▄▅▅▅▅▅▆▅▆▆▆▆▆▆▆▆▆▇▇▇▇▇▇▇▇▇▇▇▇█▇▇▇▇█</td></tr><tr><td>step_val_loss</td><td>█▇▇▆▆▇▇▇▆▆▅▄▃▃▃▂▂▂▂▂▂▂▂▂▂▂▁▂▂▂▂▁▂▂▂▂▂▂▁▁</td></tr><tr><td>training_step</td><td>▁▁▁▂▂▂▂▂▂▃▃▃▄▄▄▄▄▄▅▅▅▅▅▅▅▅▅▆▆▆▇▇▇▇▇▇▇███</td></tr><tr><td>validation_step</td><td>▁▁▁▂▂▂▂▂▂▂▃▃▃▃▃▃▃▃▄▄▄▄▄▄▄▅▅▅▅▅▅▆▆▆▇▇▇▇▇█</td></tr></table><br/></div><div class=\"wandb-col\"><h3>Run summary:</h3><br/><table class=\"wandb\"><tr><td>epoch</td><td>49</td></tr><tr><td>epoch_train_accuracy</td><td>89.45977</td></tr><tr><td>epoch_train_loss</td><td>0.35859</td></tr><tr><td>epoch_val_accuracy</td><td>68.65852</td></tr><tr><td>epoch_val_loss</td><td>1.36675</td></tr><tr><td>lr</td><td>2e-05</td></tr><tr><td>model_architecture</td><td>ResNet18(\n",
       "  (feature...</td></tr><tr><td>step_train_accuracy</td><td>89.13044</td></tr><tr><td>step_train_loss</td><td>0.30384</td></tr><tr><td>step_val_accuracy</td><td>67.76315</td></tr><tr><td>step_val_loss</td><td>1.58043</td></tr><tr><td>training_step</td><td>3450</td></tr><tr><td>validation_step</td><td>1500</td></tr></table><br/></div></div>"
      ],
      "text/plain": [
       "<IPython.core.display.HTML object>"
      ]
     },
     "metadata": {},
     "output_type": "display_data"
    },
    {
     "data": {
      "text/html": [
       " View run <strong style=\"color:#cdcd00\">prime-meadow-361</strong> at: <a href='https://wandb.ai/sampath017/ImageClassification/runs/24z2beff' target=\"_blank\">https://wandb.ai/sampath017/ImageClassification/runs/24z2beff</a><br/> View project at: <a href='https://wandb.ai/sampath017/ImageClassification' target=\"_blank\">https://wandb.ai/sampath017/ImageClassification</a><br/>Synced 5 W&B file(s), 0 media file(s), 2 artifact file(s) and 0 other file(s)"
      ],
      "text/plain": [
       "<IPython.core.display.HTML object>"
      ]
     },
     "metadata": {},
     "output_type": "display_data"
    },
    {
     "data": {
      "text/html": [
       "Find logs at: <code>../logs/wandb/run-20241227_104133-24z2beff/logs</code>"
      ],
      "text/plain": [
       "<IPython.core.display.HTML object>"
      ]
     },
     "metadata": {},
     "output_type": "display_data"
    }
   ],
   "source": [
    "try:\n",
    "    trainer.fit(train_dataloader, val_dataloader)\n",
    "except KeyboardInterrupt as e:\n",
    "    print(\"Run stopped!\")\n",
    "finally:\n",
    "    wandb.finish()"
   ]
  },
  {
   "cell_type": "markdown",
   "metadata": {},
   "source": [
    "[Metrics](https://api.wandb.ai/links/sampath017/iwrrziwg)"
   ]
  },
  {
   "cell_type": "code",
   "execution_count": null,
   "metadata": {},
   "outputs": [],
   "source": []
  }
 ],
 "metadata": {
  "accelerator": "TPU",
  "colab": {
   "gpuType": "V28",
   "provenance": []
  },
  "kaggle": {
   "accelerator": "none",
   "dataSources": [
    {
     "datasetId": 5863031,
     "sourceId": 9608953,
     "sourceType": "datasetVersion"
    }
   ],
   "dockerImageVersionId": 30786,
   "isGpuEnabled": false,
   "isInternetEnabled": true,
   "language": "python",
   "sourceType": "notebook"
  },
  "kernelspec": {
   "display_name": "imageclassification-GD_xkN8h-py3.12",
   "language": "python",
   "name": "python3"
  },
  "language_info": {
   "codemirror_mode": {
    "name": "ipython",
    "version": 3
   },
   "file_extension": ".py",
   "mimetype": "text/x-python",
   "name": "python",
   "nbconvert_exporter": "python",
   "pygments_lexer": "ipython3",
   "version": "3.12.4"
  }
 },
 "nbformat": 4,
 "nbformat_minor": 4
}
