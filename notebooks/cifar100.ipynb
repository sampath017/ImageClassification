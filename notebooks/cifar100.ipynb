{
 "cells": [
  {
   "cell_type": "code",
   "execution_count": 1,
   "metadata": {
    "execution": {
     "iopub.execute_input": "2024-10-16T16:18:53.484908Z",
     "iopub.status.busy": "2024-10-16T16:18:53.484604Z",
     "iopub.status.idle": "2024-10-16T16:18:58.953389Z",
     "shell.execute_reply": "2024-10-16T16:18:58.952570Z",
     "shell.execute_reply.started": "2024-10-16T16:18:53.484876Z"
    },
    "trusted": true
   },
   "outputs": [],
   "source": [
    "import torch\n",
    "from torch import optim\n",
    "from torchsummary import summary\n",
    "from torch.utils.data import random_split, DataLoader\n",
    "from torchvision.datasets import CIFAR100\n",
    "from torchvision.transforms import v2\n",
    "from pathlib import Path\n",
    "import wandb\n",
    "import os\n",
    "import sys\n",
    "\n",
    "sys.path.append(\"../src\")\n",
    "\n",
    "from trainer import Trainer\n",
    "from module import ResNetModule\n",
    "from utils import model_size, load_from_checkpoint\n",
    "from callbacks import OverfitCallback, EarlyStoppingCallback\n",
    "from logger import WandbLogger\n",
    "from dataset import MapDataset\n",
    "import settings as s"
   ]
  },
  {
   "cell_type": "code",
   "execution_count": 2,
   "metadata": {
    "execution": {
     "iopub.execute_input": "2024-10-16T16:19:22.754626Z",
     "iopub.status.busy": "2024-10-16T16:19:22.754254Z",
     "iopub.status.idle": "2024-10-16T16:19:22.807647Z",
     "shell.execute_reply": "2024-10-16T16:19:22.806609Z",
     "shell.execute_reply.started": "2024-10-16T16:19:22.754579Z"
    },
    "id": "qrqvKqDjWyD9",
    "trusted": true
   },
   "outputs": [],
   "source": [
    "data_path = Path(\"../data\")\n",
    "logs_path = Path(\"../logs\")\n",
    "logs_path.mkdir(exist_ok=True)"
   ]
  },
  {
   "cell_type": "code",
   "execution_count": 3,
   "metadata": {
    "execution": {
     "iopub.execute_input": "2024-10-16T16:18:59.005310Z",
     "iopub.status.busy": "2024-10-16T16:18:59.005021Z",
     "iopub.status.idle": "2024-10-16T16:19:22.752936Z",
     "shell.execute_reply": "2024-10-16T16:19:22.751992Z",
     "shell.execute_reply.started": "2024-10-16T16:18:59.005276Z"
    },
    "id": "e48Wu90cQZYP",
    "outputId": "d2d91142-1b68-465b-d802-9a5c73628a8a",
    "trusted": true
   },
   "outputs": [],
   "source": [
    "logger = WandbLogger(\n",
    "    project_name=s.project_name,\n",
    "    config={\n",
    "        \"model\": s.model,\n",
    "        \"dataset\": s.dataset,\n",
    "        \"max_epochs\": s.max_epochs,\n",
    "        \"optimizer\": s.optimizer,\n",
    "        \"lr_scheduler\": s.lr_scheduler\n",
    "    },\n",
    "    logs_path=logs_path,\n",
    "    offline=s.wandb_offline\n",
    ")"
   ]
  },
  {
   "cell_type": "code",
   "execution_count": 4,
   "metadata": {
    "execution": {
     "iopub.execute_input": "2024-10-16T16:19:22.817159Z",
     "iopub.status.busy": "2024-10-16T16:19:22.816408Z",
     "iopub.status.idle": "2024-10-16T16:19:26.500427Z",
     "shell.execute_reply": "2024-10-16T16:19:26.499455Z",
     "shell.execute_reply.started": "2024-10-16T16:19:22.817113Z"
    },
    "id": "ZdeO0nyOXfTK",
    "trusted": true
   },
   "outputs": [
    {
     "name": "stdout",
     "output_type": "stream",
     "text": [
      "Files already downloaded and verified\n"
     ]
    }
   ],
   "source": [
    "cpu_count = os.cpu_count()\n",
    "# cpu_count = 7\n",
    "\n",
    "dataset = CIFAR100(data_path, train=True, download=True)\n",
    "\n",
    "train_dataset, val_dataset = random_split(\n",
    "    dataset, [s.dataset[\"train_split\"], s.dataset[\"val_split\"]]\n",
    ")\n",
    "\n",
    "normalize_transforms = v2.Compose([\n",
    "    # Normalize\n",
    "    v2.ToImage(),\n",
    "    v2.ToDtype(torch.float32, scale=True),\n",
    "    v2.Normalize(mean=(0.4914, 0.4822, 0.4465), std=(0.2023, 0.1994, 0.2010))\n",
    "])\n",
    "\n",
    "train_transforms = v2.Compose([\n",
    "    # Data auguments\n",
    "    v2.RandomCrop(size=(32, 32), padding=4, padding_mode='reflect'),\n",
    "    v2.RandomHorizontalFlip(),\n",
    "\n",
    "    normalize_transforms\n",
    "])\n",
    "\n",
    "val_transforms = v2.Compose([\n",
    "    normalize_transforms\n",
    "])\n",
    "\n",
    "train_dataset = MapDataset(train_dataset, transform=train_transforms)\n",
    "\n",
    "val_dataset = MapDataset(val_dataset, transform=val_transforms)\n",
    "\n",
    "train_dataloader = DataLoader(\n",
    "    train_dataset, batch_size=s.dataset[\"batch_size\"], shuffle=True, num_workers=cpu_count, pin_memory=True)\n",
    "val_dataloader = DataLoader(\n",
    "    val_dataset, batch_size=s.dataset[\"batch_size\"],  num_workers=cpu_count, pin_memory=True)"
   ]
  },
  {
   "cell_type": "code",
   "execution_count": 5,
   "metadata": {},
   "outputs": [],
   "source": [
    "callbacks = [\n",
    "    EarlyStoppingCallback(min_val_accuracy=90.0, accuracy_diff=5.0, wait_epochs=5),\n",
    "    # OverfitCallback(limit_batches=1, batch_size=10, max_epochs=500, augument_data=False)\n",
    "]"
   ]
  },
  {
   "cell_type": "code",
   "execution_count": 7,
   "metadata": {},
   "outputs": [],
   "source": [
    "module = ResNetModule(toy_model=False)\n",
    "optimizer = optim.AdamW(\n",
    "    params=module.model.parameters(),\n",
    "    weight_decay=s.optimizer[\"weight_decay\"] if s.optimizer[\"weight_decay\"] else 0.01\n",
    ")\n",
    "\n",
    "if s.lr_scheduler[\"name\"] == \"OneCycleLR\":\n",
    "    lr_scheduler = torch.optim.lr_scheduler.OneCycleLR(\n",
    "        optimizer=optimizer,\n",
    "        max_lr=s.lr_scheduler[\"max_lr\"],\n",
    "        epochs=s.max_epochs,\n",
    "        steps_per_epoch=len(train_dataloader)\n",
    "    )\n",
    "\n",
    "try:\n",
    "    lr_scheduler\n",
    "except NameError:\n",
    "    lr_scheduler = None"
   ]
  },
  {
   "cell_type": "code",
   "execution_count": 8,
   "metadata": {},
   "outputs": [
    {
     "name": "stdout",
     "output_type": "stream",
     "text": [
      "----------------------------------------------------------------\n",
      "        Layer (type)               Output Shape         Param #\n",
      "================================================================\n",
      "            Conv2d-1          [256, 64, 32, 32]           1,728\n",
      "       BatchNorm2d-2          [256, 64, 32, 32]             128\n",
      "              ReLU-3          [256, 64, 32, 32]               0\n",
      "         ConvBlock-4          [256, 64, 32, 32]               0\n",
      "            Conv2d-5         [256, 128, 32, 32]          73,728\n",
      "       BatchNorm2d-6         [256, 128, 32, 32]             256\n",
      "              ReLU-7         [256, 128, 32, 32]               0\n",
      "         MaxPool2d-8         [256, 128, 16, 16]               0\n",
      "         ConvBlock-9         [256, 128, 16, 16]               0\n",
      "          Dropout-10         [256, 128, 16, 16]               0\n",
      "           Conv2d-11         [256, 128, 16, 16]         147,456\n",
      "      BatchNorm2d-12         [256, 128, 16, 16]             256\n",
      "             ReLU-13         [256, 128, 16, 16]               0\n",
      "        ConvBlock-14         [256, 128, 16, 16]               0\n",
      "           Conv2d-15         [256, 128, 16, 16]         147,456\n",
      "      BatchNorm2d-16         [256, 128, 16, 16]             256\n",
      "             ReLU-17         [256, 128, 16, 16]               0\n",
      "        ConvBlock-18         [256, 128, 16, 16]               0\n",
      "         ResBlock-19         [256, 128, 16, 16]               0\n",
      "           Conv2d-20         [256, 256, 16, 16]         294,912\n",
      "      BatchNorm2d-21         [256, 256, 16, 16]             512\n",
      "             ReLU-22         [256, 256, 16, 16]               0\n",
      "        MaxPool2d-23           [256, 256, 8, 8]               0\n",
      "        ConvBlock-24           [256, 256, 8, 8]               0\n",
      "           Conv2d-25           [256, 512, 8, 8]       1,179,648\n",
      "      BatchNorm2d-26           [256, 512, 8, 8]           1,024\n",
      "             ReLU-27           [256, 512, 8, 8]               0\n",
      "        MaxPool2d-28           [256, 512, 4, 4]               0\n",
      "        ConvBlock-29           [256, 512, 4, 4]               0\n",
      "          Dropout-30           [256, 512, 4, 4]               0\n",
      "           Conv2d-31           [256, 512, 4, 4]       2,359,296\n",
      "      BatchNorm2d-32           [256, 512, 4, 4]           1,024\n",
      "             ReLU-33           [256, 512, 4, 4]               0\n",
      "        ConvBlock-34           [256, 512, 4, 4]               0\n",
      "           Conv2d-35           [256, 512, 4, 4]       2,359,296\n",
      "      BatchNorm2d-36           [256, 512, 4, 4]           1,024\n",
      "             ReLU-37           [256, 512, 4, 4]               0\n",
      "        ConvBlock-38           [256, 512, 4, 4]               0\n",
      "         ResBlock-39           [256, 512, 4, 4]               0\n",
      "        MaxPool2d-40           [256, 512, 1, 1]               0\n",
      "          Flatten-41                 [256, 512]               0\n",
      "           Linear-42                 [256, 100]          51,300\n",
      "================================================================\n",
      "Total params: 6,619,300\n",
      "Trainable params: 6,619,300\n",
      "Non-trainable params: 0\n",
      "----------------------------------------------------------------\n",
      "Input size (MB): 3.00\n",
      "Forward/backward pass size (MB): 2882.20\n",
      "Params size (MB): 25.25\n",
      "Estimated Total Size (MB): 2910.45\n",
      "----------------------------------------------------------------\n"
     ]
    }
   ],
   "source": [
    "# module.model, optimizer = load_from_checkpoint(\n",
    "#     path=\"../logs/wandb/offline-run-20241215_132918-77n093vj/checkpoints/best.pt\",\n",
    "#     model=module.model,\n",
    "#     optimizer=optimizer\n",
    "# )\n",
    "\n",
    "summary(module.model, input_size=(train_dataset[0][0].shape), batch_size=s.dataset[\"batch_size\"], device=\"cpu\")"
   ]
  },
  {
   "cell_type": "code",
   "execution_count": 9,
   "metadata": {
    "execution": {
     "iopub.execute_input": "2024-10-16T16:19:26.511478Z",
     "iopub.status.busy": "2024-10-16T16:19:26.511073Z",
     "iopub.status.idle": "2024-10-16T16:19:26.783322Z",
     "shell.execute_reply": "2024-10-16T16:19:26.782365Z",
     "shell.execute_reply.started": "2024-10-16T16:19:26.511414Z"
    },
    "id": "jJEUcS0-Xf9N",
    "trusted": true
   },
   "outputs": [
    {
     "name": "stdout",
     "output_type": "stream",
     "text": [
      "Using device: cpu!\n"
     ]
    }
   ],
   "source": [
    "trainer = Trainer(\n",
    "    module=module,\n",
    "    logger=logger,\n",
    "    optimizer=optimizer,\n",
    "    callbacks=callbacks,\n",
    "    logs_path=logs_path,\n",
    "    fast_dev_run=s.fast_dev_run,\n",
    "    lr_scheduler=lr_scheduler,\n",
    "    save_checkpoint_type=\"best_val\",\n",
    "    num_workers=cpu_count\n",
    ")"
   ]
  },
  {
   "cell_type": "code",
   "execution_count": 10,
   "metadata": {
    "execution": {
     "iopub.execute_input": "2024-10-16T16:19:26.784997Z",
     "iopub.status.busy": "2024-10-16T16:19:26.784612Z",
     "iopub.status.idle": "2024-10-16T16:33:32.678177Z",
     "shell.execute_reply": "2024-10-16T16:33:32.677331Z",
     "shell.execute_reply.started": "2024-10-16T16:19:26.784949Z"
    },
    "id": "9SmUWgkRXkng",
    "trusted": true
   },
   "outputs": [
    {
     "name": "stderr",
     "output_type": "stream",
     "text": [
      "\u001b[34m\u001b[1mwandb\u001b[0m: Using wandb-core as the SDK backend.  Please refer to https://wandb.me/wandb-core for more information.\n"
     ]
    },
    {
     "data": {
      "text/html": [
       "Tracking run with wandb version 0.18.7"
      ],
      "text/plain": [
       "<IPython.core.display.HTML object>"
      ]
     },
     "metadata": {},
     "output_type": "display_data"
    },
    {
     "data": {
      "text/html": [
       "W&B syncing is set to <code>`offline`<code> in this directory.  <br/>Run <code>`wandb online`<code> or set <code>WANDB_MODE=online<code> to enable cloud syncing."
      ],
      "text/plain": [
       "<IPython.core.display.HTML object>"
      ]
     },
     "metadata": {},
     "output_type": "display_data"
    },
    {
     "name": "stdout",
     "output_type": "stream",
     "text": [
      "Time per epoch: 66.73 seconds\n",
      "Epoch: 0, train_accuracy: 1.63, val_accuracy: 1.43, lr: 0.0004\n",
      "Sanity check done with fast dev run!\n"
     ]
    },
    {
     "data": {
      "text/html": [
       "\n",
       "    <style>\n",
       "        .wandb-row {\n",
       "            display: flex;\n",
       "            flex-direction: row;\n",
       "            flex-wrap: wrap;\n",
       "            justify-content: flex-start;\n",
       "            width: 100%;\n",
       "        }\n",
       "        .wandb-col {\n",
       "            display: flex;\n",
       "            flex-direction: column;\n",
       "            flex-basis: 100%;\n",
       "            flex: 1;\n",
       "            padding: 10px;\n",
       "        }\n",
       "    </style>\n",
       "<div class=\"wandb-row\"><div class=\"wandb-col\"><h3>Run history:</h3><br/><table class=\"wandb\"><tr><td>epoch</td><td>▁▁</td></tr><tr><td>epoch_train_accuracy</td><td>▁</td></tr><tr><td>epoch_train_loss</td><td>▁</td></tr><tr><td>epoch_val_accuracy</td><td>▁</td></tr><tr><td>epoch_val_loss</td><td>▁</td></tr><tr><td>lr</td><td>▁▁▂▄▅█</td></tr><tr><td>step_train_accuracy</td><td>▁▇▄▇▄█</td></tr><tr><td>step_train_loss</td><td>█▄▂▁▁▁</td></tr><tr><td>step_val_accuracy</td><td>▁▆▆▃▆█</td></tr><tr><td>step_val_loss</td><td>▇█▄▃▇▁</td></tr><tr><td>training_step</td><td>▁▁▂▂▄▄▅▅▇▇██</td></tr><tr><td>validation_step</td><td>▁▂▄▅▇█</td></tr></table><br/></div><div class=\"wandb-col\"><h3>Run summary:</h3><br/><table class=\"wandb\"><tr><td>epoch</td><td>0</td></tr><tr><td>epoch_train_accuracy</td><td>1.6276</td></tr><tr><td>epoch_train_loss</td><td>5.57119</td></tr><tr><td>epoch_val_accuracy</td><td>1.43229</td></tr><tr><td>epoch_val_loss</td><td>4.59968</td></tr><tr><td>lr</td><td>0.0004</td></tr><tr><td>model_architecture</td><td>ResNet9(\n",
       "  (feature_...</td></tr><tr><td>step_train_accuracy</td><td>2.73438</td></tr><tr><td>step_train_loss</td><td>4.84918</td></tr><tr><td>step_val_accuracy</td><td>1.95312</td></tr><tr><td>step_val_loss</td><td>4.57732</td></tr><tr><td>training_step</td><td>6</td></tr><tr><td>validation_step</td><td>6</td></tr></table><br/></div></div>"
      ],
      "text/plain": [
       "<IPython.core.display.HTML object>"
      ]
     },
     "metadata": {},
     "output_type": "display_data"
    },
    {
     "data": {
      "text/html": [
       "You can sync this run to the cloud by running:<br/><code>wandb sync ../logs/wandb/offline-run-20241226_124724-f977wwmo<code>"
      ],
      "text/plain": [
       "<IPython.core.display.HTML object>"
      ]
     },
     "metadata": {},
     "output_type": "display_data"
    },
    {
     "data": {
      "text/html": [
       "Find logs at: <code>../logs/wandb/offline-run-20241226_124724-f977wwmo/logs</code>"
      ],
      "text/plain": [
       "<IPython.core.display.HTML object>"
      ]
     },
     "metadata": {},
     "output_type": "display_data"
    }
   ],
   "source": [
    "try:\n",
    "    trainer.fit(train_dataloader, val_dataloader)\n",
    "except KeyboardInterrupt as e:\n",
    "    print(\"Run stopped!\")\n",
    "finally:\n",
    "    wandb.finish()"
   ]
  },
  {
   "cell_type": "markdown",
   "metadata": {},
   "source": [
    "[Metrics](https://api.wandb.ai/links/sampath017/iwrrziwg)"
   ]
  },
  {
   "cell_type": "markdown",
   "metadata": {},
   "source": []
  }
 ],
 "metadata": {
  "accelerator": "TPU",
  "colab": {
   "gpuType": "V28",
   "provenance": []
  },
  "kaggle": {
   "accelerator": "none",
   "dataSources": [
    {
     "datasetId": 5863031,
     "sourceId": 9608953,
     "sourceType": "datasetVersion"
    }
   ],
   "dockerImageVersionId": 30786,
   "isGpuEnabled": false,
   "isInternetEnabled": true,
   "language": "python",
   "sourceType": "notebook"
  },
  "kernelspec": {
   "display_name": "imageclassification-GD_xkN8h-py3.12",
   "language": "python",
   "name": "python3"
  },
  "language_info": {
   "codemirror_mode": {
    "name": "ipython",
    "version": 3
   },
   "file_extension": ".py",
   "mimetype": "text/x-python",
   "name": "python",
   "nbconvert_exporter": "python",
   "pygments_lexer": "ipython3",
   "version": "3.12.1"
  }
 },
 "nbformat": 4,
 "nbformat_minor": 4
}
