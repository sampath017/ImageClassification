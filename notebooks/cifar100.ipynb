{
 "cells": [
  {
   "cell_type": "code",
   "execution_count": 1,
   "metadata": {
    "execution": {
     "iopub.execute_input": "2024-10-16T16:18:53.484908Z",
     "iopub.status.busy": "2024-10-16T16:18:53.484604Z",
     "iopub.status.idle": "2024-10-16T16:18:58.953389Z",
     "shell.execute_reply": "2024-10-16T16:18:58.952570Z",
     "shell.execute_reply.started": "2024-10-16T16:18:53.484876Z"
    },
    "trusted": true
   },
   "outputs": [],
   "source": [
    "import torch\n",
    "from torch import optim\n",
    "from torchsummary import summary\n",
    "from torch.utils.data import random_split, DataLoader\n",
    "from torchvision.datasets import CIFAR100\n",
    "from torchvision.transforms import v2\n",
    "from pathlib import Path\n",
    "import wandb\n",
    "import os\n",
    "import sys\n",
    "\n",
    "sys.path.append(\"../src\")\n",
    "\n",
    "from trainer import Trainer\n",
    "from module import ResNetModule\n",
    "from utils import model_size, load_from_checkpoint\n",
    "from callbacks import OverfitCallback, EarlyStoppingCallback\n",
    "from logger import WandbLogger\n",
    "from dataset import MapDataset\n",
    "import settings as s"
   ]
  },
  {
   "cell_type": "code",
   "execution_count": 2,
   "metadata": {
    "execution": {
     "iopub.execute_input": "2024-10-16T16:19:22.754626Z",
     "iopub.status.busy": "2024-10-16T16:19:22.754254Z",
     "iopub.status.idle": "2024-10-16T16:19:22.807647Z",
     "shell.execute_reply": "2024-10-16T16:19:22.806609Z",
     "shell.execute_reply.started": "2024-10-16T16:19:22.754579Z"
    },
    "id": "qrqvKqDjWyD9",
    "trusted": true
   },
   "outputs": [],
   "source": [
    "data_path = Path(\"../data\")\n",
    "logs_path = Path(\"../logs\")\n",
    "logs_path.mkdir(exist_ok=True)"
   ]
  },
  {
   "cell_type": "code",
   "execution_count": 3,
   "metadata": {
    "execution": {
     "iopub.execute_input": "2024-10-16T16:18:59.005310Z",
     "iopub.status.busy": "2024-10-16T16:18:59.005021Z",
     "iopub.status.idle": "2024-10-16T16:19:22.752936Z",
     "shell.execute_reply": "2024-10-16T16:19:22.751992Z",
     "shell.execute_reply.started": "2024-10-16T16:18:59.005276Z"
    },
    "id": "e48Wu90cQZYP",
    "outputId": "d2d91142-1b68-465b-d802-9a5c73628a8a",
    "trusted": true
   },
   "outputs": [],
   "source": [
    "logger = WandbLogger(\n",
    "    project_name=s.project_name,\n",
    "    config={\n",
    "        \"model\": s.model,\n",
    "        \"dataset\": s.dataset,\n",
    "        \"max_epochs\": s.max_epochs,\n",
    "        \"optimizer\": s.optimizer,\n",
    "        \"lr_scheduler\": s.lr_scheduler\n",
    "    },\n",
    "    logs_path=logs_path,\n",
    "    offline=s.wandb_offline\n",
    ")"
   ]
  },
  {
   "cell_type": "code",
   "execution_count": 4,
   "metadata": {
    "execution": {
     "iopub.execute_input": "2024-10-16T16:19:22.817159Z",
     "iopub.status.busy": "2024-10-16T16:19:22.816408Z",
     "iopub.status.idle": "2024-10-16T16:19:26.500427Z",
     "shell.execute_reply": "2024-10-16T16:19:26.499455Z",
     "shell.execute_reply.started": "2024-10-16T16:19:22.817113Z"
    },
    "id": "ZdeO0nyOXfTK",
    "trusted": true
   },
   "outputs": [
    {
     "name": "stdout",
     "output_type": "stream",
     "text": [
      "Files already downloaded and verified\n"
     ]
    }
   ],
   "source": [
    "cpu_count = os.cpu_count()\n",
    "# cpu_count = 7\n",
    "\n",
    "dataset = CIFAR100(data_path, train=True, download=True)\n",
    "\n",
    "train_dataset, val_dataset = random_split(\n",
    "    dataset, [s.dataset[\"train_split\"], s.dataset[\"val_split\"]]\n",
    ")\n",
    "\n",
    "normalize_transforms = v2.Compose([\n",
    "    # Normalize\n",
    "    v2.ToImage(),\n",
    "    v2.ToDtype(torch.float32, scale=True),\n",
    "    v2.Normalize(mean=(0.4914, 0.4822, 0.4465), std=(0.2023, 0.1994, 0.2010))\n",
    "])\n",
    "\n",
    "transforms_list = []\n",
    "if s.dataset[\"augumentations\"]:\n",
    "    transforms_list.extend([\n",
    "        v2.RandomCrop(size=(32, 32), padding=4, padding_mode='reflect'),\n",
    "        v2.RandomHorizontalFlip(),\n",
    "        \n",
    "        # v2.RandomCrop(size=(32, 32), padding=4, padding_mode='reflect'),  # Random cropping\n",
    "        # v2.RandomHorizontalFlip(),  # Horizontal flip\n",
    "        # v2.RandomVerticalFlip(p=0.2),  # Vertical flip with 20% probability\n",
    "        # v2.ColorJitter(brightness=0.2, contrast=0.2, saturation=0.2, hue=0.1),  # Color adjustments\n",
    "        # v2.RandomRotation(degrees=15),  # Random rotation within ±15 degrees\n",
    "        # v2.RandomAffine(degrees=0, translate=(0.1, 0.1)),  # Random translation\n",
    "        # v2.RandomGrayscale(p=0.1),  # Convert to grayscale with 10% probability\n",
    "    ])\n",
    "\n",
    "# Add normalization (always)\n",
    "transforms_list.append(normalize_transforms)\n",
    "\n",
    "# Compose the transforms\n",
    "train_transforms = v2.Compose(transforms_list)\n",
    "val_transforms = normalize_transforms\n",
    "\n",
    "train_dataset = MapDataset(train_dataset, transform=train_transforms)\n",
    "val_dataset = MapDataset(val_dataset, transform=val_transforms)\n",
    "\n",
    "train_dataloader = DataLoader(\n",
    "    train_dataset, batch_size=s.dataset[\"batch_size\"], shuffle=True, num_workers=cpu_count, pin_memory=True)\n",
    "val_dataloader = DataLoader(\n",
    "    val_dataset, batch_size=s.dataset[\"batch_size\"],  num_workers=cpu_count, pin_memory=True)"
   ]
  },
  {
   "cell_type": "code",
   "execution_count": 5,
   "metadata": {},
   "outputs": [],
   "source": [
    "callbacks = [\n",
    "    EarlyStoppingCallback(min_val_accuracy=90.0, accuracy_diff=5.0, wait_epochs=5),\n",
    "    # OverfitCallback(limit_batches=1, batch_size=10, max_epochs=500, augument_data=False)\n",
    "]"
   ]
  },
  {
   "cell_type": "code",
   "execution_count": 6,
   "metadata": {},
   "outputs": [
    {
     "name": "stdout",
     "output_type": "stream",
     "text": [
      "lr_scheduler is None!\n"
     ]
    }
   ],
   "source": [
    "module = ResNetModule(toy_model=False)\n",
    "optimizer = optim.AdamW(\n",
    "    params=module.model.parameters(),\n",
    "    weight_decay=s.optimizer[\"weight_decay\"] if s.optimizer[\"weight_decay\"] else 0.01\n",
    ")\n",
    "\n",
    "try:\n",
    "    if s.lr_scheduler[\"name\"] == \"OneCycleLR\":\n",
    "        lr_scheduler = torch.optim.lr_scheduler.OneCycleLR(\n",
    "            optimizer=optimizer,\n",
    "            max_lr=s.lr_scheduler[\"max_lr\"],\n",
    "            epochs=s.max_epochs,\n",
    "            steps_per_epoch=len(train_dataloader)\n",
    "        )\n",
    "except TypeError:\n",
    "    lr_scheduler = None\n",
    "    print(\"lr_scheduler is None!\")"
   ]
  },
  {
   "cell_type": "code",
   "execution_count": 7,
   "metadata": {},
   "outputs": [
    {
     "name": "stdout",
     "output_type": "stream",
     "text": [
      "----------------------------------------------------------------\n",
      "        Layer (type)               Output Shape         Param #\n",
      "================================================================\n",
      "            Conv2d-1          [256, 64, 32, 32]           1,728\n",
      "       BatchNorm2d-2          [256, 64, 32, 32]             128\n",
      "              ReLU-3          [256, 64, 32, 32]               0\n",
      "         ConvBlock-4          [256, 64, 32, 32]               0\n",
      "            Conv2d-5         [256, 128, 32, 32]          73,728\n",
      "       BatchNorm2d-6         [256, 128, 32, 32]             256\n",
      "              ReLU-7         [256, 128, 32, 32]               0\n",
      "         MaxPool2d-8         [256, 128, 16, 16]               0\n",
      "         ConvBlock-9         [256, 128, 16, 16]               0\n",
      "           Conv2d-10         [256, 128, 16, 16]         147,456\n",
      "      BatchNorm2d-11         [256, 128, 16, 16]             256\n",
      "             ReLU-12         [256, 128, 16, 16]               0\n",
      "           Conv2d-13         [256, 128, 16, 16]         147,456\n",
      "      BatchNorm2d-14         [256, 128, 16, 16]             256\n",
      "             ReLU-15         [256, 128, 16, 16]               0\n",
      "         ResBlock-16         [256, 128, 16, 16]               0\n",
      "           Conv2d-17         [256, 256, 16, 16]         294,912\n",
      "      BatchNorm2d-18         [256, 256, 16, 16]             512\n",
      "             ReLU-19         [256, 256, 16, 16]               0\n",
      "        MaxPool2d-20           [256, 256, 8, 8]               0\n",
      "        ConvBlock-21           [256, 256, 8, 8]               0\n",
      "           Conv2d-22           [256, 512, 8, 8]       1,179,648\n",
      "      BatchNorm2d-23           [256, 512, 8, 8]           1,024\n",
      "             ReLU-24           [256, 512, 8, 8]               0\n",
      "        MaxPool2d-25           [256, 512, 4, 4]               0\n",
      "        ConvBlock-26           [256, 512, 4, 4]               0\n",
      "           Conv2d-27           [256, 512, 4, 4]       2,359,296\n",
      "      BatchNorm2d-28           [256, 512, 4, 4]           1,024\n",
      "             ReLU-29           [256, 512, 4, 4]               0\n",
      "           Conv2d-30           [256, 512, 4, 4]       2,359,296\n",
      "      BatchNorm2d-31           [256, 512, 4, 4]           1,024\n",
      "             ReLU-32           [256, 512, 4, 4]               0\n",
      "         ResBlock-33           [256, 512, 4, 4]               0\n",
      "        MaxPool2d-34           [256, 512, 1, 1]               0\n",
      "          Flatten-35                 [256, 512]               0\n",
      "           Linear-36                 [256, 100]          51,300\n",
      "================================================================\n",
      "Total params: 6,619,300\n",
      "Trainable params: 6,619,300\n",
      "Non-trainable params: 0\n",
      "----------------------------------------------------------------\n",
      "Input size (MB): 3.00\n",
      "Forward/backward pass size (MB): 2642.20\n",
      "Params size (MB): 25.25\n",
      "Estimated Total Size (MB): 2670.45\n",
      "----------------------------------------------------------------\n"
     ]
    }
   ],
   "source": [
    "# module.model, optimizer = load_from_checkpoint(\n",
    "#     path=\"../logs/wandb/offline-run-20241215_132918-77n093vj/checkpoints/best.pt\",\n",
    "#     model=module.model,\n",
    "#     optimizer=optimizer\n",
    "# )\n",
    "\n",
    "summary(module.model, input_size=(train_dataset[0][0].shape), batch_size=s.dataset[\"batch_size\"], device=\"cpu\")"
   ]
  },
  {
   "cell_type": "code",
   "execution_count": 8,
   "metadata": {
    "execution": {
     "iopub.execute_input": "2024-10-16T16:19:26.511478Z",
     "iopub.status.busy": "2024-10-16T16:19:26.511073Z",
     "iopub.status.idle": "2024-10-16T16:19:26.783322Z",
     "shell.execute_reply": "2024-10-16T16:19:26.782365Z",
     "shell.execute_reply.started": "2024-10-16T16:19:26.511414Z"
    },
    "id": "jJEUcS0-Xf9N",
    "trusted": true
   },
   "outputs": [
    {
     "name": "stdout",
     "output_type": "stream",
     "text": [
      "Using device: cuda!\n"
     ]
    }
   ],
   "source": [
    "trainer = Trainer(\n",
    "    module=module,\n",
    "    logger=logger,\n",
    "    optimizer=optimizer,\n",
    "    callbacks=callbacks,\n",
    "    logs_path=logs_path,\n",
    "    fast_dev_run=s.fast_dev_run,\n",
    "    measure_time=True,\n",
    "    lr_scheduler=lr_scheduler,\n",
    "    save_checkpoint_type=\"best_val\",\n",
    "    num_workers=cpu_count\n",
    ")"
   ]
  },
  {
   "cell_type": "code",
   "execution_count": 9,
   "metadata": {
    "execution": {
     "iopub.execute_input": "2024-10-16T16:19:26.784997Z",
     "iopub.status.busy": "2024-10-16T16:19:26.784612Z",
     "iopub.status.idle": "2024-10-16T16:33:32.678177Z",
     "shell.execute_reply": "2024-10-16T16:33:32.677331Z",
     "shell.execute_reply.started": "2024-10-16T16:19:26.784949Z"
    },
    "id": "9SmUWgkRXkng",
    "trusted": true
   },
   "outputs": [
    {
     "name": "stderr",
     "output_type": "stream",
     "text": [
      "\u001b[34m\u001b[1mwandb\u001b[0m: Using wandb-core as the SDK backend.  Please refer to https://wandb.me/wandb-core for more information.\n",
      "\u001b[34m\u001b[1mwandb\u001b[0m: Currently logged in as: \u001b[33msampath017\u001b[0m. Use \u001b[1m`wandb login --relogin`\u001b[0m to force relogin\n"
     ]
    },
    {
     "data": {
      "text/html": [
       "Tracking run with wandb version 0.18.7"
      ],
      "text/plain": [
       "<IPython.core.display.HTML object>"
      ]
     },
     "metadata": {},
     "output_type": "display_data"
    },
    {
     "data": {
      "text/html": [
       "Run data is saved locally in <code>../logs/wandb/run-20241218_193609-5ewamz4s</code>"
      ],
      "text/plain": [
       "<IPython.core.display.HTML object>"
      ]
     },
     "metadata": {},
     "output_type": "display_data"
    },
    {
     "data": {
      "text/html": [
       "Syncing run <strong><a href='https://wandb.ai/sampath017/ImageClassification/runs/5ewamz4s' target=\"_blank\">light-terrain-335</a></strong> to <a href='https://wandb.ai/sampath017/ImageClassification' target=\"_blank\">Weights & Biases</a> (<a href='https://wandb.me/developer-guide' target=\"_blank\">docs</a>)<br/>"
      ],
      "text/plain": [
       "<IPython.core.display.HTML object>"
      ]
     },
     "metadata": {},
     "output_type": "display_data"
    },
    {
     "data": {
      "text/html": [
       " View project at <a href='https://wandb.ai/sampath017/ImageClassification' target=\"_blank\">https://wandb.ai/sampath017/ImageClassification</a>"
      ],
      "text/plain": [
       "<IPython.core.display.HTML object>"
      ]
     },
     "metadata": {},
     "output_type": "display_data"
    },
    {
     "data": {
      "text/html": [
       " View run at <a href='https://wandb.ai/sampath017/ImageClassification/runs/5ewamz4s' target=\"_blank\">https://wandb.ai/sampath017/ImageClassification/runs/5ewamz4s</a>"
      ],
      "text/plain": [
       "<IPython.core.display.HTML object>"
      ]
     },
     "metadata": {},
     "output_type": "display_data"
    },
    {
     "name": "stdout",
     "output_type": "stream",
     "text": [
      "Time per epoch: 27.39 seconds\n",
      "Epoch: 0, train_accuracy: 6.96, val_accuracy: 11.45, lr: 0.0010\n",
      "Epoch: 1, train_accuracy: 14.05, val_accuracy: 15.71, lr: 0.0010\n",
      "Epoch: 2, train_accuracy: 21.01, val_accuracy: 25.39, lr: 0.0010\n",
      "Epoch: 3, train_accuracy: 26.41, val_accuracy: 31.39, lr: 0.0010\n",
      "Epoch: 4, train_accuracy: 31.35, val_accuracy: 35.60, lr: 0.0010\n",
      "Epoch: 5, train_accuracy: 34.58, val_accuracy: 38.80, lr: 0.0010\n",
      "Epoch: 6, train_accuracy: 37.80, val_accuracy: 41.93, lr: 0.0010\n",
      "Epoch: 7, train_accuracy: 40.70, val_accuracy: 44.50, lr: 0.0010\n",
      "Epoch: 8, train_accuracy: 43.52, val_accuracy: 43.93, lr: 0.0010\n",
      "Epoch: 9, train_accuracy: 45.05, val_accuracy: 44.09, lr: 0.0010\n",
      "Epoch: 10, train_accuracy: 47.92, val_accuracy: 49.56, lr: 0.0010\n",
      "Epoch: 11, train_accuracy: 49.17, val_accuracy: 49.17, lr: 0.0010\n",
      "Epoch: 12, train_accuracy: 50.67, val_accuracy: 48.16, lr: 0.0010\n",
      "Epoch: 13, train_accuracy: 52.12, val_accuracy: 55.93, lr: 0.0010\n",
      "Epoch: 14, train_accuracy: 53.49, val_accuracy: 47.87, lr: 0.0010\n",
      "Epoch: 15, train_accuracy: 55.14, val_accuracy: 56.27, lr: 0.0010\n",
      "Epoch: 16, train_accuracy: 56.08, val_accuracy: 56.87, lr: 0.0010\n",
      "Epoch: 17, train_accuracy: 57.51, val_accuracy: 57.21, lr: 0.0010\n",
      "Epoch: 18, train_accuracy: 58.70, val_accuracy: 56.96, lr: 0.0010\n",
      "Epoch: 19, train_accuracy: 59.95, val_accuracy: 55.55, lr: 0.0010\n",
      "Epoch: 20, train_accuracy: 60.75, val_accuracy: 57.98, lr: 0.0010\n",
      "Epoch: 21, train_accuracy: 61.98, val_accuracy: 60.15, lr: 0.0010\n",
      "Epoch: 22, train_accuracy: 62.87, val_accuracy: 59.75, lr: 0.0010\n",
      "Epoch: 23, train_accuracy: 63.72, val_accuracy: 60.11, lr: 0.0010\n",
      "Epoch: 24, train_accuracy: 64.74, val_accuracy: 58.65, lr: 0.0010\n",
      "Epoch: 25, train_accuracy: 65.57, val_accuracy: 59.46, lr: 0.0010\n",
      "Epoch: 26, train_accuracy: 66.54, val_accuracy: 59.03, lr: 0.0010\n",
      "Epoch: 27, train_accuracy: 67.26, val_accuracy: 57.73, lr: 0.0010\n",
      "Epoch: 28, train_accuracy: 68.28, val_accuracy: 62.25, lr: 0.0010\n",
      "Epoch: 29, train_accuracy: 69.36, val_accuracy: 61.07, lr: 0.0010\n",
      "Epoch: 30, train_accuracy: 69.53, val_accuracy: 61.69, lr: 0.0010\n",
      "Epoch: 31, train_accuracy: 70.56, val_accuracy: 61.87, lr: 0.0010\n",
      "Epoch: 32, train_accuracy: 71.12, val_accuracy: 61.91, lr: 0.0010\n",
      "Epoch: 33, train_accuracy: 71.99, val_accuracy: 62.40, lr: 0.0010\n",
      "Epoch: 34, train_accuracy: 72.88, val_accuracy: 63.35, lr: 0.0010\n",
      "Epoch: 35, train_accuracy: 73.18, val_accuracy: 62.22, lr: 0.0010\n",
      "Epoch: 36, train_accuracy: 74.17, val_accuracy: 63.00, lr: 0.0010\n",
      "Epoch: 37, train_accuracy: 74.61, val_accuracy: 62.94, lr: 0.0010\n",
      "Epoch: 38, train_accuracy: 75.17, val_accuracy: 62.84, lr: 0.0010\n",
      "Epoch: 39, train_accuracy: 75.82, val_accuracy: 64.00, lr: 0.0010\n",
      "Epoch: 40, train_accuracy: 76.67, val_accuracy: 63.46, lr: 0.0010\n"
     ]
    },
    {
     "name": "stderr",
     "output_type": "stream",
     "text": [
      "Exception ignored in: <function _releaseLock at 0x74cd62f73b00>\n",
      "Traceback (most recent call last):\n",
      "  File \"/usr/lib/python3.12/logging/__init__.py\", line 243, in _releaseLock\n",
      "    def _releaseLock():\n",
      "    \n",
      "KeyboardInterrupt: \n"
     ]
    },
    {
     "name": "stdout",
     "output_type": "stream",
     "text": [
      "Epoch: 41, train_accuracy: 76.85, val_accuracy: 64.06, lr: 0.0010\n",
      "Run stopped!\n"
     ]
    },
    {
     "data": {
      "text/html": [
       "\n",
       "    <style>\n",
       "        .wandb-row {\n",
       "            display: flex;\n",
       "            flex-direction: row;\n",
       "            flex-wrap: wrap;\n",
       "            justify-content: flex-start;\n",
       "            width: 100%;\n",
       "        }\n",
       "        .wandb-col {\n",
       "            display: flex;\n",
       "            flex-direction: column;\n",
       "            flex-basis: 100%;\n",
       "            flex: 1;\n",
       "            padding: 10px;\n",
       "        }\n",
       "    </style>\n",
       "<div class=\"wandb-row\"><div class=\"wandb-col\"><h3>Run history:</h3><br/><table class=\"wandb\"><tr><td>epoch</td><td>▁▁▁▁▂▂▂▂▂▂▂▂▃▃▃▃▃▄▄▄▅▅▅▅▅▆▆▆▆▆▆▇▇▇▇▇▇███</td></tr><tr><td>epoch_train_accuracy</td><td>▁▂▂▃▃▄▄▄▅▅▅▅▅▆▆▆▆▆▆▆▇▇▇▇▇▇▇▇▇▇▇▇████████</td></tr><tr><td>epoch_train_loss</td><td>█▇▆▅▅▅▄▄▄▄▃▃▃▃▃▃▃▃▂▂▂▂▂▂▂▂▂▂▂▂▁▁▁▁▁▁▁▁▁▁</td></tr><tr><td>epoch_val_accuracy</td><td>▁▂▃▄▄▅▅▅▅▅▆▆▆▇▆▇▇▇▇▇▇▇▇▇▇▇▇█████████████</td></tr><tr><td>epoch_val_loss</td><td>██▆▅▄▄▃▃▃▃▂▃▃▂▃▂▁▁▁▂▁▁▁▁▁▁▂▁▁▁▁▁▁▁▁▁▁▁▁▁</td></tr><tr><td>step_train_accuracy</td><td>▁▂▂▂▂▄▄▅▅▅▆▅▆▆▆▆▆▆▆▆▇▇▇▇▇█▇▇▇█▇███▇▇████</td></tr><tr><td>step_train_loss</td><td>█▇▇▅▅▅▅▅▅▅▄▄▄▃▃▃▃▃▂▃▂▂▂▂▂▂▂▂▂▂▂▁▂▂▂▁▁▁▁▁</td></tr><tr><td>step_val_accuracy</td><td>▁▃▂▂▃▄▅▅▅▅▅▅▆▆▆▆▆▇▆▆▇▇▇▆▇█▇▇▇▇▇▇▇█▇▇▇██▇</td></tr><tr><td>step_val_loss</td><td>█▆▅▄▄▄▄▄▃▃▃▂▄▂▂▂▂▂▂▂▂▂▁▁▂▂▂▁▃▁▂▁▁▃▃▂▂▂▂▂</td></tr><tr><td>training_step</td><td>▁▁▁▂▂▂▂▂▂▂▃▃▃▄▄▄▄▄▄▄▅▅▅▅▅▆▆▆▆▆▆▆▇▇▇▇████</td></tr><tr><td>validation_step</td><td>▁▁▁▁▂▂▂▂▂▂▃▃▃▃▃▄▄▄▄▄▅▅▅▅▅▅▆▆▇▇▇▇▇▇██████</td></tr></table><br/></div><div class=\"wandb-col\"><h3>Run summary:</h3><br/><table class=\"wandb\"><tr><td>epoch</td><td>41</td></tr><tr><td>epoch_train_accuracy</td><td>76.85159</td></tr><tr><td>epoch_train_loss</td><td>0.79028</td></tr><tr><td>epoch_val_accuracy</td><td>64.05832</td></tr><tr><td>epoch_val_loss</td><td>1.46148</td></tr><tr><td>model_architecture</td><td>ResNet9(\n",
       "  (feature_...</td></tr><tr><td>step_train_accuracy</td><td>76.5625</td></tr><tr><td>step_train_loss</td><td>0.80468</td></tr><tr><td>step_val_accuracy</td><td>63.81579</td></tr><tr><td>step_val_loss</td><td>1.55095</td></tr><tr><td>training_step</td><td>5820</td></tr><tr><td>validation_step</td><td>2478</td></tr></table><br/></div></div>"
      ],
      "text/plain": [
       "<IPython.core.display.HTML object>"
      ]
     },
     "metadata": {},
     "output_type": "display_data"
    },
    {
     "data": {
      "text/html": [
       " View run <strong style=\"color:#cdcd00\">light-terrain-335</strong> at: <a href='https://wandb.ai/sampath017/ImageClassification/runs/5ewamz4s' target=\"_blank\">https://wandb.ai/sampath017/ImageClassification/runs/5ewamz4s</a><br/> View project at: <a href='https://wandb.ai/sampath017/ImageClassification' target=\"_blank\">https://wandb.ai/sampath017/ImageClassification</a><br/>Synced 5 W&B file(s), 0 media file(s), 0 artifact file(s) and 0 other file(s)"
      ],
      "text/plain": [
       "<IPython.core.display.HTML object>"
      ]
     },
     "metadata": {},
     "output_type": "display_data"
    },
    {
     "data": {
      "text/html": [
       "Find logs at: <code>../logs/wandb/run-20241218_193609-5ewamz4s/logs</code>"
      ],
      "text/plain": [
       "<IPython.core.display.HTML object>"
      ]
     },
     "metadata": {},
     "output_type": "display_data"
    }
   ],
   "source": [
    "try:\n",
    "    trainer.fit(train_dataloader, val_dataloader)\n",
    "except KeyboardInterrupt as e:\n",
    "    print(\"Run stopped!\")\n",
    "finally:\n",
    "    wandb.finish()"
   ]
  },
  {
   "cell_type": "markdown",
   "metadata": {},
   "source": [
    "[Metrics](https://api.wandb.ai/links/sampath017/iwrrziwg)"
   ]
  },
  {
   "cell_type": "markdown",
   "metadata": {},
   "source": []
  }
 ],
 "metadata": {
  "accelerator": "TPU",
  "colab": {
   "gpuType": "V28",
   "provenance": []
  },
  "kaggle": {
   "accelerator": "none",
   "dataSources": [
    {
     "datasetId": 5863031,
     "sourceId": 9608953,
     "sourceType": "datasetVersion"
    }
   ],
   "dockerImageVersionId": 30786,
   "isGpuEnabled": false,
   "isInternetEnabled": true,
   "language": "python",
   "sourceType": "notebook"
  },
  "kernelspec": {
   "display_name": ".venv",
   "language": "python",
   "name": "python3"
  },
  "language_info": {
   "codemirror_mode": {
    "name": "ipython",
    "version": 3
   },
   "file_extension": ".py",
   "mimetype": "text/x-python",
   "name": "python",
   "nbconvert_exporter": "python",
   "pygments_lexer": "ipython3",
   "version": "3.12.8"
  }
 },
 "nbformat": 4,
 "nbformat_minor": 4
}
