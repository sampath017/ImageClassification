{
 "cells": [
  {
   "cell_type": "code",
   "execution_count": 1,
   "metadata": {
    "execution": {
     "iopub.execute_input": "2024-10-16T16:18:53.484908Z",
     "iopub.status.busy": "2024-10-16T16:18:53.484604Z",
     "iopub.status.idle": "2024-10-16T16:18:58.953389Z",
     "shell.execute_reply": "2024-10-16T16:18:58.952570Z",
     "shell.execute_reply.started": "2024-10-16T16:18:53.484876Z"
    },
    "trusted": true
   },
   "outputs": [],
   "source": [
    "import torch\n",
    "from torch import nn\n",
    "from torch import optim\n",
    "from torchinfo import summary\n",
    "from torch.utils.data import random_split, DataLoader\n",
    "from torchvision.datasets import CIFAR10\n",
    "from torchvision.transforms import v2\n",
    "from pathlib import Path\n",
    "import wandb\n",
    "import sys\n",
    "import os\n",
    "\n",
    "sys.path.append(\"../src\")\n",
    "\n",
    "from trainer import Trainer\n",
    "from module import ResNetModule\n",
    "from utils import model_size, load_from_checkpoint\n",
    "from callbacks import OverfitCallback, EarlyStoppingCallback\n",
    "from logger import WandbLogger\n",
    "from dataset import MapDataset\n",
    "from models import ResNet18\n",
    "import settings as s"
   ]
  },
  {
   "cell_type": "code",
   "execution_count": 2,
   "metadata": {
    "execution": {
     "iopub.execute_input": "2024-10-16T16:19:22.754626Z",
     "iopub.status.busy": "2024-10-16T16:19:22.754254Z",
     "iopub.status.idle": "2024-10-16T16:19:22.807647Z",
     "shell.execute_reply": "2024-10-16T16:19:22.806609Z",
     "shell.execute_reply.started": "2024-10-16T16:19:22.754579Z"
    },
    "id": "qrqvKqDjWyD9",
    "trusted": true
   },
   "outputs": [],
   "source": [
    "data_path = Path(\"../data\")\n",
    "logs_path = Path(\"../logs\")\n",
    "logs_path.mkdir(exist_ok=True)"
   ]
  },
  {
   "cell_type": "code",
   "execution_count": 3,
   "metadata": {
    "execution": {
     "iopub.execute_input": "2024-10-16T16:18:59.005310Z",
     "iopub.status.busy": "2024-10-16T16:18:59.005021Z",
     "iopub.status.idle": "2024-10-16T16:19:22.752936Z",
     "shell.execute_reply": "2024-10-16T16:19:22.751992Z",
     "shell.execute_reply.started": "2024-10-16T16:18:59.005276Z"
    },
    "id": "e48Wu90cQZYP",
    "outputId": "d2d91142-1b68-465b-d802-9a5c73628a8a",
    "trusted": true
   },
   "outputs": [
    {
     "data": {
      "text/plain": [
       "'cuda'"
      ]
     },
     "execution_count": 3,
     "metadata": {},
     "output_type": "execute_result"
    }
   ],
   "source": [
    "logger = WandbLogger(\n",
    "    project_name=s.project_name,\n",
    "    config={\n",
    "        \"model\": s.model,\n",
    "        \"dataset\": s.dataset,\n",
    "        \"max_epochs\": s.max_epochs,\n",
    "        \"optimizer\": s.optimizer,\n",
    "        \"lr_scheduler\": s.lr_scheduler,\n",
    "        \"test_run\": s.test_run,\n",
    "        \"transfer_learning\": s.transfer_learning\n",
    "    },\n",
    "    logs_path=logs_path,\n",
    "    offline=s.wandb_offline\n",
    ")\n",
    "\n",
    "device = \"cuda\" if torch.cuda.is_available() else \"cpu\"\n",
    "device"
   ]
  },
  {
   "cell_type": "code",
   "execution_count": 4,
   "metadata": {
    "execution": {
     "iopub.execute_input": "2024-10-16T16:19:22.817159Z",
     "iopub.status.busy": "2024-10-16T16:19:22.816408Z",
     "iopub.status.idle": "2024-10-16T16:19:26.500427Z",
     "shell.execute_reply": "2024-10-16T16:19:26.499455Z",
     "shell.execute_reply.started": "2024-10-16T16:19:22.817113Z"
    },
    "id": "ZdeO0nyOXfTK",
    "trusted": true
   },
   "outputs": [
    {
     "name": "stdout",
     "output_type": "stream",
     "text": [
      "Files already downloaded and verified\n"
     ]
    }
   ],
   "source": [
    "# cpu_count = os.cpu_count()\n",
    "cpu_count = 7\n",
    "\n",
    "dataset = CIFAR10(data_path, train=True, download=True)\n",
    "\n",
    "train_dataset, val_dataset = random_split(\n",
    "    dataset, [s.dataset[\"train_split\"], s.dataset[\"val_split\"]]\n",
    ")\n",
    "\n",
    "normalize_transforms = v2.Compose([\n",
    "    # Normalize\n",
    "    v2.ToImage(),\n",
    "    v2.ToDtype(torch.float32, scale=True),\n",
    "    v2.Normalize(mean=(0.4914, 0.4822, 0.4465), std=(0.2023, 0.1994, 0.2010))\n",
    "])\n",
    "\n",
    "train_transforms = v2.Compose([\n",
    "    v2.RandomCrop(size=(32, 32), padding=4, padding_mode='reflect'),\n",
    "    v2.RandomHorizontalFlip(),\n",
    "    v2.RandomVerticalFlip(p=0.2),\n",
    "    v2.ColorJitter(brightness=0.2, contrast=0.2, saturation=0.2, hue=0.1),\n",
    "    v2.RandomRotation(degrees=15),\n",
    "    v2.RandomAffine(degrees=0, translate=(0.1, 0.1)),\n",
    "    v2.RandomGrayscale(p=0.1),\n",
    "\n",
    "    normalize_transforms\n",
    "])\n",
    "\n",
    "val_transforms = normalize_transforms\n",
    "\n",
    "train_dataset = MapDataset(train_dataset, transform=train_transforms)\n",
    "val_dataset = MapDataset(val_dataset, transform=val_transforms)\n",
    "\n",
    "train_dataloader = DataLoader(\n",
    "    train_dataset, batch_size=s.dataset[\"batch_size\"], shuffle=True, num_workers=cpu_count)\n",
    "val_dataloader = DataLoader(\n",
    "    val_dataset, batch_size=s.dataset[\"batch_size\"],  num_workers=cpu_count)"
   ]
  },
  {
   "cell_type": "code",
   "execution_count": 5,
   "metadata": {},
   "outputs": [],
   "source": [
    "callbacks = [\n",
    "    EarlyStoppingCallback(min_val_accuracy=90.0, accuracy_diff=5.0, wait_epochs=5),\n",
    "    # OverfitCallback(limit_batches=1, batch_size=10, max_epochs=500, augument_data=False)\n",
    "]"
   ]
  },
  {
   "cell_type": "code",
   "execution_count": 6,
   "metadata": {},
   "outputs": [
    {
     "name": "stderr",
     "output_type": "stream",
     "text": [
      "\u001b[34m\u001b[1mwandb\u001b[0m: Using wandb-core as the SDK backend.  Please refer to https://wandb.me/wandb-core for more information.\n",
      "\u001b[34m\u001b[1mwandb\u001b[0m: Downloading large artifact run-24z2beff-best_val_acc_68.66.pt:v0, 319.00MB. 1 files... \n",
      "\u001b[34m\u001b[1mwandb\u001b[0m:   1 of 1 files downloaded.  \n",
      "Done. 0:0:1.0\n"
     ]
    },
    {
     "data": {
      "text/plain": [
       "====================================================================================================\n",
       "Layer (type:depth-idx)                             Output Shape              Param #\n",
       "====================================================================================================\n",
       "ResNet18                                           [512, 100]                --\n",
       "├─Sequential: 1-1                                  [512, 512, 1, 1]          27,811,392\n",
       "├─Sequential: 1-2                                  [512, 100]                51,300\n",
       "====================================================================================================\n",
       "Total params: 27,862,692\n",
       "Trainable params: 27,862,692\n",
       "Non-trainable params: 0\n",
       "Total mult-adds (Units.TERABYTES): 1.41\n",
       "====================================================================================================\n",
       "Input size (MB): 6.29\n",
       "Forward/backward pass size (MB): 8925.89\n",
       "Params size (MB): 111.45\n",
       "Estimated Total Size (MB): 9043.63\n",
       "===================================================================================================="
      ]
     },
     "execution_count": 6,
     "metadata": {},
     "output_type": "execute_result"
    }
   ],
   "source": [
    "api = wandb.Api()\n",
    "run = api.run(\"sampath017/ImageClassification/24z2beff\")\n",
    "artifact = api.artifact('sampath017/ImageClassification/run-24z2beff-best_val_acc_68.66.pt:v0', type='model')\n",
    "local_path = artifact.download(root=logs_path)\n",
    "checkpoint = torch.load(Path(local_path)/\"best_val_acc_68.66.pt\", weights_only=True, map_location=device)\n",
    "\n",
    "model = ResNet18(num_classes=100)\n",
    "model.load_state_dict(checkpoint[\"model\"])\n",
    "summary(\n",
    "    model,\n",
    "    input_size=(s.dataset[\"batch_size\"],\n",
    "                *train_dataset[0][0].shape),\n",
    "    device=\"cpu\",\n",
    "    mode=\"train\",\n",
    "    depth=1\n",
    ")"
   ]
  },
  {
   "cell_type": "code",
   "execution_count": 7,
   "metadata": {},
   "outputs": [],
   "source": [
    "for params in model.parameters():\n",
    "    params.requires_grad = False \n",
    "\n",
    "model.classifier = nn.Sequential(\n",
    "    nn.Flatten(),\n",
    "    nn.Linear(512, 10),\n",
    ")\n",
    "\n",
    "summary(\n",
    "    model,\n",
    "    input_size=(s.dataset[\"batch_size\"],\n",
    "                *train_dataset[0][0].shape),\n",
    "    device=\"cpu\",\n",
    "    mode=\"train\",\n",
    "    depth=1\n",
    ")"
   ]
  },
  {
   "cell_type": "code",
   "execution_count": 8,
   "metadata": {},
   "outputs": [
    {
     "name": "stdout",
     "output_type": "stream",
     "text": [
      "OneCycleLR\n"
     ]
    }
   ],
   "source": [
    "module = ResNetModule(model)\n",
    "\n",
    "optimizer = optim.AdamW(\n",
    "    params=module.model.parameters(),\n",
    "    weight_decay=s.optimizer[\"weight_decay\"]\n",
    ")\n",
    "\n",
    "try:\n",
    "    if s.lr_scheduler[\"name\"] == \"OneCycleLR\":\n",
    "        lr_scheduler = torch.optim.lr_scheduler.OneCycleLR(\n",
    "            optimizer=optimizer,\n",
    "            max_lr=s.lr_scheduler[\"max_lr\"],\n",
    "            epochs=s.max_epochs,\n",
    "            steps_per_epoch=len(train_dataloader),\n",
    "        )\n",
    "\n",
    "        print(s.lr_scheduler[\"name\"])\n",
    "except TypeError:\n",
    "    lr_scheduler = None\n",
    "    print(\"lr_scheduler is None!\")"
   ]
  },
  {
   "cell_type": "code",
   "execution_count": 9,
   "metadata": {
    "execution": {
     "iopub.execute_input": "2024-10-16T16:19:26.511478Z",
     "iopub.status.busy": "2024-10-16T16:19:26.511073Z",
     "iopub.status.idle": "2024-10-16T16:19:26.783322Z",
     "shell.execute_reply": "2024-10-16T16:19:26.782365Z",
     "shell.execute_reply.started": "2024-10-16T16:19:26.511414Z"
    },
    "id": "jJEUcS0-Xf9N",
    "trusted": true
   },
   "outputs": [
    {
     "name": "stdout",
     "output_type": "stream",
     "text": [
      "Using device: cuda!\n"
     ]
    }
   ],
   "source": [
    "trainer = Trainer(\n",
    "    module=module,\n",
    "    logger=logger,\n",
    "    optimizer=optimizer,\n",
    "    callbacks=callbacks,\n",
    "    logs_path=logs_path,\n",
    "    fast_dev_run=s.fast_dev_run,\n",
    "    limit_batches=s.limit_batches,\n",
    "    lr_scheduler=lr_scheduler,\n",
    "    save_checkpoint_type=\"best_val\",\n",
    "    num_workers=cpu_count\n",
    ")"
   ]
  },
  {
   "cell_type": "code",
   "execution_count": 10,
   "metadata": {
    "execution": {
     "iopub.execute_input": "2024-10-16T16:19:26.784997Z",
     "iopub.status.busy": "2024-10-16T16:19:26.784612Z",
     "iopub.status.idle": "2024-10-16T16:33:32.678177Z",
     "shell.execute_reply": "2024-10-16T16:33:32.677331Z",
     "shell.execute_reply.started": "2024-10-16T16:19:26.784949Z"
    },
    "id": "9SmUWgkRXkng",
    "trusted": true
   },
   "outputs": [
    {
     "name": "stderr",
     "output_type": "stream",
     "text": [
      "\u001b[34m\u001b[1mwandb\u001b[0m: Currently logged in as: \u001b[33msampath017\u001b[0m. Use \u001b[1m`wandb login --relogin`\u001b[0m to force relogin\n"
     ]
    },
    {
     "data": {
      "text/html": [
       "Tracking run with wandb version 0.18.7"
      ],
      "text/plain": [
       "<IPython.core.display.HTML object>"
      ]
     },
     "metadata": {},
     "output_type": "display_data"
    },
    {
     "data": {
      "text/html": [
       "Run data is saved locally in <code>../logs/wandb/run-20241228_082329-4umsejyy</code>"
      ],
      "text/plain": [
       "<IPython.core.display.HTML object>"
      ]
     },
     "metadata": {},
     "output_type": "display_data"
    },
    {
     "data": {
      "text/html": [
       "Syncing run <strong><a href='https://wandb.ai/sampath017/ImageClassification/runs/4umsejyy' target=\"_blank\">dazzling-pond-365</a></strong> to <a href='https://wandb.ai/sampath017/ImageClassification' target=\"_blank\">Weights & Biases</a> (<a href='https://wandb.me/developer-guide' target=\"_blank\">docs</a>)<br/>"
      ],
      "text/plain": [
       "<IPython.core.display.HTML object>"
      ]
     },
     "metadata": {},
     "output_type": "display_data"
    },
    {
     "data": {
      "text/html": [
       " View project at <a href='https://wandb.ai/sampath017/ImageClassification' target=\"_blank\">https://wandb.ai/sampath017/ImageClassification</a>"
      ],
      "text/plain": [
       "<IPython.core.display.HTML object>"
      ]
     },
     "metadata": {},
     "output_type": "display_data"
    },
    {
     "data": {
      "text/html": [
       " View run at <a href='https://wandb.ai/sampath017/ImageClassification/runs/4umsejyy' target=\"_blank\">https://wandb.ai/sampath017/ImageClassification/runs/4umsejyy</a>"
      ],
      "text/plain": [
       "<IPython.core.display.HTML object>"
      ]
     },
     "metadata": {},
     "output_type": "display_data"
    },
    {
     "name": "stdout",
     "output_type": "stream",
     "text": [
      "Time per epoch: 20.38 seconds\n",
      "Epoch: 0, train_accuracy: 47.56, val_accuracy: 66.90, lr: 0.0004\n",
      "Epoch: 1, train_accuracy: 65.01, val_accuracy: 71.05, lr: 0.0005\n",
      "Epoch: 2, train_accuracy: 67.74, val_accuracy: 73.10, lr: 0.0008\n",
      "Epoch: 3, train_accuracy: 69.75, val_accuracy: 74.82, lr: 0.0013\n",
      "Epoch: 4, train_accuracy: 71.08, val_accuracy: 76.10, lr: 0.0020\n",
      "Epoch: 5, train_accuracy: 71.63, val_accuracy: 77.44, lr: 0.0028\n",
      "Epoch: 6, train_accuracy: 72.57, val_accuracy: 78.21, lr: 0.0037\n",
      "Epoch: 7, train_accuracy: 72.78, val_accuracy: 78.36, lr: 0.0047\n",
      "Epoch: 8, train_accuracy: 73.47, val_accuracy: 78.33, lr: 0.0057\n",
      "Epoch: 9, train_accuracy: 73.57, val_accuracy: 78.42, lr: 0.0067\n",
      "Epoch: 10, train_accuracy: 73.34, val_accuracy: 78.22, lr: 0.0076\n",
      "Epoch: 11, train_accuracy: 73.39, val_accuracy: 78.29, lr: 0.0084\n",
      "Epoch: 12, train_accuracy: 73.44, val_accuracy: 78.49, lr: 0.0091\n",
      "Epoch: 13, train_accuracy: 73.44, val_accuracy: 78.70, lr: 0.0096\n",
      "Epoch: 14, train_accuracy: 74.03, val_accuracy: 78.50, lr: 0.0099\n",
      "Epoch: 15, train_accuracy: 73.77, val_accuracy: 79.43, lr: 0.0100\n",
      "Epoch: 16, train_accuracy: 74.25, val_accuracy: 79.48, lr: 0.0100\n",
      "Epoch: 17, train_accuracy: 74.45, val_accuracy: 79.26, lr: 0.0099\n",
      "Epoch: 18, train_accuracy: 74.14, val_accuracy: 79.22, lr: 0.0098\n",
      "Epoch: 19, train_accuracy: 74.20, val_accuracy: 78.65, lr: 0.0097\n",
      "Epoch: 20, train_accuracy: 74.15, val_accuracy: 78.69, lr: 0.0095\n",
      "Epoch: 21, train_accuracy: 74.41, val_accuracy: 79.54, lr: 0.0093\n",
      "Epoch: 22, train_accuracy: 74.49, val_accuracy: 79.35, lr: 0.0090\n",
      "Epoch: 23, train_accuracy: 74.38, val_accuracy: 79.12, lr: 0.0088\n",
      "Epoch: 24, train_accuracy: 74.28, val_accuracy: 79.80, lr: 0.0085\n",
      "Epoch: 25, train_accuracy: 74.46, val_accuracy: 78.87, lr: 0.0081\n",
      "Epoch: 26, train_accuracy: 75.07, val_accuracy: 79.43, lr: 0.0077\n",
      "Epoch: 27, train_accuracy: 74.71, val_accuracy: 79.62, lr: 0.0074\n",
      "Epoch: 28, train_accuracy: 74.96, val_accuracy: 79.77, lr: 0.0070\n",
      "Epoch: 29, train_accuracy: 74.98, val_accuracy: 79.16, lr: 0.0065\n",
      "Epoch: 30, train_accuracy: 74.84, val_accuracy: 79.81, lr: 0.0061\n",
      "Epoch: 31, train_accuracy: 75.07, val_accuracy: 79.57, lr: 0.0057\n",
      "Epoch: 32, train_accuracy: 74.94, val_accuracy: 79.56, lr: 0.0052\n",
      "Epoch: 33, train_accuracy: 75.01, val_accuracy: 79.70, lr: 0.0048\n",
      "Epoch: 34, train_accuracy: 75.15, val_accuracy: 80.02, lr: 0.0043\n",
      "Epoch: 35, train_accuracy: 75.24, val_accuracy: 80.00, lr: 0.0039\n",
      "Epoch: 36, train_accuracy: 75.32, val_accuracy: 79.93, lr: 0.0034\n",
      "Epoch: 37, train_accuracy: 75.29, val_accuracy: 80.01, lr: 0.0030\n",
      "Epoch: 38, train_accuracy: 75.39, val_accuracy: 79.92, lr: 0.0026\n",
      "Epoch: 39, train_accuracy: 75.62, val_accuracy: 79.90, lr: 0.0022\n",
      "Epoch: 40, train_accuracy: 75.56, val_accuracy: 80.12, lr: 0.0019\n",
      "Epoch: 41, train_accuracy: 75.69, val_accuracy: 80.05, lr: 0.0015\n",
      "Epoch: 42, train_accuracy: 75.73, val_accuracy: 80.13, lr: 0.0012\n",
      "Epoch: 43, train_accuracy: 75.64, val_accuracy: 79.98, lr: 0.0010\n",
      "Epoch: 44, train_accuracy: 75.83, val_accuracy: 80.07, lr: 0.0007\n",
      "Run stopped!\n"
     ]
    },
    {
     "data": {
      "application/vnd.jupyter.widget-view+json": {
       "model_id": "187cc96bf4b2433cbab692b857e0dd71",
       "version_major": 2,
       "version_minor": 0
      },
      "text/plain": [
       "VBox(children=(Label(value='0.013 MB of 0.013 MB uploaded\\r'), FloatProgress(value=1.0, max=1.0)))"
      ]
     },
     "metadata": {},
     "output_type": "display_data"
    },
    {
     "data": {
      "text/html": [
       "\n",
       "    <style>\n",
       "        .wandb-row {\n",
       "            display: flex;\n",
       "            flex-direction: row;\n",
       "            flex-wrap: wrap;\n",
       "            justify-content: flex-start;\n",
       "            width: 100%;\n",
       "        }\n",
       "        .wandb-col {\n",
       "            display: flex;\n",
       "            flex-direction: column;\n",
       "            flex-basis: 100%;\n",
       "            flex: 1;\n",
       "            padding: 10px;\n",
       "        }\n",
       "    </style>\n",
       "<div class=\"wandb-row\"><div class=\"wandb-col\"><h3>Run history:</h3><br/><table class=\"wandb\"><tr><td>epoch</td><td>▁▁▁▁▁▂▂▂▂▂▃▃▃▃▃▄▄▄▄▄▄▅▅▅▅▅▅▆▆▆▆▆▇▇▇▇▇███</td></tr><tr><td>epoch_train_accuracy</td><td>▁▅▆▆▇▇▇▇▇▇▇▇▇█▇█████████████████████████</td></tr><tr><td>epoch_train_loss</td><td>█▄▃▂▂▂▂▂▁▁▁▁▁▁▁▁▁▁▁▁▁▁▁▁▁▁▁▁▁▁▁▁▁▁▁▁▁▁▁▁</td></tr><tr><td>epoch_val_accuracy</td><td>▁▃▄▅▆▇▇▇▇▇▇▇▇▇███▇▇██▇█▇██▇█████████████</td></tr><tr><td>epoch_val_loss</td><td>█▄▃▂▂▂▂▁▁▂▁▁▁▁▁▁▁▁▁▁▁▁▁▁▁▁▁▁▁▁▁▁▁▁▁▁▁▁▁▁</td></tr><tr><td>lr</td><td>▁▂▂▃▄▅▆▆▇▇▇▇████████▇▇▇▇▇▆▅▅▅▄▄▄▄▃▃▂▂▁▁▁</td></tr><tr><td>step_train_accuracy</td><td>▁▅▄▆▅▇▆█▆▇▇▇█▆▇▇█▆▆▇▆▆█▅▇█▆▇▆▇▇▇▇▇▇▇▇██▆</td></tr><tr><td>step_train_loss</td><td>█▆▆▅▅▂▄▄▂▂▂▂▃▃▃▃▃▃▄▂▃▂▂▄▂▂▂▃▃▃▂▁▁▂▃▂▂▃▃▂</td></tr><tr><td>step_val_accuracy</td><td>▁▃▄▅▆▃▇▆▆▇▆▇▆▇▇▆▇▇▆▇▆█▇▇▇▇▇▆▇▆▅▇█▆▆▇█▇▆▆</td></tr><tr><td>step_val_loss</td><td>██▅▄▃▃▃▃▃▂▂▂▂▂▂▂▃▃▂▂▃▂▃▃▂▁▁▁▂▃▂▂▃▃▁▃▂▃▃▂</td></tr><tr><td>training_step</td><td>▁▁▁▂▂▂▂▂▂▃▃▃▃▃▃▄▅▅▅▅▅▅▆▆▆▆▆▆▆▆▇▇▇▇▇▇████</td></tr><tr><td>validation_step</td><td>▁▁▁▁▁▂▂▂▂▂▃▃▃▃▃▄▄▄▄▄▄▅▅▅▅▆▆▆▆▆▆▇▇▇▇▇▇▇██</td></tr></table><br/></div><div class=\"wandb-col\"><h3>Run summary:</h3><br/><table class=\"wandb\"><tr><td>epoch</td><td>44</td></tr><tr><td>epoch_train_accuracy</td><td>75.8317</td></tr><tr><td>epoch_train_loss</td><td>0.68147</td></tr><tr><td>epoch_val_accuracy</td><td>80.06956</td></tr><tr><td>epoch_val_loss</td><td>0.56749</td></tr><tr><td>lr</td><td>0.00049</td></tr><tr><td>model_architecture</td><td>ResNet18(\n",
       "  (feature...</td></tr><tr><td>step_train_accuracy</td><td>75</td></tr><tr><td>step_train_loss</td><td>0.68129</td></tr><tr><td>step_val_accuracy</td><td>81.57895</td></tr><tr><td>step_val_loss</td><td>0.43724</td></tr><tr><td>training_step</td><td>3122</td></tr><tr><td>validation_step</td><td>1350</td></tr></table><br/></div></div>"
      ],
      "text/plain": [
       "<IPython.core.display.HTML object>"
      ]
     },
     "metadata": {},
     "output_type": "display_data"
    },
    {
     "data": {
      "text/html": [
       " View run <strong style=\"color:#cdcd00\">dazzling-pond-365</strong> at: <a href='https://wandb.ai/sampath017/ImageClassification/runs/4umsejyy' target=\"_blank\">https://wandb.ai/sampath017/ImageClassification/runs/4umsejyy</a><br/> View project at: <a href='https://wandb.ai/sampath017/ImageClassification' target=\"_blank\">https://wandb.ai/sampath017/ImageClassification</a><br/>Synced 5 W&B file(s), 0 media file(s), 2 artifact file(s) and 0 other file(s)"
      ],
      "text/plain": [
       "<IPython.core.display.HTML object>"
      ]
     },
     "metadata": {},
     "output_type": "display_data"
    },
    {
     "data": {
      "text/html": [
       "Find logs at: <code>../logs/wandb/run-20241228_082329-4umsejyy/logs</code>"
      ],
      "text/plain": [
       "<IPython.core.display.HTML object>"
      ]
     },
     "metadata": {},
     "output_type": "display_data"
    }
   ],
   "source": [
    "try:\n",
    "    trainer.fit(train_dataloader, val_dataloader)\n",
    "except KeyboardInterrupt as e:\n",
    "    print(\"Run stopped!\")\n",
    "finally:\n",
    "    wandb.finish()"
   ]
  },
  {
   "cell_type": "markdown",
   "metadata": {},
   "source": [
    "[Metrics](https://api.wandb.ai/links/sampath017/iwrrziwg)"
   ]
  },
  {
   "cell_type": "code",
   "execution_count": null,
   "metadata": {},
   "outputs": [],
   "source": []
  }
 ],
 "metadata": {
  "accelerator": "TPU",
  "colab": {
   "gpuType": "V28",
   "provenance": []
  },
  "kaggle": {
   "accelerator": "none",
   "dataSources": [
    {
     "datasetId": 5863031,
     "sourceId": 9608953,
     "sourceType": "datasetVersion"
    }
   ],
   "dockerImageVersionId": 30786,
   "isGpuEnabled": false,
   "isInternetEnabled": true,
   "language": "python",
   "sourceType": "notebook"
  },
  "kernelspec": {
   "display_name": ".venv",
   "language": "python",
   "name": "python3"
  },
  "language_info": {
   "codemirror_mode": {
    "name": "ipython",
    "version": 3
   },
   "file_extension": ".py",
   "mimetype": "text/x-python",
   "name": "python",
   "nbconvert_exporter": "python",
   "pygments_lexer": "ipython3",
   "version": "3.12.0"
  }
 },
 "nbformat": 4,
 "nbformat_minor": 4
}
