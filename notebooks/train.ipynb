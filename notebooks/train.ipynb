{
 "cells": [
  {
   "cell_type": "code",
   "execution_count": 1,
   "metadata": {
    "execution": {
     "iopub.execute_input": "2024-10-16T16:18:53.484908Z",
     "iopub.status.busy": "2024-10-16T16:18:53.484604Z",
     "iopub.status.idle": "2024-10-16T16:18:58.953389Z",
     "shell.execute_reply": "2024-10-16T16:18:58.952570Z",
     "shell.execute_reply.started": "2024-10-16T16:18:53.484876Z"
    },
    "trusted": true
   },
   "outputs": [],
   "source": [
    "import torch\n",
    "from torch import optim\n",
    "from torchsummary import summary\n",
    "from torch.utils.data import random_split, DataLoader\n",
    "from torchvision.datasets import CIFAR10, Food101\n",
    "from torchvision.transforms import v2\n",
    "from pathlib import Path\n",
    "import wandb\n",
    "import os\n",
    "import sys\n",
    "\n",
    "sys.path.append(\"../src\")\n",
    "\n",
    "from trainer import Trainer\n",
    "from module import ResNetModule\n",
    "from utils import model_size, load_from_checkpoint\n",
    "from callbacks import OverfitCallback, EarlyStoppingCallback\n",
    "from logger import WandbLogger\n",
    "from dataset import MapDataset"
   ]
  },
  {
   "cell_type": "code",
   "execution_count": 2,
   "metadata": {
    "execution": {
     "iopub.execute_input": "2024-10-16T16:19:22.754626Z",
     "iopub.status.busy": "2024-10-16T16:19:22.754254Z",
     "iopub.status.idle": "2024-10-16T16:19:22.807647Z",
     "shell.execute_reply": "2024-10-16T16:19:22.806609Z",
     "shell.execute_reply.started": "2024-10-16T16:19:22.754579Z"
    },
    "id": "qrqvKqDjWyD9",
    "trusted": true
   },
   "outputs": [],
   "source": [
    "data_path = Path(\"../data\")\n",
    "logs_path = Path(\"../logs\")\n",
    "logs_path.mkdir(exist_ok=True)"
   ]
  },
  {
   "cell_type": "code",
   "execution_count": 3,
   "metadata": {
    "execution": {
     "iopub.execute_input": "2024-10-16T16:18:59.005310Z",
     "iopub.status.busy": "2024-10-16T16:18:59.005021Z",
     "iopub.status.idle": "2024-10-16T16:19:22.752936Z",
     "shell.execute_reply": "2024-10-16T16:19:22.751992Z",
     "shell.execute_reply.started": "2024-10-16T16:18:59.005276Z"
    },
    "id": "e48Wu90cQZYP",
    "outputId": "d2d91142-1b68-465b-d802-9a5c73628a8a",
    "trusted": true
   },
   "outputs": [],
   "source": [
    "logger = WandbLogger(\n",
    "    project_name=\"ImageClassification\",\n",
    "    config={\n",
    "        \"model_architecture\": \"ResNet18\",\n",
    "        \"num_model_layers\": 18,\n",
    "        \"batch_size\": 1024,\n",
    "        \"max_epochs\": 20,\n",
    "        \"optimizer\": {\n",
    "            \"name\": \"Adam\",\n",
    "            \"weight_decay\": 1e-3\n",
    "        },\n",
    "        \"lr_scheduler\": {\n",
    "            \"max_lr\": 0.01\n",
    "        },\n",
    "        \"train_split\": 0.7,\n",
    "        \"val_split\": 0.3\n",
    "    },\n",
    "    logs_path=logs_path,\n",
    "    offline=False\n",
    ")"
   ]
  },
  {
   "cell_type": "code",
   "execution_count": 4,
   "metadata": {
    "execution": {
     "iopub.execute_input": "2024-10-16T16:19:22.817159Z",
     "iopub.status.busy": "2024-10-16T16:19:22.816408Z",
     "iopub.status.idle": "2024-10-16T16:19:26.500427Z",
     "shell.execute_reply": "2024-10-16T16:19:26.499455Z",
     "shell.execute_reply.started": "2024-10-16T16:19:22.817113Z"
    },
    "id": "ZdeO0nyOXfTK",
    "trusted": true
   },
   "outputs": [
    {
     "name": "stdout",
     "output_type": "stream",
     "text": [
      "Files already downloaded and verified\n"
     ]
    }
   ],
   "source": [
    "cpu_count = os.cpu_count()\n",
    "dataset = CIFAR10(data_path, train=True, download=True)\n",
    "\n",
    "train_dataset, val_dataset = random_split(\n",
    "    dataset, [logger.config[\"train_split\"], logger.config[\"val_split\"]]\n",
    ")\n",
    "\n",
    "val_transforms = v2.Compose([\n",
    "    # Normalize\n",
    "    v2.ToImage(),\n",
    "    v2.ToDtype(torch.float32, scale=True),\n",
    "    v2.Normalize(mean=(0.4914, 0.4822, 0.4465), std=(0.2023, 0.1994, 0.2010))\n",
    "])\n",
    "\n",
    "train_dataset = MapDataset(train_dataset, transform=v2.Compose([\n",
    "    # Data auguments\n",
    "    v2.RandomCrop(size=(32, 32), padding=4, padding_mode='reflect'),\n",
    "    v2.RandomHorizontalFlip(),\n",
    "\n",
    "    val_transforms\n",
    "]))\n",
    "\n",
    "val_dataset = MapDataset(val_dataset, transform=val_transforms)\n",
    "\n",
    "train_dataloader = DataLoader(\n",
    "    train_dataset, batch_size=logger.config[\"batch_size\"], shuffle=True, num_workers=cpu_count, pin_memory=True)\n",
    "val_dataloader = DataLoader(\n",
    "    val_dataset, batch_size=logger.config[\"batch_size\"],  num_workers=cpu_count, pin_memory=True)"
   ]
  },
  {
   "cell_type": "code",
   "execution_count": 5,
   "metadata": {},
   "outputs": [],
   "source": [
    "callbacks = [\n",
    "    EarlyStoppingCallback(min_val_accuracy=95.0, accuracy_diff=5.0, wait_epochs=5),\n",
    "    # OverfitCallback(limit_batches=1, batch_size=10, max_epochs=500, augument_data=False)\n",
    "]"
   ]
  },
  {
   "cell_type": "code",
   "execution_count": 6,
   "metadata": {},
   "outputs": [],
   "source": [
    "module = ResNetModule(toy_model=False)\n",
    "optimizer = optim.AdamW(\n",
    "    params=module.model.parameters(),\n",
    "    weight_decay=logger.config[\"optimizer\"][\"weight_decay\"]\n",
    ")\n",
    "\n",
    "lr_scheduler = torch.optim.lr_scheduler.OneCycleLR(\n",
    "    optimizer=optimizer,\n",
    "    max_lr=logger.config[\"lr_scheduler\"][\"max_lr\"],\n",
    "    epochs=logger.config[\"max_epochs\"],\n",
    "    steps_per_epoch=len(train_dataloader)\n",
    ")"
   ]
  },
  {
   "cell_type": "code",
   "execution_count": 7,
   "metadata": {},
   "outputs": [
    {
     "name": "stdout",
     "output_type": "stream",
     "text": [
      "----------------------------------------------------------------\n",
      "        Layer (type)               Output Shape         Param #\n",
      "================================================================\n",
      "            Conv2d-1         [1024, 64, 32, 32]           1,728\n",
      "       BatchNorm2d-2         [1024, 64, 32, 32]             128\n",
      "              ReLU-3         [1024, 64, 32, 32]               0\n",
      "         ConvBlock-4         [1024, 64, 32, 32]               0\n",
      "            Conv2d-5        [1024, 128, 32, 32]          73,728\n",
      "       BatchNorm2d-6        [1024, 128, 32, 32]             256\n",
      "              ReLU-7        [1024, 128, 32, 32]               0\n",
      "         MaxPool2d-8        [1024, 128, 16, 16]               0\n",
      "         ConvBlock-9        [1024, 128, 16, 16]               0\n",
      "           Conv2d-10        [1024, 128, 16, 16]         147,456\n",
      "      BatchNorm2d-11        [1024, 128, 16, 16]             256\n",
      "             ReLU-12        [1024, 128, 16, 16]               0\n",
      "           Conv2d-13        [1024, 128, 16, 16]         147,456\n",
      "      BatchNorm2d-14        [1024, 128, 16, 16]             256\n",
      "             ReLU-15        [1024, 128, 16, 16]               0\n",
      "         ResBlock-16        [1024, 128, 16, 16]               0\n",
      "           Conv2d-17        [1024, 256, 16, 16]         294,912\n",
      "      BatchNorm2d-18        [1024, 256, 16, 16]             512\n",
      "             ReLU-19        [1024, 256, 16, 16]               0\n",
      "        MaxPool2d-20          [1024, 256, 8, 8]               0\n",
      "        ConvBlock-21          [1024, 256, 8, 8]               0\n",
      "           Conv2d-22          [1024, 512, 8, 8]       1,179,648\n",
      "      BatchNorm2d-23          [1024, 512, 8, 8]           1,024\n",
      "             ReLU-24          [1024, 512, 8, 8]               0\n",
      "        MaxPool2d-25          [1024, 512, 4, 4]               0\n",
      "        ConvBlock-26          [1024, 512, 4, 4]               0\n",
      "           Conv2d-27          [1024, 512, 4, 4]       2,359,296\n",
      "      BatchNorm2d-28          [1024, 512, 4, 4]           1,024\n",
      "             ReLU-29          [1024, 512, 4, 4]               0\n",
      "           Conv2d-30          [1024, 512, 4, 4]       2,359,296\n",
      "      BatchNorm2d-31          [1024, 512, 4, 4]           1,024\n",
      "             ReLU-32          [1024, 512, 4, 4]               0\n",
      "         ResBlock-33          [1024, 512, 4, 4]               0\n",
      "           Conv2d-34          [1024, 512, 4, 4]       2,359,296\n",
      "      BatchNorm2d-35          [1024, 512, 4, 4]           1,024\n",
      "             ReLU-36          [1024, 512, 4, 4]               0\n",
      "        ConvBlock-37          [1024, 512, 4, 4]               0\n",
      "           Conv2d-38          [1024, 512, 4, 4]       2,359,296\n",
      "      BatchNorm2d-39          [1024, 512, 4, 4]           1,024\n",
      "             ReLU-40          [1024, 512, 4, 4]               0\n",
      "        ConvBlock-41          [1024, 512, 4, 4]               0\n",
      "           Conv2d-42          [1024, 512, 4, 4]       2,359,296\n",
      "      BatchNorm2d-43          [1024, 512, 4, 4]           1,024\n",
      "             ReLU-44          [1024, 512, 4, 4]               0\n",
      "           Conv2d-45          [1024, 512, 4, 4]       2,359,296\n",
      "      BatchNorm2d-46          [1024, 512, 4, 4]           1,024\n",
      "             ReLU-47          [1024, 512, 4, 4]               0\n",
      "         ResBlock-48          [1024, 512, 4, 4]               0\n",
      "           Conv2d-49          [1024, 512, 4, 4]       2,359,296\n",
      "      BatchNorm2d-50          [1024, 512, 4, 4]           1,024\n",
      "             ReLU-51          [1024, 512, 4, 4]               0\n",
      "        ConvBlock-52          [1024, 512, 4, 4]               0\n",
      "           Conv2d-53          [1024, 512, 4, 4]       2,359,296\n",
      "      BatchNorm2d-54          [1024, 512, 4, 4]           1,024\n",
      "             ReLU-55          [1024, 512, 4, 4]               0\n",
      "        ConvBlock-56          [1024, 512, 4, 4]               0\n",
      "           Conv2d-57          [1024, 512, 4, 4]       2,359,296\n",
      "      BatchNorm2d-58          [1024, 512, 4, 4]           1,024\n",
      "             ReLU-59          [1024, 512, 4, 4]               0\n",
      "           Conv2d-60          [1024, 512, 4, 4]       2,359,296\n",
      "      BatchNorm2d-61          [1024, 512, 4, 4]           1,024\n",
      "             ReLU-62          [1024, 512, 4, 4]               0\n",
      "         ResBlock-63          [1024, 512, 4, 4]               0\n",
      "        MaxPool2d-64          [1024, 512, 1, 1]               0\n",
      "          Flatten-65                [1024, 512]               0\n",
      "           Linear-66                [1024, 256]         131,328\n",
      "           Linear-67                 [1024, 10]           2,570\n",
      "================================================================\n",
      "Total params: 25,584,458\n",
      "Trainable params: 25,584,458\n",
      "Non-trainable params: 0\n",
      "----------------------------------------------------------------\n",
      "Input size (MB): 12.00\n",
      "Forward/backward pass size (MB): 12490.08\n",
      "Params size (MB): 97.60\n",
      "Estimated Total Size (MB): 12599.68\n",
      "----------------------------------------------------------------\n"
     ]
    }
   ],
   "source": [
    "# module.model, optimizer = load_from_checkpoint(\n",
    "#     path=\"../logs/wandb/offline-run-20241215_132918-77n093vj/checkpoints/best.pt\",\n",
    "#     model=module.model,\n",
    "#     optimizer=optimizer\n",
    "# )\n",
    "\n",
    "summary(module.model, input_size=(train_dataset[0][0].shape), batch_size=logger.config[\"batch_size\"], device=\"cpu\")"
   ]
  },
  {
   "cell_type": "code",
   "execution_count": 8,
   "metadata": {},
   "outputs": [
    {
     "data": {
      "text/plain": [
       "35"
      ]
     },
     "execution_count": 8,
     "metadata": {},
     "output_type": "execute_result"
    }
   ],
   "source": [
    "len(train_dataloader)"
   ]
  },
  {
   "cell_type": "code",
   "execution_count": 9,
   "metadata": {
    "execution": {
     "iopub.execute_input": "2024-10-16T16:19:26.511478Z",
     "iopub.status.busy": "2024-10-16T16:19:26.511073Z",
     "iopub.status.idle": "2024-10-16T16:19:26.783322Z",
     "shell.execute_reply": "2024-10-16T16:19:26.782365Z",
     "shell.execute_reply.started": "2024-10-16T16:19:26.511414Z"
    },
    "id": "jJEUcS0-Xf9N",
    "trusted": true
   },
   "outputs": [],
   "source": [
    "trainer = Trainer(\n",
    "    module=module,\n",
    "    logger=logger,\n",
    "    optimizer=optimizer,\n",
    "    callbacks=callbacks,\n",
    "    logs_path=logs_path,\n",
    "    fast_dev_run=False,\n",
    "    measure_time=True,\n",
    "    lr_scheduler=lr_scheduler,\n",
    "    lr_scheduler_on_epoch=False,\n",
    "    checkpoint=\"best_val\",\n",
    "    num_workers=cpu_count\n",
    ")"
   ]
  },
  {
   "cell_type": "code",
   "execution_count": 10,
   "metadata": {},
   "outputs": [
    {
     "data": {
      "text/plain": [
       "'cuda'"
      ]
     },
     "execution_count": 10,
     "metadata": {},
     "output_type": "execute_result"
    }
   ],
   "source": [
    "module.device"
   ]
  },
  {
   "cell_type": "code",
   "execution_count": 11,
   "metadata": {
    "execution": {
     "iopub.execute_input": "2024-10-16T16:19:26.784997Z",
     "iopub.status.busy": "2024-10-16T16:19:26.784612Z",
     "iopub.status.idle": "2024-10-16T16:33:32.678177Z",
     "shell.execute_reply": "2024-10-16T16:33:32.677331Z",
     "shell.execute_reply.started": "2024-10-16T16:19:26.784949Z"
    },
    "id": "9SmUWgkRXkng",
    "trusted": true
   },
   "outputs": [
    {
     "name": "stderr",
     "output_type": "stream",
     "text": [
      "\u001b[34m\u001b[1mwandb\u001b[0m: Using wandb-core as the SDK backend.  Please refer to https://wandb.me/wandb-core for more information.\n",
      "\u001b[34m\u001b[1mwandb\u001b[0m: Currently logged in as: \u001b[33msampath017\u001b[0m. Use \u001b[1m`wandb login --relogin`\u001b[0m to force relogin\n"
     ]
    },
    {
     "data": {
      "text/html": [
       "Tracking run with wandb version 0.18.7"
      ],
      "text/plain": [
       "<IPython.core.display.HTML object>"
      ]
     },
     "metadata": {},
     "output_type": "display_data"
    },
    {
     "data": {
      "text/html": [
       "Run data is saved locally in <code>../logs/wandb/run-20241216_183059-radnidd4</code>"
      ],
      "text/plain": [
       "<IPython.core.display.HTML object>"
      ]
     },
     "metadata": {},
     "output_type": "display_data"
    },
    {
     "data": {
      "text/html": [
       "Syncing run <strong><a href='https://wandb.ai/sampath017/ImageClassification/runs/radnidd4' target=\"_blank\">eager-snow-317</a></strong> to <a href='https://wandb.ai/sampath017/ImageClassification' target=\"_blank\">Weights & Biases</a> (<a href='https://wandb.me/developer-guide' target=\"_blank\">docs</a>)<br/>"
      ],
      "text/plain": [
       "<IPython.core.display.HTML object>"
      ]
     },
     "metadata": {},
     "output_type": "display_data"
    },
    {
     "data": {
      "text/html": [
       " View project at <a href='https://wandb.ai/sampath017/ImageClassification' target=\"_blank\">https://wandb.ai/sampath017/ImageClassification</a>"
      ],
      "text/plain": [
       "<IPython.core.display.HTML object>"
      ]
     },
     "metadata": {},
     "output_type": "display_data"
    },
    {
     "data": {
      "text/html": [
       " View run at <a href='https://wandb.ai/sampath017/ImageClassification/runs/radnidd4' target=\"_blank\">https://wandb.ai/sampath017/ImageClassification/runs/radnidd4</a>"
      ],
      "text/plain": [
       "<IPython.core.display.HTML object>"
      ]
     },
     "metadata": {},
     "output_type": "display_data"
    },
    {
     "name": "stdout",
     "output_type": "stream",
     "text": [
      "Time per epoch: 19.25 seconds\n",
      "Epoch: 0, train_accuracy: 27.70, val_accuracy: 24.28, lr: 0.0010\n",
      "Epoch: 1, train_accuracy: 42.71, val_accuracy: 26.46, lr: 0.0028\n",
      "Epoch: 2, train_accuracy: 54.25, val_accuracy: 33.68, lr: 0.0052\n",
      "Epoch: 3, train_accuracy: 60.74, val_accuracy: 49.09, lr: 0.0076\n",
      "Epoch: 4, train_accuracy: 68.22, val_accuracy: 61.09, lr: 0.0094\n",
      "Epoch: 5, train_accuracy: 72.12, val_accuracy: 55.12, lr: 0.0100\n",
      "Epoch: 6, train_accuracy: 75.89, val_accuracy: 62.25, lr: 0.0099\n",
      "Epoch: 7, train_accuracy: 79.12, val_accuracy: 75.70, lr: 0.0095\n",
      "Epoch: 8, train_accuracy: 81.61, val_accuracy: 77.95, lr: 0.0089\n",
      "Epoch: 9, train_accuracy: 83.49, val_accuracy: 77.05, lr: 0.0081\n",
      "Epoch: 10, train_accuracy: 85.32, val_accuracy: 82.16, lr: 0.0072\n",
      "Epoch: 11, train_accuracy: 86.90, val_accuracy: 84.03, lr: 0.0061\n",
      "Epoch: 12, train_accuracy: 88.96, val_accuracy: 86.26, lr: 0.0050\n",
      "Epoch: 13, train_accuracy: 90.60, val_accuracy: 87.20, lr: 0.0039\n",
      "Epoch: 14, train_accuracy: 91.93, val_accuracy: 87.40, lr: 0.0028\n",
      "Epoch: 15, train_accuracy: 93.44, val_accuracy: 87.99, lr: 0.0019\n",
      "Epoch: 16, train_accuracy: 94.26, val_accuracy: 90.13, lr: 0.0011\n",
      "Epoch: 17, train_accuracy: 95.15, val_accuracy: 90.17, lr: 0.0005\n",
      "Epoch: 18, train_accuracy: 95.70, val_accuracy: 90.79, lr: 0.0001\n",
      "Epoch: 19, train_accuracy: 96.15, val_accuracy: 90.80, lr: 0.0000\n"
     ]
    },
    {
     "data": {
      "application/vnd.jupyter.widget-view+json": {
       "model_id": "b65345b2a52246548b8fa55338087d3d",
       "version_major": 2,
       "version_minor": 0
      },
      "text/plain": [
       "VBox(children=(Label(value='59.511 MB of 292.931 MB uploaded\\r'), FloatProgress(value=0.20315719185251385, max…"
      ]
     },
     "metadata": {},
     "output_type": "display_data"
    },
    {
     "data": {
      "text/html": [
       "\n",
       "    <style>\n",
       "        .wandb-row {\n",
       "            display: flex;\n",
       "            flex-direction: row;\n",
       "            flex-wrap: wrap;\n",
       "            justify-content: flex-start;\n",
       "            width: 100%;\n",
       "        }\n",
       "        .wandb-col {\n",
       "            display: flex;\n",
       "            flex-direction: column;\n",
       "            flex-basis: 100%;\n",
       "            flex: 1;\n",
       "            padding: 10px;\n",
       "        }\n",
       "    </style>\n",
       "<div class=\"wandb-row\"><div class=\"wandb-col\"><h3>Run history:</h3><br/><table class=\"wandb\"><tr><td>epoch</td><td>▁▁▁▁▂▂▂▂▂▂▃▃▃▃▄▄▄▄▄▄▅▅▅▅▅▅▆▆▆▆▇▇▇▇▇▇████</td></tr><tr><td>epoch_train_accuracy</td><td>▁▃▄▄▅▆▆▆▇▇▇▇▇▇██████</td></tr><tr><td>epoch_train_loss</td><td>█▆▅▅▄▄▃▃▃▂▂▂▂▂▁▁▁▁▁▁</td></tr><tr><td>epoch_val_accuracy</td><td>▁▁▂▄▅▄▅▆▇▇▇▇████████</td></tr><tr><td>epoch_val_loss</td><td>▆█▆▄▂▃▂▂▁▂▁▁▁▁▁▁▁▁▁▁</td></tr><tr><td>lr</td><td>▁▁▁▁▂▂▂▂▃▃▆▆████▇▇▇▇▆▅▅▅▄▃▃▃▃▃▃▂▂▂▂▁▁▁▁▁</td></tr><tr><td>step_train_accuracy</td><td>▁▃▄▄▄▅▅▅▆▆▆▆▆▆▆▇▇▇▇▇▇▇▇▇▇▇▇▇▇▇▇█████████</td></tr><tr><td>step_train_loss</td><td>█▇▇▆▆▅▅▅▄▄▄▃▃▃▃▃▃▃▃▃▂▂▂▂▂▂▂▂▁▁▁▁▁▁▁▁▁▁▁▁</td></tr><tr><td>step_val_accuracy</td><td>▁▁▂▂▂▂▂▄▄▅▄▅▅▇▇▇▇▇▇▇▇▇▇▇▇███████████████</td></tr><tr><td>step_val_loss</td><td>▅▅▅▆███▅▆▅▂▂▃▂▂▂▂▁▁▁▁▁▁▁▁▁▁▁▁▁▁▁▁▁▁▁▁▁▁▁</td></tr><tr><td>training_step</td><td>▁▁▁▁▂▂▂▂▂▂▂▃▃▃▃▄▄▄▄▄▄▄▅▅▅▆▆▆▆▆▆▆▇▇▇▇▇▇▇█</td></tr><tr><td>validation_step</td><td>▁▁▁▁▁▁▂▂▂▂▃▃▃▃▄▄▄▄▄▄▅▅▅▅▅▅▆▆▆▆▆▆▇▇▇▇▇▇██</td></tr></table><br/></div><div class=\"wandb-col\"><h3>Run summary:</h3><br/><table class=\"wandb\"><tr><td>epoch</td><td>19</td></tr><tr><td>epoch_train_accuracy</td><td>96.15162</td></tr><tr><td>epoch_train_loss</td><td>0.11261</td></tr><tr><td>epoch_val_accuracy</td><td>90.80384</td></tr><tr><td>epoch_val_loss</td><td>0.31369</td></tr><tr><td>lr</td><td>0.0</td></tr><tr><td>model_architecture</td><td>ResNet18(\n",
       "  (feature...</td></tr><tr><td>step_train_accuracy</td><td>97.82609</td></tr><tr><td>step_train_loss</td><td>0.06194</td></tr><tr><td>step_val_accuracy</td><td>90.96385</td></tr><tr><td>step_val_loss</td><td>0.32523</td></tr><tr><td>training_step</td><td>700</td></tr><tr><td>validation_step</td><td>300</td></tr></table><br/></div></div>"
      ],
      "text/plain": [
       "<IPython.core.display.HTML object>"
      ]
     },
     "metadata": {},
     "output_type": "display_data"
    },
    {
     "data": {
      "text/html": [
       " View run <strong style=\"color:#cdcd00\">eager-snow-317</strong> at: <a href='https://wandb.ai/sampath017/ImageClassification/runs/radnidd4' target=\"_blank\">https://wandb.ai/sampath017/ImageClassification/runs/radnidd4</a><br/> View project at: <a href='https://wandb.ai/sampath017/ImageClassification' target=\"_blank\">https://wandb.ai/sampath017/ImageClassification</a><br/>Synced 5 W&B file(s), 0 media file(s), 2 artifact file(s) and 0 other file(s)"
      ],
      "text/plain": [
       "<IPython.core.display.HTML object>"
      ]
     },
     "metadata": {},
     "output_type": "display_data"
    },
    {
     "data": {
      "text/html": [
       "Find logs at: <code>../logs/wandb/run-20241216_183059-radnidd4/logs</code>"
      ],
      "text/plain": [
       "<IPython.core.display.HTML object>"
      ]
     },
     "metadata": {},
     "output_type": "display_data"
    }
   ],
   "source": [
    "try:\n",
    "    trainer.fit(train_dataloader, val_dataloader)\n",
    "except KeyboardInterrupt as e:\n",
    "    print(\"Run stopped!\")\n",
    "finally:\n",
    "    wandb.finish()"
   ]
  },
  {
   "cell_type": "markdown",
   "metadata": {},
   "source": [
    "[Metrics](https://api.wandb.ai/links/sampath017/iwrrziwg)"
   ]
  },
  {
   "cell_type": "markdown",
   "metadata": {},
   "source": []
  }
 ],
 "metadata": {
  "accelerator": "TPU",
  "colab": {
   "gpuType": "V28",
   "provenance": []
  },
  "kaggle": {
   "accelerator": "none",
   "dataSources": [
    {
     "datasetId": 5863031,
     "sourceId": 9608953,
     "sourceType": "datasetVersion"
    }
   ],
   "dockerImageVersionId": 30786,
   "isGpuEnabled": false,
   "isInternetEnabled": true,
   "language": "python",
   "sourceType": "notebook"
  },
  "kernelspec": {
   "display_name": ".venv",
   "language": "python",
   "name": "python3"
  },
  "language_info": {
   "codemirror_mode": {
    "name": "ipython",
    "version": 3
   },
   "file_extension": ".py",
   "mimetype": "text/x-python",
   "name": "python",
   "nbconvert_exporter": "python",
   "pygments_lexer": "ipython3",
   "version": "3.12.8"
  }
 },
 "nbformat": 4,
 "nbformat_minor": 4
}
