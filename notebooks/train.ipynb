{
 "cells": [
  {
   "cell_type": "code",
   "execution_count": 17,
   "metadata": {},
   "outputs": [
    {
     "name": "stdout",
     "output_type": "stream",
     "text": [
      "The autoreload extension is already loaded. To reload it, use:\n",
      "  %reload_ext autoreload\n"
     ]
    }
   ],
   "source": [
    "%load_ext autoreload\n",
    "%autoreload 2"
   ]
  },
  {
   "cell_type": "code",
   "execution_count": 18,
   "metadata": {
    "execution": {
     "iopub.execute_input": "2024-10-16T16:18:53.484908Z",
     "iopub.status.busy": "2024-10-16T16:18:53.484604Z",
     "iopub.status.idle": "2024-10-16T16:18:58.953389Z",
     "shell.execute_reply": "2024-10-16T16:18:58.952570Z",
     "shell.execute_reply.started": "2024-10-16T16:18:53.484876Z"
    },
    "trusted": true
   },
   "outputs": [],
   "source": [
    "import torch\n",
    "from torch.utils.data import random_split, DataLoader\n",
    "from torchvision.datasets import CIFAR10\n",
    "from torchvision.transforms import v2\n",
    "from pathlib import Path\n",
    "import wandb\n",
    "\n",
    "import sys\n",
    "\n",
    "sys.path.append(\"../src\")\n",
    "\n",
    "from trainer import Trainer\n",
    "from module import VGGNetModule\n",
    "from utils import model_size\n",
    "from callbacks import OverfitCallback\n",
    "from logger import WandbLogger"
   ]
  },
  {
   "cell_type": "code",
   "execution_count": 19,
   "metadata": {
    "execution": {
     "iopub.execute_input": "2024-10-16T16:19:22.754626Z",
     "iopub.status.busy": "2024-10-16T16:19:22.754254Z",
     "iopub.status.idle": "2024-10-16T16:19:22.807647Z",
     "shell.execute_reply": "2024-10-16T16:19:22.806609Z",
     "shell.execute_reply.started": "2024-10-16T16:19:22.754579Z"
    },
    "id": "qrqvKqDjWyD9",
    "trusted": true
   },
   "outputs": [
    {
     "data": {
      "text/plain": [
       "'cpu'"
      ]
     },
     "execution_count": 19,
     "metadata": {},
     "output_type": "execute_result"
    }
   ],
   "source": [
    "data_path = Path(\"../data\")\n",
    "logs_path = Path(\"../logs\")\n",
    "\n",
    "device = \"cuda\" if torch.cuda.is_available() else \"cpu\"\n",
    "device"
   ]
  },
  {
   "cell_type": "code",
   "execution_count": 20,
   "metadata": {
    "execution": {
     "iopub.execute_input": "2024-10-16T16:18:59.005310Z",
     "iopub.status.busy": "2024-10-16T16:18:59.005021Z",
     "iopub.status.idle": "2024-10-16T16:19:22.752936Z",
     "shell.execute_reply": "2024-10-16T16:19:22.751992Z",
     "shell.execute_reply.started": "2024-10-16T16:18:59.005276Z"
    },
    "id": "e48Wu90cQZYP",
    "outputId": "d2d91142-1b68-465b-d802-9a5c73628a8a",
    "trusted": true
   },
   "outputs": [],
   "source": [
    "logger = WandbLogger(\n",
    "    project_name=\"ImageClassification\",\n",
    "    config={\n",
    "        \"model_architecture\": \"ConvNet\",\n",
    "        \"batch_size\": 64,\n",
    "        \"epochs\": 50,\n",
    "        \"optimizer\": {\n",
    "            \"name\": \"Adam\",\n",
    "        },\n",
    "        \"train_split\": 42_000,\n",
    "        \"val_split\": 8000\n",
    "    },\n",
    "    logs_path=logs_path\n",
    ")"
   ]
  },
  {
   "cell_type": "code",
   "execution_count": 21,
   "metadata": {
    "execution": {
     "iopub.execute_input": "2024-10-16T16:19:22.817159Z",
     "iopub.status.busy": "2024-10-16T16:19:22.816408Z",
     "iopub.status.idle": "2024-10-16T16:19:26.500427Z",
     "shell.execute_reply": "2024-10-16T16:19:26.499455Z",
     "shell.execute_reply.started": "2024-10-16T16:19:22.817113Z"
    },
    "id": "ZdeO0nyOXfTK",
    "trusted": true
   },
   "outputs": [
    {
     "name": "stdout",
     "output_type": "stream",
     "text": [
      "Files already downloaded and verified\n"
     ]
    }
   ],
   "source": [
    "dataset = CIFAR10(data_path, train=True, download=True, transform=v2.Compose([\n",
    "    # Normalize\n",
    "    v2.ToImage(),\n",
    "    v2.ToDtype(torch.float32, scale=True),\n",
    "    v2.Normalize(mean=(0.4914, 0.4822, 0.4465), std=(0.2023, 0.1994, 0.2010))\n",
    "]))\n",
    "\n",
    "train_dataset, val_dataset = random_split(\n",
    "    dataset, [logger.config[\"train_split\"], logger.config[\"val_split\"]])\n",
    "\n",
    "train_dataloader = DataLoader(\n",
    "    train_dataset, batch_size=logger.config[\"batch_size\"], shuffle=True)\n",
    "val_dataloader = DataLoader(val_dataset, batch_size=logger.config[\"batch_size\"])"
   ]
  },
  {
   "cell_type": "code",
   "execution_count": 22,
   "metadata": {},
   "outputs": [],
   "source": [
    "callbacks = [\n",
    "    # OverfitCallback(limit_batches=2, max_epochs=200)\n",
    "]"
   ]
  },
  {
   "cell_type": "code",
   "execution_count": 23,
   "metadata": {
    "execution": {
     "iopub.execute_input": "2024-10-16T16:19:26.511478Z",
     "iopub.status.busy": "2024-10-16T16:19:26.511073Z",
     "iopub.status.idle": "2024-10-16T16:19:26.783322Z",
     "shell.execute_reply": "2024-10-16T16:19:26.782365Z",
     "shell.execute_reply.started": "2024-10-16T16:19:26.511414Z"
    },
    "id": "jJEUcS0-Xf9N",
    "trusted": true
   },
   "outputs": [],
   "source": [
    "module = VGGNetModule()\n",
    "\n",
    "trainer = Trainer(\n",
    "    module=module,\n",
    "    logger=logger,\n",
    "    callbacks=callbacks,\n",
    "    logs_path=logs_path,\n",
    "    device=device,\n",
    "    fast_dev_run=False\n",
    ")"
   ]
  },
  {
   "cell_type": "code",
   "execution_count": 24,
   "metadata": {
    "execution": {
     "iopub.execute_input": "2024-10-16T16:19:26.784997Z",
     "iopub.status.busy": "2024-10-16T16:19:26.784612Z",
     "iopub.status.idle": "2024-10-16T16:33:32.678177Z",
     "shell.execute_reply": "2024-10-16T16:33:32.677331Z",
     "shell.execute_reply.started": "2024-10-16T16:19:26.784949Z"
    },
    "id": "9SmUWgkRXkng",
    "trusted": true
   },
   "outputs": [
    {
     "data": {
      "text/html": [
       "Tracking run with wandb version 0.18.7"
      ],
      "text/plain": [
       "<IPython.core.display.HTML object>"
      ]
     },
     "metadata": {},
     "output_type": "display_data"
    },
    {
     "data": {
      "text/html": [
       "Run data is saved locally in <code>../logs/wandb/run-20241127_072526-09jyamix</code>"
      ],
      "text/plain": [
       "<IPython.core.display.HTML object>"
      ]
     },
     "metadata": {},
     "output_type": "display_data"
    },
    {
     "data": {
      "text/html": [
       "Syncing run <strong><a href='https://wandb.ai/sampath017/ImageClassification/runs/09jyamix' target=\"_blank\">skilled-dawn-133</a></strong> to <a href='https://wandb.ai/sampath017/ImageClassification' target=\"_blank\">Weights & Biases</a> (<a href='https://wandb.me/developer-guide' target=\"_blank\">docs</a>)<br/>"
      ],
      "text/plain": [
       "<IPython.core.display.HTML object>"
      ]
     },
     "metadata": {},
     "output_type": "display_data"
    },
    {
     "data": {
      "text/html": [
       " View project at <a href='https://wandb.ai/sampath017/ImageClassification' target=\"_blank\">https://wandb.ai/sampath017/ImageClassification</a>"
      ],
      "text/plain": [
       "<IPython.core.display.HTML object>"
      ]
     },
     "metadata": {},
     "output_type": "display_data"
    },
    {
     "data": {
      "text/html": [
       " View run at <a href='https://wandb.ai/sampath017/ImageClassification/runs/09jyamix' target=\"_blank\">https://wandb.ai/sampath017/ImageClassification/runs/09jyamix</a>"
      ],
      "text/plain": [
       "<IPython.core.display.HTML object>"
      ]
     },
     "metadata": {},
     "output_type": "display_data"
    },
    {
     "name": "stdout",
     "output_type": "stream",
     "text": [
      "Epoch: 0, train_accuracy: 46.52, val_accuracy: 54.33\n",
      "Epoch: 1, train_accuracy: 58.75, val_accuracy: 59.14\n",
      "Epoch: 2, train_accuracy: 62.00, val_accuracy: 61.65\n",
      "Epoch: 3, train_accuracy: 63.72, val_accuracy: 61.75\n",
      "Epoch: 4, train_accuracy: 65.33, val_accuracy: 62.49\n",
      "Epoch: 5, train_accuracy: 66.33, val_accuracy: 64.35\n",
      "Epoch: 6, train_accuracy: 66.94, val_accuracy: 64.62\n",
      "Epoch: 7, train_accuracy: 67.73, val_accuracy: 65.45\n",
      "Epoch: 8, train_accuracy: 68.51, val_accuracy: 62.79\n",
      "Epoch: 9, train_accuracy: 68.79, val_accuracy: 63.38\n",
      "Epoch: 10, train_accuracy: 69.37, val_accuracy: 65.90\n",
      "Epoch: 11, train_accuracy: 69.52, val_accuracy: 65.78\n",
      "Epoch: 12, train_accuracy: 69.84, val_accuracy: 65.66\n",
      "Epoch: 13, train_accuracy: 70.12, val_accuracy: 66.30\n",
      "Epoch: 14, train_accuracy: 70.33, val_accuracy: 66.34\n",
      "Epoch: 15, train_accuracy: 70.70, val_accuracy: 66.20\n",
      "Epoch: 16, train_accuracy: 70.99, val_accuracy: 65.26\n",
      "Epoch: 17, train_accuracy: 71.02, val_accuracy: 66.94\n",
      "Epoch: 18, train_accuracy: 71.08, val_accuracy: 65.28\n",
      "Epoch: 19, train_accuracy: 71.51, val_accuracy: 67.26\n",
      "Epoch: 20, train_accuracy: 71.58, val_accuracy: 66.35\n",
      "Epoch: 21, train_accuracy: 71.69, val_accuracy: 66.50\n",
      "Epoch: 22, train_accuracy: 71.78, val_accuracy: 66.34\n",
      "Epoch: 23, train_accuracy: 71.95, val_accuracy: 67.04\n",
      "Epoch: 24, train_accuracy: 72.12, val_accuracy: 67.43\n",
      "Run stopped!\n"
     ]
    },
    {
     "data": {
      "text/html": [
       "\n",
       "    <style>\n",
       "        .wandb-row {\n",
       "            display: flex;\n",
       "            flex-direction: row;\n",
       "            flex-wrap: wrap;\n",
       "            justify-content: flex-start;\n",
       "            width: 100%;\n",
       "        }\n",
       "        .wandb-col {\n",
       "            display: flex;\n",
       "            flex-direction: column;\n",
       "            flex-basis: 100%;\n",
       "            flex: 1;\n",
       "            padding: 10px;\n",
       "        }\n",
       "    </style>\n",
       "<div class=\"wandb-row\"><div class=\"wandb-col\"><h3>Run history:</h3><br/><table class=\"wandb\"><tr><td>epoch</td><td>▁▁▁▁▂▂▂▂▂▂▃▃▃▃▃▄▄▄▄▄▅▅▅▅▅▅▆▆▆▆▇▇▇▇▇▇▇███</td></tr><tr><td>epoch_train_accuracy</td><td>▁▄▅▆▆▆▇▇▇▇▇▇▇▇███████████</td></tr><tr><td>epoch_train_loss</td><td>█▅▄▃▃▃▂▂▂▂▂▂▂▂▁▁▁▁▁▁▁▁▁▁▁</td></tr><tr><td>epoch_val_accuracy</td><td>▁▄▅▅▅▆▇▇▆▆▇▇▇▇▇▇▇█▇█▇█▇██</td></tr><tr><td>epoch_val_loss</td><td>█▆▄▄▄▃▃▂▄▄▂▂▂▂▂▂▂▁▃▁▂▂▂▁▁</td></tr><tr><td>step</td><td>▇▇▅▇▁▅▁▃▆█▇▇▇▇█▂▂▅▃▇▃▅▇█▂█▅▃▆▄▆▆▁▂▃▅▅█▁▆</td></tr></table><br/></div><div class=\"wandb-col\"><h3>Run summary:</h3><br/><table class=\"wandb\"><tr><td>epoch</td><td>24</td></tr><tr><td>epoch_train_accuracy</td><td>72.11758</td></tr><tr><td>epoch_train_loss</td><td>0.80032</td></tr><tr><td>epoch_val_accuracy</td><td>67.425</td></tr><tr><td>epoch_val_loss</td><td>0.94173</td></tr><tr><td>step</td><td>478</td></tr></table><br/></div></div>"
      ],
      "text/plain": [
       "<IPython.core.display.HTML object>"
      ]
     },
     "metadata": {},
     "output_type": "display_data"
    },
    {
     "data": {
      "text/html": [
       " View run <strong style=\"color:#cdcd00\">skilled-dawn-133</strong> at: <a href='https://wandb.ai/sampath017/ImageClassification/runs/09jyamix' target=\"_blank\">https://wandb.ai/sampath017/ImageClassification/runs/09jyamix</a><br/> View project at: <a href='https://wandb.ai/sampath017/ImageClassification' target=\"_blank\">https://wandb.ai/sampath017/ImageClassification</a><br/>Synced 5 W&B file(s), 0 media file(s), 50 artifact file(s) and 0 other file(s)"
      ],
      "text/plain": [
       "<IPython.core.display.HTML object>"
      ]
     },
     "metadata": {},
     "output_type": "display_data"
    },
    {
     "data": {
      "text/html": [
       "Find logs at: <code>../logs/wandb/run-20241127_072526-09jyamix/logs</code>"
      ],
      "text/plain": [
       "<IPython.core.display.HTML object>"
      ]
     },
     "metadata": {},
     "output_type": "display_data"
    }
   ],
   "source": [
    "try:\n",
    "    trainer.fit(train_dataloader, val_dataloader)\n",
    "except KeyboardInterrupt as e:\n",
    "    print(\"Run stopped!\")\n",
    "finally:\n",
    "    wandb.finish()"
   ]
  },
  {
   "cell_type": "markdown",
   "metadata": {},
   "source": [
    "[Metrics](https://api.wandb.ai/links/sampath017/iwrrziwg)"
   ]
  },
  {
   "cell_type": "markdown",
   "metadata": {},
   "source": []
  }
 ],
 "metadata": {
  "accelerator": "TPU",
  "colab": {
   "gpuType": "V28",
   "provenance": []
  },
  "kaggle": {
   "accelerator": "none",
   "dataSources": [
    {
     "datasetId": 5863031,
     "sourceId": 9608953,
     "sourceType": "datasetVersion"
    }
   ],
   "dockerImageVersionId": 30786,
   "isGpuEnabled": false,
   "isInternetEnabled": true,
   "language": "python",
   "sourceType": "notebook"
  },
  "kernelspec": {
   "display_name": "imageclassification-GD_xkN8h-py3.12",
   "language": "python",
   "name": "python3"
  },
  "language_info": {
   "codemirror_mode": {
    "name": "ipython",
    "version": 3
   },
   "file_extension": ".py",
   "mimetype": "text/x-python",
   "name": "python",
   "nbconvert_exporter": "python",
   "pygments_lexer": "ipython3",
   "version": "3.12.1"
  }
 },
 "nbformat": 4,
 "nbformat_minor": 4
}
