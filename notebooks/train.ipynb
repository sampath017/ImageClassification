{
 "cells": [
  {
   "cell_type": "code",
   "execution_count": 1,
   "metadata": {
    "execution": {
     "iopub.execute_input": "2024-10-16T16:18:53.484908Z",
     "iopub.status.busy": "2024-10-16T16:18:53.484604Z",
     "iopub.status.idle": "2024-10-16T16:18:58.953389Z",
     "shell.execute_reply": "2024-10-16T16:18:58.952570Z",
     "shell.execute_reply.started": "2024-10-16T16:18:53.484876Z"
    },
    "trusted": true
   },
   "outputs": [],
   "source": [
    "import torch\n",
    "from torchsummary import summary\n",
    "from torch.utils.data import random_split, DataLoader\n",
    "from torchvision.datasets import CIFAR10, Food101\n",
    "from torchvision.transforms import v2\n",
    "from pathlib import Path\n",
    "import wandb\n",
    "import os\n",
    "import sys\n",
    "\n",
    "sys.path.append(\"../src\")\n",
    "\n",
    "from trainer import Trainer\n",
    "from module import VGGNetModule\n",
    "from utils import model_size\n",
    "from callbacks import OverfitCallback, EarlyStoppingCallback\n",
    "from logger import WandbLogger\n",
    "from dataset import MapDataset"
   ]
  },
  {
   "cell_type": "code",
   "execution_count": 2,
   "metadata": {
    "execution": {
     "iopub.execute_input": "2024-10-16T16:19:22.754626Z",
     "iopub.status.busy": "2024-10-16T16:19:22.754254Z",
     "iopub.status.idle": "2024-10-16T16:19:22.807647Z",
     "shell.execute_reply": "2024-10-16T16:19:22.806609Z",
     "shell.execute_reply.started": "2024-10-16T16:19:22.754579Z"
    },
    "id": "qrqvKqDjWyD9",
    "trusted": true
   },
   "outputs": [],
   "source": [
    "data_path = Path(\"../data\")\n",
    "logs_path = Path(\"../logs\")\n",
    "logs_path.mkdir(exist_ok=True)"
   ]
  },
  {
   "cell_type": "code",
   "execution_count": 3,
   "metadata": {
    "execution": {
     "iopub.execute_input": "2024-10-16T16:18:59.005310Z",
     "iopub.status.busy": "2024-10-16T16:18:59.005021Z",
     "iopub.status.idle": "2024-10-16T16:19:22.752936Z",
     "shell.execute_reply": "2024-10-16T16:19:22.751992Z",
     "shell.execute_reply.started": "2024-10-16T16:18:59.005276Z"
    },
    "id": "e48Wu90cQZYP",
    "outputId": "d2d91142-1b68-465b-d802-9a5c73628a8a",
    "trusted": true
   },
   "outputs": [],
   "source": [
    "logger = WandbLogger(\n",
    "    project_name=\"ImageClassification\",\n",
    "    config={\n",
    "        \"model_architecture\": \"ResNet\",\n",
    "        \"num_model_layers\": 20,\n",
    "        \"batch_size\": 128,\n",
    "        \"max_epochs\": 7,\n",
    "        \"optimizer\": {\n",
    "            \"name\": \"Adam\",\n",
    "        },\n",
    "        \"train_split\": 0.7,\n",
    "        \"val_split\": 0.3\n",
    "    },\n",
    "    logs_path=logs_path\n",
    ")"
   ]
  },
  {
   "cell_type": "code",
   "execution_count": 4,
   "metadata": {
    "execution": {
     "iopub.execute_input": "2024-10-16T16:19:22.817159Z",
     "iopub.status.busy": "2024-10-16T16:19:22.816408Z",
     "iopub.status.idle": "2024-10-16T16:19:26.500427Z",
     "shell.execute_reply": "2024-10-16T16:19:26.499455Z",
     "shell.execute_reply.started": "2024-10-16T16:19:22.817113Z"
    },
    "id": "ZdeO0nyOXfTK",
    "trusted": true
   },
   "outputs": [
    {
     "name": "stdout",
     "output_type": "stream",
     "text": [
      "Files already downloaded and verified\n"
     ]
    }
   ],
   "source": [
    "cpu_count = os.cpu_count()\n",
    "dataset = CIFAR10(data_path, train=True, download=True)\n",
    "\n",
    "train_dataset, val_dataset = random_split(\n",
    "    dataset, [logger.config[\"train_split\"], logger.config[\"val_split\"]]\n",
    ")\n",
    "\n",
    "val_transforms = v2.Compose([\n",
    "    # Normalize\n",
    "    v2.ToImage(),\n",
    "    v2.ToDtype(torch.float32, scale=True),\n",
    "    v2.Normalize(mean=(0.4914, 0.4822, 0.4465), std=(0.2023, 0.1994, 0.2010))\n",
    "])\n",
    "\n",
    "train_dataset = MapDataset(train_dataset, transform=v2.Compose([\n",
    "    # Data auguments\n",
    "    v2.RandomCrop(size=(32, 32), padding=4, padding_mode='reflect'),\n",
    "    v2.RandomHorizontalFlip(),\n",
    "\n",
    "    val_transforms\n",
    "]))\n",
    "\n",
    "val_dataset = MapDataset(val_dataset, transform=val_transforms)\n",
    "\n",
    "train_dataloader = DataLoader(\n",
    "    train_dataset, batch_size=logger.config[\"batch_size\"], shuffle=True, num_workers=cpu_count, pin_memory=True)\n",
    "val_dataloader = DataLoader(\n",
    "    val_dataset, batch_size=logger.config[\"batch_size\"],  num_workers=cpu_count, pin_memory=True)"
   ]
  },
  {
   "cell_type": "code",
   "execution_count": 5,
   "metadata": {},
   "outputs": [],
   "source": [
    "callbacks = [\n",
    "    # EarlyStoppingCallback(min_val_accuracy=90.0, accuracy_diff=5.0, wait_epochs=5),\n",
    "    # OverfitCallback(limit_batches=1, batch_size=10, max_epochs=500, augument_data=False)\n",
    "]"
   ]
  },
  {
   "cell_type": "code",
   "execution_count": 6,
   "metadata": {
    "execution": {
     "iopub.execute_input": "2024-10-16T16:19:26.511478Z",
     "iopub.status.busy": "2024-10-16T16:19:26.511073Z",
     "iopub.status.idle": "2024-10-16T16:19:26.783322Z",
     "shell.execute_reply": "2024-10-16T16:19:26.782365Z",
     "shell.execute_reply.started": "2024-10-16T16:19:26.511414Z"
    },
    "id": "jJEUcS0-Xf9N",
    "trusted": true
   },
   "outputs": [
    {
     "name": "stdout",
     "output_type": "stream",
     "text": [
      "----------------------------------------------------------------\n",
      "        Layer (type)               Output Shape         Param #\n",
      "================================================================\n",
      "            Conv2d-1            [-1, 8, 32, 32]             216\n",
      "       BatchNorm2d-2            [-1, 8, 32, 32]              16\n",
      "              ReLU-3            [-1, 8, 32, 32]               0\n",
      "            Conv2d-4           [-1, 16, 32, 32]           1,152\n",
      "       BatchNorm2d-5           [-1, 16, 32, 32]              32\n",
      "              ReLU-6           [-1, 16, 32, 32]               0\n",
      "         MaxPool2d-7           [-1, 16, 16, 16]               0\n",
      "          VGGBlock-8           [-1, 16, 16, 16]               0\n",
      "            Conv2d-9           [-1, 32, 16, 16]           4,608\n",
      "      BatchNorm2d-10           [-1, 32, 16, 16]              64\n",
      "             ReLU-11           [-1, 32, 16, 16]               0\n",
      "           Conv2d-12           [-1, 64, 16, 16]          18,432\n",
      "      BatchNorm2d-13           [-1, 64, 16, 16]             128\n",
      "             ReLU-14           [-1, 64, 16, 16]               0\n",
      "        MaxPool2d-15             [-1, 64, 8, 8]               0\n",
      "         VGGBlock-16             [-1, 64, 8, 8]               0\n",
      "           Conv2d-17            [-1, 128, 8, 8]          73,728\n",
      "      BatchNorm2d-18            [-1, 128, 8, 8]             256\n",
      "             ReLU-19            [-1, 128, 8, 8]               0\n",
      "           Conv2d-20            [-1, 512, 8, 8]         589,824\n",
      "      BatchNorm2d-21            [-1, 512, 8, 8]           1,024\n",
      "             ReLU-22            [-1, 512, 8, 8]               0\n",
      "        MaxPool2d-23            [-1, 512, 4, 4]               0\n",
      "         VGGBlock-24            [-1, 512, 4, 4]               0\n",
      "           Conv2d-25            [-1, 512, 4, 4]       2,359,296\n",
      "      BatchNorm2d-26            [-1, 512, 4, 4]           1,024\n",
      "             ReLU-27            [-1, 512, 4, 4]               0\n",
      "           Conv2d-28            [-1, 512, 4, 4]       2,359,296\n",
      "      BatchNorm2d-29            [-1, 512, 4, 4]           1,024\n",
      "             ReLU-30            [-1, 512, 4, 4]               0\n",
      "        MaxPool2d-31            [-1, 512, 2, 2]               0\n",
      "         VGGBlock-32            [-1, 512, 2, 2]               0\n",
      "           Conv2d-33            [-1, 512, 2, 2]       2,359,296\n",
      "      BatchNorm2d-34            [-1, 512, 2, 2]           1,024\n",
      "             ReLU-35            [-1, 512, 2, 2]               0\n",
      "           Conv2d-36            [-1, 512, 2, 2]       2,359,296\n",
      "      BatchNorm2d-37            [-1, 512, 2, 2]           1,024\n",
      "             ReLU-38            [-1, 512, 2, 2]               0\n",
      "         VGGBlock-39            [-1, 512, 2, 2]               0\n",
      "           Conv2d-40            [-1, 512, 2, 2]       2,359,296\n",
      "      BatchNorm2d-41            [-1, 512, 2, 2]           1,024\n",
      "             ReLU-42            [-1, 512, 2, 2]               0\n",
      "           Conv2d-43            [-1, 512, 2, 2]       2,359,296\n",
      "      BatchNorm2d-44            [-1, 512, 2, 2]           1,024\n",
      "             ReLU-45            [-1, 512, 2, 2]               0\n",
      "         VGGBlock-46            [-1, 512, 2, 2]               0\n",
      "           Conv2d-47            [-1, 512, 2, 2]       2,359,296\n",
      "      BatchNorm2d-48            [-1, 512, 2, 2]           1,024\n",
      "             ReLU-49            [-1, 512, 2, 2]               0\n",
      "           Conv2d-50            [-1, 512, 2, 2]       2,359,296\n",
      "      BatchNorm2d-51            [-1, 512, 2, 2]           1,024\n",
      "             ReLU-52            [-1, 512, 2, 2]               0\n",
      "         VGGBlock-53            [-1, 512, 2, 2]               0\n",
      "           Conv2d-54            [-1, 512, 2, 2]       2,359,296\n",
      "      BatchNorm2d-55            [-1, 512, 2, 2]           1,024\n",
      "             ReLU-56            [-1, 512, 2, 2]               0\n",
      "           Conv2d-57            [-1, 512, 2, 2]       2,359,296\n",
      "      BatchNorm2d-58            [-1, 512, 2, 2]           1,024\n",
      "             ReLU-59            [-1, 512, 2, 2]               0\n",
      "         VGGBlock-60            [-1, 512, 2, 2]               0\n",
      "           Conv2d-61            [-1, 512, 2, 2]       2,359,296\n",
      "      BatchNorm2d-62            [-1, 512, 2, 2]           1,024\n",
      "             ReLU-63            [-1, 512, 2, 2]               0\n",
      "           Conv2d-64            [-1, 512, 2, 2]       2,359,296\n",
      "      BatchNorm2d-65            [-1, 512, 2, 2]           1,024\n",
      "             ReLU-66            [-1, 512, 2, 2]               0\n",
      "         VGGBlock-67            [-1, 512, 2, 2]               0\n",
      "           Conv2d-68            [-1, 512, 2, 2]       2,359,296\n",
      "      BatchNorm2d-69            [-1, 512, 2, 2]           1,024\n",
      "             ReLU-70            [-1, 512, 2, 2]               0\n",
      "           Conv2d-71            [-1, 512, 2, 2]       2,359,296\n",
      "      BatchNorm2d-72            [-1, 512, 2, 2]           1,024\n",
      "             ReLU-73            [-1, 512, 2, 2]               0\n",
      "         VGGBlock-74            [-1, 512, 2, 2]               0\n",
      "           Conv2d-75            [-1, 512, 2, 2]       2,359,296\n",
      "      BatchNorm2d-76            [-1, 512, 2, 2]           1,024\n",
      "             ReLU-77            [-1, 512, 2, 2]               0\n",
      "           Conv2d-78            [-1, 512, 2, 2]       2,359,296\n",
      "      BatchNorm2d-79            [-1, 512, 2, 2]           1,024\n",
      "             ReLU-80            [-1, 512, 2, 2]               0\n",
      "         VGGBlock-81            [-1, 512, 2, 2]               0\n",
      "           Conv2d-82            [-1, 512, 2, 2]       2,359,296\n",
      "      BatchNorm2d-83            [-1, 512, 2, 2]           1,024\n",
      "             ReLU-84            [-1, 512, 2, 2]               0\n",
      "           Conv2d-85            [-1, 512, 2, 2]       2,359,296\n",
      "      BatchNorm2d-86            [-1, 512, 2, 2]           1,024\n",
      "             ReLU-87            [-1, 512, 2, 2]               0\n",
      "         VGGBlock-88            [-1, 512, 2, 2]               0\n",
      "           Conv2d-89            [-1, 512, 2, 2]       2,359,296\n",
      "      BatchNorm2d-90            [-1, 512, 2, 2]           1,024\n",
      "             ReLU-91            [-1, 512, 2, 2]               0\n",
      "           Conv2d-92            [-1, 512, 2, 2]       2,359,296\n",
      "      BatchNorm2d-93            [-1, 512, 2, 2]           1,024\n",
      "             ReLU-94            [-1, 512, 2, 2]               0\n",
      "         VGGBlock-95            [-1, 512, 2, 2]               0\n",
      "           Conv2d-96            [-1, 512, 2, 2]       2,359,296\n",
      "      BatchNorm2d-97            [-1, 512, 2, 2]           1,024\n",
      "             ReLU-98            [-1, 512, 2, 2]               0\n",
      "           Conv2d-99            [-1, 512, 2, 2]       2,359,296\n",
      "     BatchNorm2d-100            [-1, 512, 2, 2]           1,024\n",
      "            ReLU-101            [-1, 512, 2, 2]               0\n",
      "        VGGBlock-102            [-1, 512, 2, 2]               0\n",
      "          Conv2d-103            [-1, 512, 2, 2]       2,359,296\n",
      "     BatchNorm2d-104            [-1, 512, 2, 2]           1,024\n",
      "            ReLU-105            [-1, 512, 2, 2]               0\n",
      "          Conv2d-106            [-1, 512, 2, 2]       2,359,296\n",
      "     BatchNorm2d-107            [-1, 512, 2, 2]           1,024\n",
      "            ReLU-108            [-1, 512, 2, 2]               0\n",
      "        VGGBlock-109            [-1, 512, 2, 2]               0\n",
      "          Conv2d-110            [-1, 512, 2, 2]       2,359,296\n",
      "     BatchNorm2d-111            [-1, 512, 2, 2]           1,024\n",
      "            ReLU-112            [-1, 512, 2, 2]               0\n",
      "          Conv2d-113            [-1, 512, 2, 2]       2,359,296\n",
      "     BatchNorm2d-114            [-1, 512, 2, 2]           1,024\n",
      "            ReLU-115            [-1, 512, 2, 2]               0\n",
      "        VGGBlock-116            [-1, 512, 2, 2]               0\n",
      "          Conv2d-117            [-1, 512, 2, 2]       2,359,296\n",
      "     BatchNorm2d-118            [-1, 512, 2, 2]           1,024\n",
      "            ReLU-119            [-1, 512, 2, 2]               0\n",
      "          Conv2d-120            [-1, 512, 2, 2]       2,359,296\n",
      "     BatchNorm2d-121            [-1, 512, 2, 2]           1,024\n",
      "            ReLU-122            [-1, 512, 2, 2]               0\n",
      "        VGGBlock-123            [-1, 512, 2, 2]               0\n",
      "          Conv2d-124            [-1, 512, 2, 2]       2,359,296\n",
      "     BatchNorm2d-125            [-1, 512, 2, 2]           1,024\n",
      "            ReLU-126            [-1, 512, 2, 2]               0\n",
      "          Conv2d-127            [-1, 512, 2, 2]       2,359,296\n",
      "     BatchNorm2d-128            [-1, 512, 2, 2]           1,024\n",
      "            ReLU-129            [-1, 512, 2, 2]               0\n",
      "        VGGBlock-130            [-1, 512, 2, 2]               0\n",
      "          Conv2d-131            [-1, 512, 2, 2]       2,359,296\n",
      "     BatchNorm2d-132            [-1, 512, 2, 2]           1,024\n",
      "            ReLU-133            [-1, 512, 2, 2]               0\n",
      "          Conv2d-134            [-1, 512, 2, 2]       2,359,296\n",
      "     BatchNorm2d-135            [-1, 512, 2, 2]           1,024\n",
      "            ReLU-136            [-1, 512, 2, 2]               0\n",
      "        VGGBlock-137            [-1, 512, 2, 2]               0\n",
      "          Conv2d-138            [-1, 512, 2, 2]       2,359,296\n",
      "     BatchNorm2d-139            [-1, 512, 2, 2]           1,024\n",
      "            ReLU-140            [-1, 512, 2, 2]               0\n",
      "          Conv2d-141            [-1, 512, 2, 2]       2,359,296\n",
      "     BatchNorm2d-142            [-1, 512, 2, 2]           1,024\n",
      "            ReLU-143            [-1, 512, 2, 2]               0\n",
      "        VGGBlock-144            [-1, 512, 2, 2]               0\n",
      "          Conv2d-145            [-1, 512, 2, 2]       2,359,296\n",
      "     BatchNorm2d-146            [-1, 512, 2, 2]           1,024\n",
      "            ReLU-147            [-1, 512, 2, 2]               0\n",
      "          Conv2d-148            [-1, 512, 2, 2]       2,359,296\n",
      "     BatchNorm2d-149            [-1, 512, 2, 2]           1,024\n",
      "            ReLU-150            [-1, 512, 2, 2]               0\n",
      "        VGGBlock-151            [-1, 512, 2, 2]               0\n",
      "          Conv2d-152            [-1, 512, 2, 2]       2,359,296\n",
      "     BatchNorm2d-153            [-1, 512, 2, 2]           1,024\n",
      "            ReLU-154            [-1, 512, 2, 2]               0\n",
      "          Conv2d-155            [-1, 512, 2, 2]       2,359,296\n",
      "     BatchNorm2d-156            [-1, 512, 2, 2]           1,024\n",
      "            ReLU-157            [-1, 512, 2, 2]               0\n",
      "        VGGBlock-158            [-1, 512, 2, 2]               0\n",
      "          Conv2d-159            [-1, 512, 2, 2]       2,359,296\n",
      "     BatchNorm2d-160            [-1, 512, 2, 2]           1,024\n",
      "            ReLU-161            [-1, 512, 2, 2]               0\n",
      "          Conv2d-162            [-1, 512, 2, 2]       2,359,296\n",
      "     BatchNorm2d-163            [-1, 512, 2, 2]           1,024\n",
      "            ReLU-164            [-1, 512, 2, 2]               0\n",
      "        VGGBlock-165            [-1, 512, 2, 2]               0\n",
      "          Conv2d-166            [-1, 512, 2, 2]       2,359,296\n",
      "     BatchNorm2d-167            [-1, 512, 2, 2]           1,024\n",
      "            ReLU-168            [-1, 512, 2, 2]               0\n",
      "          Conv2d-169            [-1, 512, 2, 2]       2,359,296\n",
      "     BatchNorm2d-170            [-1, 512, 2, 2]           1,024\n",
      "            ReLU-171            [-1, 512, 2, 2]               0\n",
      "        VGGBlock-172            [-1, 512, 2, 2]               0\n",
      "          Conv2d-173            [-1, 512, 2, 2]       2,359,296\n",
      "     BatchNorm2d-174            [-1, 512, 2, 2]           1,024\n",
      "            ReLU-175            [-1, 512, 2, 2]               0\n",
      "          Conv2d-176            [-1, 512, 2, 2]       2,359,296\n",
      "     BatchNorm2d-177            [-1, 512, 2, 2]           1,024\n",
      "            ReLU-178            [-1, 512, 2, 2]               0\n",
      "        VGGBlock-179            [-1, 512, 2, 2]               0\n",
      "          Conv2d-180            [-1, 512, 2, 2]       2,359,296\n",
      "     BatchNorm2d-181            [-1, 512, 2, 2]           1,024\n",
      "            ReLU-182            [-1, 512, 2, 2]               0\n",
      "          Conv2d-183            [-1, 512, 2, 2]       2,359,296\n",
      "     BatchNorm2d-184            [-1, 512, 2, 2]           1,024\n",
      "            ReLU-185            [-1, 512, 2, 2]               0\n",
      "        VGGBlock-186            [-1, 512, 2, 2]               0\n",
      "          Conv2d-187            [-1, 512, 2, 2]       2,359,296\n",
      "     BatchNorm2d-188            [-1, 512, 2, 2]           1,024\n",
      "            ReLU-189            [-1, 512, 2, 2]               0\n",
      "          Conv2d-190            [-1, 512, 2, 2]       2,359,296\n",
      "     BatchNorm2d-191            [-1, 512, 2, 2]           1,024\n",
      "            ReLU-192            [-1, 512, 2, 2]               0\n",
      "        VGGBlock-193            [-1, 512, 2, 2]               0\n",
      "          Conv2d-194            [-1, 512, 2, 2]       2,359,296\n",
      "     BatchNorm2d-195            [-1, 512, 2, 2]           1,024\n",
      "            ReLU-196            [-1, 512, 2, 2]               0\n",
      "          Conv2d-197            [-1, 512, 2, 2]       2,359,808\n",
      "        VGGBlock-198            [-1, 512, 2, 2]               0\n",
      "          Linear-199                  [-1, 128]         262,272\n",
      "            ReLU-200                  [-1, 128]               0\n",
      "          Linear-201                   [-1, 10]           1,290\n",
      "================================================================\n",
      "Total params: 118,968,530\n",
      "Trainable params: 118,968,530\n",
      "Non-trainable params: 0\n",
      "----------------------------------------------------------------\n",
      "Input size (MB): 0.01\n",
      "Forward/backward pass size (MB): 5.31\n",
      "Params size (MB): 453.83\n",
      "Estimated Total Size (MB): 459.16\n",
      "----------------------------------------------------------------\n"
     ]
    }
   ],
   "source": [
    "module = VGGNetModule()\n",
    "\n",
    "trainer = Trainer(\n",
    "    module=module,\n",
    "    logger=logger,\n",
    "    callbacks=callbacks,\n",
    "    logs_path=logs_path,\n",
    "    fast_dev_run=True,\n",
    "    measure_time=True,\n",
    "    checkpoint=\"best_train\",\n",
    "    num_workers=cpu_count\n",
    ")\n",
    "\n",
    "summary(module.model, input_size=(train_dataset[0][0].shape), device=\"cpu\")"
   ]
  },
  {
   "cell_type": "code",
   "execution_count": 7,
   "metadata": {},
   "outputs": [
    {
     "data": {
      "text/plain": [
       "'cpu'"
      ]
     },
     "execution_count": 7,
     "metadata": {},
     "output_type": "execute_result"
    }
   ],
   "source": [
    "module.device"
   ]
  },
  {
   "cell_type": "code",
   "execution_count": 8,
   "metadata": {
    "execution": {
     "iopub.execute_input": "2024-10-16T16:19:26.784997Z",
     "iopub.status.busy": "2024-10-16T16:19:26.784612Z",
     "iopub.status.idle": "2024-10-16T16:33:32.678177Z",
     "shell.execute_reply": "2024-10-16T16:33:32.677331Z",
     "shell.execute_reply.started": "2024-10-16T16:19:26.784949Z"
    },
    "id": "9SmUWgkRXkng",
    "trusted": true
   },
   "outputs": [
    {
     "name": "stderr",
     "output_type": "stream",
     "text": [
      "\u001b[34m\u001b[1mwandb\u001b[0m: Using wandb-core as the SDK backend.  Please refer to https://wandb.me/wandb-core for more information.\n"
     ]
    },
    {
     "data": {
      "text/html": [
       "Tracking run with wandb version 0.18.7"
      ],
      "text/plain": [
       "<IPython.core.display.HTML object>"
      ]
     },
     "metadata": {},
     "output_type": "display_data"
    },
    {
     "data": {
      "text/html": [
       "W&B syncing is set to <code>`offline`<code> in this directory.  <br/>Run <code>`wandb online`<code> or set <code>WANDB_MODE=online<code> to enable cloud syncing."
      ],
      "text/plain": [
       "<IPython.core.display.HTML object>"
      ]
     },
     "metadata": {},
     "output_type": "display_data"
    },
    {
     "name": "stdout",
     "output_type": "stream",
     "text": [
      "Time per epoch: 60.23 seconds\n",
      "Epoch: 0, train_accuracy: 9.38, val_accuracy: 11.72\n",
      "Sanity check done with fast dev run!\n"
     ]
    },
    {
     "data": {
      "text/html": [
       "\n",
       "    <style>\n",
       "        .wandb-row {\n",
       "            display: flex;\n",
       "            flex-direction: row;\n",
       "            flex-wrap: wrap;\n",
       "            justify-content: flex-start;\n",
       "            width: 100%;\n",
       "        }\n",
       "        .wandb-col {\n",
       "            display: flex;\n",
       "            flex-direction: column;\n",
       "            flex-basis: 100%;\n",
       "            flex: 1;\n",
       "            padding: 10px;\n",
       "        }\n",
       "    </style>\n",
       "<div class=\"wandb-row\"><div class=\"wandb-col\"><h3>Run history:</h3><br/><table class=\"wandb\"><tr><td>epoch</td><td>▁▁</td></tr><tr><td>epoch_train_accuracy</td><td>▁</td></tr><tr><td>epoch_train_loss</td><td>▁</td></tr><tr><td>epoch_val_accuracy</td><td>▁</td></tr><tr><td>epoch_val_loss</td><td>▁</td></tr><tr><td>step</td><td>▁▂▄▅▇█</td></tr></table><br/></div><div class=\"wandb-col\"><h3>Run summary:</h3><br/><table class=\"wandb\"><tr><td>epoch</td><td>0</td></tr><tr><td>epoch_train_accuracy</td><td>9.375</td></tr><tr><td>epoch_train_loss</td><td>2.39833</td></tr><tr><td>epoch_val_accuracy</td><td>11.71875</td></tr><tr><td>epoch_val_loss</td><td>2.30068</td></tr><tr><td>model_architecture</td><td>VGGNet(\n",
       "  (feature_e...</td></tr><tr><td>step</td><td>5</td></tr></table><br/></div></div>"
      ],
      "text/plain": [
       "<IPython.core.display.HTML object>"
      ]
     },
     "metadata": {},
     "output_type": "display_data"
    },
    {
     "data": {
      "text/html": [
       "You can sync this run to the cloud by running:<br/><code>wandb sync ../logs/wandb/offline-run-20241210_193953-gh7mtbr8<code>"
      ],
      "text/plain": [
       "<IPython.core.display.HTML object>"
      ]
     },
     "metadata": {},
     "output_type": "display_data"
    },
    {
     "data": {
      "text/html": [
       "Find logs at: <code>../logs/wandb/offline-run-20241210_193953-gh7mtbr8/logs</code>"
      ],
      "text/plain": [
       "<IPython.core.display.HTML object>"
      ]
     },
     "metadata": {},
     "output_type": "display_data"
    }
   ],
   "source": [
    "try:\n",
    "    trainer.fit(train_dataloader, val_dataloader)\n",
    "except KeyboardInterrupt as e:\n",
    "    print(\"Run stopped!\")\n",
    "finally:\n",
    "    wandb.finish()"
   ]
  },
  {
   "cell_type": "markdown",
   "metadata": {},
   "source": [
    "[Metrics](https://api.wandb.ai/links/sampath017/iwrrziwg)"
   ]
  },
  {
   "cell_type": "markdown",
   "metadata": {},
   "source": []
  }
 ],
 "metadata": {
  "accelerator": "TPU",
  "colab": {
   "gpuType": "V28",
   "provenance": []
  },
  "kaggle": {
   "accelerator": "none",
   "dataSources": [
    {
     "datasetId": 5863031,
     "sourceId": 9608953,
     "sourceType": "datasetVersion"
    }
   ],
   "dockerImageVersionId": 30786,
   "isGpuEnabled": false,
   "isInternetEnabled": true,
   "language": "python",
   "sourceType": "notebook"
  },
  "kernelspec": {
   "display_name": "imageclassification-GD_xkN8h-py3.12",
   "language": "python",
   "name": "python3"
  },
  "language_info": {
   "codemirror_mode": {
    "name": "ipython",
    "version": 3
   },
   "file_extension": ".py",
   "mimetype": "text/x-python",
   "name": "python",
   "nbconvert_exporter": "python",
   "pygments_lexer": "ipython3",
   "version": "3.12.1"
  }
 },
 "nbformat": 4,
 "nbformat_minor": 4
}
