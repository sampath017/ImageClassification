{
 "cells": [
  {
   "cell_type": "code",
   "execution_count": 1,
   "metadata": {
    "execution": {
     "iopub.execute_input": "2024-10-16T16:18:53.484908Z",
     "iopub.status.busy": "2024-10-16T16:18:53.484604Z",
     "iopub.status.idle": "2024-10-16T16:18:58.953389Z",
     "shell.execute_reply": "2024-10-16T16:18:58.952570Z",
     "shell.execute_reply.started": "2024-10-16T16:18:53.484876Z"
    },
    "trusted": true
   },
   "outputs": [],
   "source": [
    "import torch\n",
    "from torchsummary import summary\n",
    "from torch.utils.data import random_split, DataLoader\n",
    "from torchvision.datasets import CIFAR10\n",
    "from torchvision.transforms import v2\n",
    "from pathlib import Path\n",
    "import wandb\n",
    "\n",
    "import sys\n",
    "\n",
    "sys.path.append(\"../src\")\n",
    "\n",
    "from trainer import Trainer\n",
    "from module import VGGNetModule\n",
    "from utils import model_size\n",
    "from callbacks import OverfitCallback, EarlyStoppingCallback\n",
    "from logger import WandbLogger"
   ]
  },
  {
   "cell_type": "code",
   "execution_count": 2,
   "metadata": {
    "execution": {
     "iopub.execute_input": "2024-10-16T16:19:22.754626Z",
     "iopub.status.busy": "2024-10-16T16:19:22.754254Z",
     "iopub.status.idle": "2024-10-16T16:19:22.807647Z",
     "shell.execute_reply": "2024-10-16T16:19:22.806609Z",
     "shell.execute_reply.started": "2024-10-16T16:19:22.754579Z"
    },
    "id": "qrqvKqDjWyD9",
    "trusted": true
   },
   "outputs": [],
   "source": [
    "data_path = Path(\"../data\")\n",
    "logs_path = Path(\"../logs\")\n",
    "logs_path.mkdir(exist_ok=True)"
   ]
  },
  {
   "cell_type": "code",
   "execution_count": 3,
   "metadata": {
    "execution": {
     "iopub.execute_input": "2024-10-16T16:18:59.005310Z",
     "iopub.status.busy": "2024-10-16T16:18:59.005021Z",
     "iopub.status.idle": "2024-10-16T16:19:22.752936Z",
     "shell.execute_reply": "2024-10-16T16:19:22.751992Z",
     "shell.execute_reply.started": "2024-10-16T16:18:59.005276Z"
    },
    "id": "e48Wu90cQZYP",
    "outputId": "d2d91142-1b68-465b-d802-9a5c73628a8a",
    "trusted": true
   },
   "outputs": [],
   "source": [
    "logger = WandbLogger(\n",
    "    project_name=\"ImageClassification\",\n",
    "    config={\n",
    "        \"model_architecture\": \"VGGNet\",\n",
    "        \"batch_size\": 64,\n",
    "        \"max_epochs\": 100,\n",
    "        \"optimizer\": {\n",
    "            \"name\": \"Adam\",\n",
    "        },\n",
    "        \"train_split\": 42_000,\n",
    "        \"val_split\": 8000\n",
    "    },\n",
    "    logs_path=logs_path\n",
    ")"
   ]
  },
  {
   "cell_type": "code",
   "execution_count": 4,
   "metadata": {
    "execution": {
     "iopub.execute_input": "2024-10-16T16:19:22.817159Z",
     "iopub.status.busy": "2024-10-16T16:19:22.816408Z",
     "iopub.status.idle": "2024-10-16T16:19:26.500427Z",
     "shell.execute_reply": "2024-10-16T16:19:26.499455Z",
     "shell.execute_reply.started": "2024-10-16T16:19:22.817113Z"
    },
    "id": "ZdeO0nyOXfTK",
    "trusted": true
   },
   "outputs": [
    {
     "name": "stdout",
     "output_type": "stream",
     "text": [
      "Files already downloaded and verified\n"
     ]
    }
   ],
   "source": [
    "dataset = CIFAR10(data_path, train=True, download=True, transform=v2.Compose([\n",
    "    # Normalize\n",
    "    v2.ToImage(),\n",
    "    v2.ToDtype(torch.float32, scale=True),\n",
    "    v2.Normalize(mean=(0.4914, 0.4822, 0.4465), std=(0.2023, 0.1994, 0.2010))\n",
    "]))\n",
    "\n",
    "train_dataset, val_dataset = random_split(\n",
    "    dataset, [logger.config[\"train_split\"], logger.config[\"val_split\"]])\n",
    "\n",
    "train_dataloader = DataLoader(\n",
    "    train_dataset, batch_size=logger.config[\"batch_size\"], shuffle=True)\n",
    "val_dataloader = DataLoader(val_dataset, batch_size=logger.config[\"batch_size\"])"
   ]
  },
  {
   "cell_type": "code",
   "execution_count": 5,
   "metadata": {},
   "outputs": [],
   "source": [
    "callbacks = [\n",
    "    EarlyStoppingCallback(min_val_accuracy=80.0, accuracy_diff=4.0, wait_epochs=5),\n",
    "    OverfitCallback(limit_batches=2, max_epochs=200),\n",
    "]"
   ]
  },
  {
   "cell_type": "code",
   "execution_count": 6,
   "metadata": {
    "execution": {
     "iopub.execute_input": "2024-10-16T16:19:26.511478Z",
     "iopub.status.busy": "2024-10-16T16:19:26.511073Z",
     "iopub.status.idle": "2024-10-16T16:19:26.783322Z",
     "shell.execute_reply": "2024-10-16T16:19:26.782365Z",
     "shell.execute_reply.started": "2024-10-16T16:19:26.511414Z"
    },
    "id": "jJEUcS0-Xf9N",
    "trusted": true
   },
   "outputs": [
    {
     "name": "stdout",
     "output_type": "stream",
     "text": [
      "model size: 0.02 MB\n"
     ]
    }
   ],
   "source": [
    "module = VGGNetModule()\n",
    "\n",
    "trainer = Trainer(\n",
    "    module=module,\n",
    "    logger=logger,\n",
    "    callbacks=callbacks,\n",
    "    logs_path=logs_path,\n",
    "    fast_dev_run=False,\n",
    "    measure_time=True\n",
    ")\n",
    "\n",
    "model_size(module.model)"
   ]
  },
  {
   "cell_type": "code",
   "execution_count": 7,
   "metadata": {},
   "outputs": [
    {
     "data": {
      "text/plain": [
       "'cuda'"
      ]
     },
     "execution_count": 7,
     "metadata": {},
     "output_type": "execute_result"
    }
   ],
   "source": [
    "module.device"
   ]
  },
  {
   "cell_type": "code",
   "execution_count": 8,
   "metadata": {
    "execution": {
     "iopub.execute_input": "2024-10-16T16:19:26.784997Z",
     "iopub.status.busy": "2024-10-16T16:19:26.784612Z",
     "iopub.status.idle": "2024-10-16T16:33:32.678177Z",
     "shell.execute_reply": "2024-10-16T16:33:32.677331Z",
     "shell.execute_reply.started": "2024-10-16T16:19:26.784949Z"
    },
    "id": "9SmUWgkRXkng",
    "trusted": true
   },
   "outputs": [
    {
     "name": "stderr",
     "output_type": "stream",
     "text": [
      "\u001b[34m\u001b[1mwandb\u001b[0m: Using wandb-core as the SDK backend.  Please refer to https://wandb.me/wandb-core for more information.\n"
     ]
    },
    {
     "name": "stderr",
     "output_type": "stream",
     "text": [
      "\u001b[34m\u001b[1mwandb\u001b[0m: Logging into wandb.ai. (Learn how to deploy a W&B server locally: https://wandb.me/wandb-server)\n",
      "\u001b[34m\u001b[1mwandb\u001b[0m: You can find your API key in your browser here: https://wandb.ai/authorize\n",
      "\u001b[34m\u001b[1mwandb\u001b[0m: Paste an API key from your profile and hit enter, or press ctrl+c to quit:\u001b[34m\u001b[1mwandb\u001b[0m: Appending key for api.wandb.ai to your netrc file: /root/.netrc\n"
     ]
    },
    {
     "data": {
      "text/html": [
       "Tracking run with wandb version 0.18.7"
      ],
      "text/plain": [
       "<IPython.core.display.HTML object>"
      ]
     },
     "metadata": {},
     "output_type": "display_data"
    },
    {
     "data": {
      "text/html": [
       "Run data is saved locally in <code>../logs/wandb/run-20241205_190210-cmziq3lu</code>"
      ],
      "text/plain": [
       "<IPython.core.display.HTML object>"
      ]
     },
     "metadata": {},
     "output_type": "display_data"
    },
    {
     "data": {
      "text/html": [
       "Syncing run <strong><a href='https://wandb.ai/sampath017/ImageClassification/runs/cmziq3lu' target=\"_blank\">zany-fog-202</a></strong> to <a href='https://wandb.ai/sampath017/ImageClassification' target=\"_blank\">Weights & Biases</a> (<a href='https://wandb.me/developer-guide' target=\"_blank\">docs</a>)<br/>"
      ],
      "text/plain": [
       "<IPython.core.display.HTML object>"
      ]
     },
     "metadata": {},
     "output_type": "display_data"
    },
    {
     "data": {
      "text/html": [
       " View project at <a href='https://wandb.ai/sampath017/ImageClassification' target=\"_blank\">https://wandb.ai/sampath017/ImageClassification</a>"
      ],
      "text/plain": [
       "<IPython.core.display.HTML object>"
      ]
     },
     "metadata": {},
     "output_type": "display_data"
    },
    {
     "data": {
      "text/html": [
       " View run at <a href='https://wandb.ai/sampath017/ImageClassification/runs/cmziq3lu' target=\"_blank\">https://wandb.ai/sampath017/ImageClassification/runs/cmziq3lu</a>"
      ],
      "text/plain": [
       "<IPython.core.display.HTML object>"
      ]
     },
     "metadata": {},
     "output_type": "display_data"
    },
    {
     "name": "stdout",
     "output_type": "stream",
     "text": [
      "Time per epoch: 12.76 seconds\n",
      "Epoch: 0, train_accuracy: 33.64, val_accuracy: 44.71\n",
      "Epoch: 1, train_accuracy: 48.77, val_accuracy: 48.03\n",
      "Epoch: 2, train_accuracy: 53.86, val_accuracy: 52.78\n",
      "Epoch: 3, train_accuracy: 56.48, val_accuracy: 53.49\n",
      "Epoch: 4, train_accuracy: 58.79, val_accuracy: 56.42\n",
      "Epoch: 5, train_accuracy: 60.25, val_accuracy: 59.51\n",
      "Epoch: 6, train_accuracy: 61.39, val_accuracy: 59.04\n",
      "Epoch: 7, train_accuracy: 62.40, val_accuracy: 58.67\n",
      "Epoch: 8, train_accuracy: 63.24, val_accuracy: 61.10\n",
      "Epoch: 9, train_accuracy: 64.08, val_accuracy: 59.44\n",
      "Epoch: 10, train_accuracy: 64.74, val_accuracy: 62.84\n",
      "Epoch: 11, train_accuracy: 65.48, val_accuracy: 62.69\n",
      "Epoch: 12, train_accuracy: 65.67, val_accuracy: 62.79\n",
      "Epoch: 13, train_accuracy: 66.35, val_accuracy: 63.34\n",
      "Epoch: 14, train_accuracy: 66.71, val_accuracy: 63.62\n",
      "Epoch: 15, train_accuracy: 67.05, val_accuracy: 63.78\n",
      "Epoch: 16, train_accuracy: 67.09, val_accuracy: 64.28\n",
      "Epoch: 17, train_accuracy: 67.43, val_accuracy: 65.04\n",
      "Epoch: 18, train_accuracy: 67.87, val_accuracy: 63.51\n",
      "Epoch: 19, train_accuracy: 68.02, val_accuracy: 62.39\n",
      "Epoch: 20, train_accuracy: 68.19, val_accuracy: 64.54\n",
      "Epoch: 21, train_accuracy: 68.39, val_accuracy: 65.57\n",
      "Epoch: 22, train_accuracy: 68.68, val_accuracy: 64.45\n",
      "Epoch: 23, train_accuracy: 68.90, val_accuracy: 65.30\n",
      "Epoch: 24, train_accuracy: 69.22, val_accuracy: 66.07\n",
      "Epoch: 25, train_accuracy: 69.37, val_accuracy: 64.28\n",
      "Epoch: 26, train_accuracy: 69.68, val_accuracy: 64.47\n",
      "Epoch: 27, train_accuracy: 69.89, val_accuracy: 66.34\n",
      "Epoch: 28, train_accuracy: 69.68, val_accuracy: 64.81\n",
      "Epoch: 29, train_accuracy: 69.79, val_accuracy: 65.44\n",
      "Epoch: 30, train_accuracy: 69.93, val_accuracy: 65.78\n",
      "Epoch: 31, train_accuracy: 69.99, val_accuracy: 65.94\n",
      "Epoch: 32, train_accuracy: 70.33, val_accuracy: 65.85\n",
      "Epoch: 33, train_accuracy: 70.32, val_accuracy: 66.71\n",
      "Epoch: 34, train_accuracy: 70.43, val_accuracy: 66.66\n",
      "Epoch: 35, train_accuracy: 70.34, val_accuracy: 67.05\n",
      "Epoch: 36, train_accuracy: 70.57, val_accuracy: 66.25\n",
      "Epoch: 37, train_accuracy: 70.79, val_accuracy: 65.45\n",
      "Epoch: 38, train_accuracy: 70.74, val_accuracy: 65.88\n",
      "Epoch: 39, train_accuracy: 70.75, val_accuracy: 66.93\n",
      "Epoch: 40, train_accuracy: 71.19, val_accuracy: 65.93\n",
      "Epoch: 41, train_accuracy: 71.01, val_accuracy: 66.05\n",
      "Epoch: 42, train_accuracy: 71.21, val_accuracy: 66.49\n",
      "Epoch: 43, train_accuracy: 71.14, val_accuracy: 66.72\n",
      "Epoch: 44, train_accuracy: 71.24, val_accuracy: 66.43\n",
      "Epoch: 45, train_accuracy: 71.20, val_accuracy: 65.11\n",
      "Epoch: 46, train_accuracy: 71.41, val_accuracy: 66.12\n",
      "Epoch: 47, train_accuracy: 71.23, val_accuracy: 66.97\n",
      "Epoch: 48, train_accuracy: 71.45, val_accuracy: 67.16\n",
      "Epoch: 49, train_accuracy: 71.66, val_accuracy: 66.56\n",
      "Epoch: 50, train_accuracy: 71.70, val_accuracy: 66.79\n",
      "Epoch: 51, train_accuracy: 71.93, val_accuracy: 66.95\n",
      "Epoch: 52, train_accuracy: 71.76, val_accuracy: 67.11\n",
      "Epoch: 53, train_accuracy: 71.89, val_accuracy: 64.81\n",
      "Epoch: 54, train_accuracy: 72.07, val_accuracy: 67.62\n",
      "Epoch: 55, train_accuracy: 71.78, val_accuracy: 67.11\n",
      "Epoch: 56, train_accuracy: 72.02, val_accuracy: 67.11\n",
      "Epoch: 57, train_accuracy: 71.83, val_accuracy: 67.66\n",
      "Epoch: 58, train_accuracy: 72.09, val_accuracy: 67.04\n",
      "Epoch: 59, train_accuracy: 71.99, val_accuracy: 66.69\n",
      "Epoch: 60, train_accuracy: 72.32, val_accuracy: 67.68\n",
      "Epoch: 61, train_accuracy: 72.54, val_accuracy: 67.06\n",
      "Epoch: 62, train_accuracy: 72.37, val_accuracy: 67.70\n",
      "Epoch: 63, train_accuracy: 72.31, val_accuracy: 67.38\n",
      "Epoch: 64, train_accuracy: 72.51, val_accuracy: 66.94\n",
      "Epoch: 65, train_accuracy: 72.41, val_accuracy: 67.65\n",
      "Epoch: 66, train_accuracy: 72.35, val_accuracy: 67.47\n",
      "Epoch: 67, train_accuracy: 72.48, val_accuracy: 65.49\n",
      "Epoch: 68, train_accuracy: 72.57, val_accuracy: 67.01\n",
      "Epoch: 69, train_accuracy: 72.71, val_accuracy: 67.22\n",
      "Epoch: 70, train_accuracy: 72.63, val_accuracy: 67.59\n",
      "Epoch: 71, train_accuracy: 72.78, val_accuracy: 67.20\n",
      "Epoch: 72, train_accuracy: 72.62, val_accuracy: 67.56\n",
      "Epoch: 73, train_accuracy: 72.65, val_accuracy: 67.45\n",
      "Epoch: 74, train_accuracy: 72.89, val_accuracy: 67.32\n",
      "Epoch: 75, train_accuracy: 72.71, val_accuracy: 67.85\n",
      "Epoch: 76, train_accuracy: 73.03, val_accuracy: 67.19\n",
      "Epoch: 77, train_accuracy: 72.79, val_accuracy: 67.00\n",
      "Epoch: 78, train_accuracy: 72.69, val_accuracy: 66.55\n",
      "Epoch: 79, train_accuracy: 72.88, val_accuracy: 67.91\n",
      "Epoch: 80, train_accuracy: 73.14, val_accuracy: 66.90\n",
      "Epoch: 81, train_accuracy: 73.02, val_accuracy: 67.71\n",
      "Epoch: 82, train_accuracy: 72.90, val_accuracy: 67.90\n",
      "Epoch: 83, train_accuracy: 73.22, val_accuracy: 67.79\n",
      "Epoch: 84, train_accuracy: 73.19, val_accuracy: 67.76\n",
      "Epoch: 85, train_accuracy: 73.12, val_accuracy: 67.56\n",
      "Epoch: 86, train_accuracy: 73.19, val_accuracy: 67.21\n",
      "Epoch: 87, train_accuracy: 73.44, val_accuracy: 67.24\n",
      "Epoch: 88, train_accuracy: 73.15, val_accuracy: 67.05\n",
      "Epoch: 89, train_accuracy: 73.58, val_accuracy: 67.15\n",
      "Epoch: 90, train_accuracy: 73.29, val_accuracy: 67.46\n",
      "Epoch: 91, train_accuracy: 73.43, val_accuracy: 67.45\n",
      "Epoch: 92, train_accuracy: 73.47, val_accuracy: 67.29\n",
      "Epoch: 93, train_accuracy: 73.35, val_accuracy: 66.85\n",
      "Epoch: 94, train_accuracy: 73.34, val_accuracy: 66.47\n",
      "Epoch: 95, train_accuracy: 73.56, val_accuracy: 66.93\n",
      "Epoch: 96, train_accuracy: 73.57, val_accuracy: 66.84\n",
      "Epoch: 97, train_accuracy: 73.53, val_accuracy: 67.38\n",
      "Epoch: 98, train_accuracy: 73.73, val_accuracy: 67.41\n",
      "Epoch: 99, train_accuracy: 73.48, val_accuracy: 67.34\n"
     ]
    },
    {
     "data": {
      "text/html": [
       "\n",
       "    <style>\n",
       "        .wandb-row {\n",
       "            display: flex;\n",
       "            flex-direction: row;\n",
       "            flex-wrap: wrap;\n",
       "            justify-content: flex-start;\n",
       "            width: 100%;\n",
       "        }\n",
       "        .wandb-col {\n",
       "            display: flex;\n",
       "            flex-direction: column;\n",
       "            flex-basis: 100%;\n",
       "            flex: 1;\n",
       "            padding: 10px;\n",
       "        }\n",
       "    </style>\n",
       "<div class=\"wandb-row\"><div class=\"wandb-col\"><h3>Run history:</h3><br/><table class=\"wandb\"><tr><td>epoch</td><td>▁▁▁▁▂▂▂▂▂▂▃▃▃▃▄▄▄▄▄▄▄▅▅▅▅▅▅▆▆▆▆▆▆▆▇▇▇▇██</td></tr><tr><td>epoch_train_accuracy</td><td>▁▅▆▆▆▆▇▇▇▇▇▇▇▇▇▇▇▇▇█████████████████████</td></tr><tr><td>epoch_train_loss</td><td>█▅▄▄▄▃▂▂▂▂▂▂▂▂▂▂▂▂▂▂▁▁▁▁▁▁▁▁▁▁▁▁▁▁▁▁▁▁▁▁</td></tr><tr><td>epoch_val_accuracy</td><td>▁▃▄▅▅▆▆▆▇▇▇▇▇▇▇▇███▇▇█████▇█████████████</td></tr><tr><td>epoch_val_loss</td><td>█▆▅▄▃▂▃▂▂▂▂▂▁▁▁▂▂▁▂▁▁▂▁▁▁▁▁▁▁▁▁▁▁▁▁▁▁▂▂▁</td></tr><tr><td>step</td><td>▅▁▇▂▆▃█▆▇▂▂▅▅▄██▄▅▅▃▇▇▅▁█▅▅▄▅▅▁▆▂▇▂▄▄▁▅▆</td></tr></table><br/></div><div class=\"wandb-col\"><h3>Run summary:</h3><br/><table class=\"wandb\"><tr><td>epoch</td><td>99</td></tr><tr><td>epoch_train_accuracy</td><td>73.48269</td></tr><tr><td>epoch_train_loss</td><td>0.74564</td></tr><tr><td>epoch_val_accuracy</td><td>67.3375</td></tr><tr><td>epoch_val_loss</td><td>0.93405</td></tr><tr><td>model_architecture</td><td>VGGNet(\n",
       "  (feature_e...</td></tr><tr><td>step</td><td>656</td></tr></table><br/></div></div>"
      ],
      "text/plain": [
       "<IPython.core.display.HTML object>"
      ]
     },
     "metadata": {},
     "output_type": "display_data"
    },
    {
     "data": {
      "text/html": [
       " View run <strong style=\"color:#cdcd00\">zany-fog-202</strong> at: <a href='https://wandb.ai/sampath017/ImageClassification/runs/cmziq3lu' target=\"_blank\">https://wandb.ai/sampath017/ImageClassification/runs/cmziq3lu</a><br/> View project at: <a href='https://wandb.ai/sampath017/ImageClassification' target=\"_blank\">https://wandb.ai/sampath017/ImageClassification</a><br/>Synced 5 W&B file(s), 0 media file(s), 200 artifact file(s) and 0 other file(s)"
      ],
      "text/plain": [
       "<IPython.core.display.HTML object>"
      ]
     },
     "metadata": {},
     "output_type": "display_data"
    },
    {
     "data": {
      "text/html": [
       "Find logs at: <code>../logs/wandb/run-20241205_190210-cmziq3lu/logs</code>"
      ],
      "text/plain": [
       "<IPython.core.display.HTML object>"
      ]
     },
     "metadata": {},
     "output_type": "display_data"
    }
   ],
   "source": [
    "try:\n",
    "    trainer.fit(train_dataloader, val_dataloader)\n",
    "except KeyboardInterrupt as e:\n",
    "    print(\"Run stopped!\")\n",
    "finally:\n",
    "    wandb.finish()"
   ]
  },
  {
   "cell_type": "markdown",
   "metadata": {},
   "source": [
    "[Metrics](https://api.wandb.ai/links/sampath017/iwrrziwg)"
   ]
  },
  {
   "cell_type": "markdown",
   "metadata": {},
   "source": []
  }
 ],
 "metadata": {
  "accelerator": "TPU",
  "colab": {
   "gpuType": "V28",
   "provenance": []
  },
  "kaggle": {
   "accelerator": "none",
   "dataSources": [
    {
     "datasetId": 5863031,
     "sourceId": 9608953,
     "sourceType": "datasetVersion"
    }
   ],
   "dockerImageVersionId": 30786,
   "isGpuEnabled": false,
   "isInternetEnabled": true,
   "language": "python",
   "sourceType": "notebook"
  },
  "kernelspec": {
   "display_name": ".venv",
   "language": "python",
   "name": "python3"
  },
  "language_info": {
   "codemirror_mode": {
    "name": "ipython",
    "version": 3
   },
   "file_extension": ".py",
   "mimetype": "text/x-python",
   "name": "python",
   "nbconvert_exporter": "python",
   "pygments_lexer": "ipython3",
   "version": "3.12.8"
  }
 },
 "nbformat": 4,
 "nbformat_minor": 4
}
